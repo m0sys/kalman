{
 "cells": [
  {
   "cell_type": "markdown",
   "metadata": {},
   "source": [
    "# Allanvariance Analysis of IMU Sensor\n",
    "\n",
    "References:\n",
    "- https://en.wikipedia.org/wiki/Allan_variance\n",
    "- https://www.mathworks.com/help/nav/ug/inertial-sensor-noise-analysis-using-allan-variance.html"
   ]
  },
  {
   "cell_type": "code",
   "execution_count": 1,
   "metadata": {},
   "outputs": [],
   "source": [
    "import numpy as np\n",
    "import pandas as pd\n",
    "import matplotlib.pyplot as plt\n",
    "import allantools as av"
   ]
  },
  {
   "cell_type": "code",
   "execution_count": 2,
   "metadata": {},
   "outputs": [],
   "source": [
    "stat_acc_df = pd.read_csv(\"../data/stationary_acc.csv\")\n",
    "stat_gyr_df = pd.read_csv(\"../data/stationary_gyr.csv\")"
   ]
  },
  {
   "cell_type": "code",
   "execution_count": 15,
   "metadata": {},
   "outputs": [],
   "source": [
    "def find_log_slope(xdat, ydat, i0=None, i1=None):\n",
    "    assert len(ydat) == len(xdat)\n",
    "    if i0 is None:\n",
    "        i0 = len(ydat) // 2\n",
    "    if i1 is None:\n",
    "        i1 = len(ydat) - 1\n",
    "    y1 = ydat[i1]\n",
    "    y0 = ydat[i0]\n",
    "    x1 = xdat[i1]\n",
    "    x0 = xdat[i0]\n",
    "    y1log = np.log10(y1)\n",
    "    y0log = np.log10(y0)\n",
    "    x1log = np.log10(x1)\n",
    "    x0log = np.log10(x0)\n",
    "    return (y1log - y0log) / (x1log - x0log)"
   ]
  },
  {
   "cell_type": "markdown",
   "metadata": {},
   "source": [
    "## Accelerometer White Noise Analysis\n",
    "\n",
    "Deliverables:\n",
    "- Allanvariance loglog plot of Accelerometer's yaxis\n",
    "- Find slope of white noise porition and verify that its Gaussian (m = -0.5) "
   ]
  },
  {
   "cell_type": "code",
   "execution_count": 3,
   "metadata": {},
   "outputs": [
    {
     "data": {
      "text/html": [
       "<div>\n",
       "<style scoped>\n",
       "    .dataframe tbody tr th:only-of-type {\n",
       "        vertical-align: middle;\n",
       "    }\n",
       "\n",
       "    .dataframe tbody tr th {\n",
       "        vertical-align: top;\n",
       "    }\n",
       "\n",
       "    .dataframe thead th {\n",
       "        text-align: right;\n",
       "    }\n",
       "</style>\n",
       "<table border=\"1\" class=\"dataframe\">\n",
       "  <thead>\n",
       "    <tr style=\"text-align: right;\">\n",
       "      <th></th>\n",
       "      <th>Time (s)</th>\n",
       "      <th>Acceleration x (m/s^2)</th>\n",
       "      <th>Acceleration y (m/s^2)</th>\n",
       "      <th>Acceleration z (m/s^2)</th>\n",
       "    </tr>\n",
       "  </thead>\n",
       "  <tbody>\n",
       "    <tr>\n",
       "      <th>0</th>\n",
       "      <td>0.069651</td>\n",
       "      <td>0.080758</td>\n",
       "      <td>-0.120838</td>\n",
       "      <td>9.752547</td>\n",
       "    </tr>\n",
       "    <tr>\n",
       "      <th>1</th>\n",
       "      <td>0.119651</td>\n",
       "      <td>0.085543</td>\n",
       "      <td>-0.101695</td>\n",
       "      <td>9.756734</td>\n",
       "    </tr>\n",
       "    <tr>\n",
       "      <th>2</th>\n",
       "      <td>0.169651</td>\n",
       "      <td>0.090329</td>\n",
       "      <td>-0.106481</td>\n",
       "      <td>9.747163</td>\n",
       "    </tr>\n",
       "    <tr>\n",
       "      <th>3</th>\n",
       "      <td>0.219651</td>\n",
       "      <td>0.066401</td>\n",
       "      <td>-0.105882</td>\n",
       "      <td>9.766306</td>\n",
       "    </tr>\n",
       "    <tr>\n",
       "      <th>4</th>\n",
       "      <td>0.269651</td>\n",
       "      <td>0.080758</td>\n",
       "      <td>-0.111266</td>\n",
       "      <td>9.751948</td>\n",
       "    </tr>\n",
       "  </tbody>\n",
       "</table>\n",
       "</div>"
      ],
      "text/plain": [
       "   Time (s)  Acceleration x (m/s^2)  Acceleration y (m/s^2)  \\\n",
       "0  0.069651                0.080758               -0.120838   \n",
       "1  0.119651                0.085543               -0.101695   \n",
       "2  0.169651                0.090329               -0.106481   \n",
       "3  0.219651                0.066401               -0.105882   \n",
       "4  0.269651                0.080758               -0.111266   \n",
       "\n",
       "   Acceleration z (m/s^2)  \n",
       "0                9.752547  \n",
       "1                9.756734  \n",
       "2                9.747163  \n",
       "3                9.766306  \n",
       "4                9.751948  "
      ]
     },
     "execution_count": 3,
     "metadata": {},
     "output_type": "execute_result"
    }
   ],
   "source": [
    "stat_acc_df.head()"
   ]
  },
  {
   "cell_type": "code",
   "execution_count": 4,
   "metadata": {},
   "outputs": [
    {
     "data": {
      "text/html": [
       "<div>\n",
       "<style scoped>\n",
       "    .dataframe tbody tr th:only-of-type {\n",
       "        vertical-align: middle;\n",
       "    }\n",
       "\n",
       "    .dataframe tbody tr th {\n",
       "        vertical-align: top;\n",
       "    }\n",
       "\n",
       "    .dataframe thead th {\n",
       "        text-align: right;\n",
       "    }\n",
       "</style>\n",
       "<table border=\"1\" class=\"dataframe\">\n",
       "  <thead>\n",
       "    <tr style=\"text-align: right;\">\n",
       "      <th></th>\n",
       "      <th>Time (s)</th>\n",
       "      <th>Acceleration x (m/s^2)</th>\n",
       "      <th>Acceleration y (m/s^2)</th>\n",
       "      <th>Acceleration z (m/s^2)</th>\n",
       "    </tr>\n",
       "  </thead>\n",
       "  <tbody>\n",
       "    <tr>\n",
       "      <th>count</th>\n",
       "      <td>50208.000000</td>\n",
       "      <td>50208.000000</td>\n",
       "      <td>50208.000000</td>\n",
       "      <td>50208.000000</td>\n",
       "    </tr>\n",
       "    <tr>\n",
       "      <th>mean</th>\n",
       "      <td>1255.244651</td>\n",
       "      <td>0.076074</td>\n",
       "      <td>-0.116533</td>\n",
       "      <td>9.757696</td>\n",
       "    </tr>\n",
       "    <tr>\n",
       "      <th>std</th>\n",
       "      <td>724.697275</td>\n",
       "      <td>0.007860</td>\n",
       "      <td>0.009195</td>\n",
       "      <td>0.011075</td>\n",
       "    </tr>\n",
       "    <tr>\n",
       "      <th>min</th>\n",
       "      <td>0.069651</td>\n",
       "      <td>-0.141775</td>\n",
       "      <td>-0.498305</td>\n",
       "      <td>9.490533</td>\n",
       "    </tr>\n",
       "    <tr>\n",
       "      <th>25%</th>\n",
       "      <td>627.657151</td>\n",
       "      <td>0.071186</td>\n",
       "      <td>-0.123230</td>\n",
       "      <td>9.751350</td>\n",
       "    </tr>\n",
       "    <tr>\n",
       "      <th>50%</th>\n",
       "      <td>1255.244651</td>\n",
       "      <td>0.075972</td>\n",
       "      <td>-0.116650</td>\n",
       "      <td>9.757333</td>\n",
       "    </tr>\n",
       "    <tr>\n",
       "      <th>75%</th>\n",
       "      <td>1882.832151</td>\n",
       "      <td>0.080758</td>\n",
       "      <td>-0.110668</td>\n",
       "      <td>9.766306</td>\n",
       "    </tr>\n",
       "    <tr>\n",
       "      <th>max</th>\n",
       "      <td>2510.419651</td>\n",
       "      <td>0.185444</td>\n",
       "      <td>0.115454</td>\n",
       "      <td>10.130613</td>\n",
       "    </tr>\n",
       "  </tbody>\n",
       "</table>\n",
       "</div>"
      ],
      "text/plain": [
       "           Time (s)  Acceleration x (m/s^2)  Acceleration y (m/s^2)  \\\n",
       "count  50208.000000            50208.000000            50208.000000   \n",
       "mean    1255.244651                0.076074               -0.116533   \n",
       "std      724.697275                0.007860                0.009195   \n",
       "min        0.069651               -0.141775               -0.498305   \n",
       "25%      627.657151                0.071186               -0.123230   \n",
       "50%     1255.244651                0.075972               -0.116650   \n",
       "75%     1882.832151                0.080758               -0.110668   \n",
       "max     2510.419651                0.185444                0.115454   \n",
       "\n",
       "       Acceleration z (m/s^2)  \n",
       "count            50208.000000  \n",
       "mean                 9.757696  \n",
       "std                  0.011075  \n",
       "min                  9.490533  \n",
       "25%                  9.751350  \n",
       "50%                  9.757333  \n",
       "75%                  9.766306  \n",
       "max                 10.130613  "
      ]
     },
     "execution_count": 4,
     "metadata": {},
     "output_type": "execute_result"
    }
   ],
   "source": [
    "stat_acc_df.describe()"
   ]
  },
  {
   "cell_type": "code",
   "execution_count": 5,
   "metadata": {},
   "outputs": [
    {
     "data": {
      "text/plain": [
       "((50208,), (50208,))"
      ]
     },
     "execution_count": 5,
     "metadata": {},
     "output_type": "execute_result"
    }
   ],
   "source": [
    "accel_time_vec = stat_acc_df.loc[:, 'Time (s)'].to_numpy()\n",
    "accel_yaxis_vec = stat_acc_df.loc[:, 'Acceleration y (m/s^2)'].to_numpy()\n",
    "accel_time_vec.shape, accel_yaxis_vec.shape"
   ]
  },
  {
   "cell_type": "code",
   "execution_count": null,
   "metadata": {},
   "outputs": [
    {
     "data": {
      "text/plain": [
       "'Sampling properties: 0.05s, 20.0Hz'"
      ]
     },
     "execution_count": 6,
     "metadata": {},
     "output_type": "execute_result"
    }
   ],
   "source": [
    "# Find sampling frequency and period.\n",
    "T = accel_time_vec[1] - accel_time_vec[0]\n",
    "Fs = 1 / T\n",
    "f\"Sampling properties: {T}s, {Fs}Hz\""
   ]
  },
  {
   "cell_type": "code",
   "execution_count": 7,
   "metadata": {},
   "outputs": [],
   "source": [
    "# Integrate to find speed.\n",
    "vely_vec = np.cumsum(accel_yaxis_vec) * T"
   ]
  },
  {
   "cell_type": "code",
   "execution_count": 9,
   "metadata": {},
   "outputs": [
    {
     "data": {
      "text/plain": [
       "((15,), (15,))"
      ]
     },
     "execution_count": 9,
     "metadata": {},
     "output_type": "execute_result"
    }
   ],
   "source": [
    "accel_taus, accel_adevs, _, _ = av.oadev(vely_vec, rate=Fs, taus=\"octave\")\n",
    "accel_taus.shape, accel_adevs.shape"
   ]
  },
  {
   "cell_type": "code",
   "execution_count": 14,
   "metadata": {},
   "outputs": [
    {
     "data": {
      "text/plain": [
       "Text(0.5, 0, '$\\\\tau$ (s)')"
      ]
     },
     "execution_count": 14,
     "metadata": {},
     "output_type": "execute_result"
    },
    {
     "data": {
      "image/png": "[encoded data removed]",
      "text/plain": [
       "<Figure size 640x480 with 1 Axes>"
      ]
     },
     "metadata": {},
     "output_type": "display_data"
    }
   ],
   "source": [
    "plt.loglog(accel_taus, accel_adevs, 'g')\n",
    "plt.title(\"Allan Deviation of Accelerometer's Y-Axis on LogLog Scale\")\n",
    "plt.ylabel(\"$\\\\sigma$\")\n",
    "plt.xlabel(\"$\\\\tau$ (s)\")"
   ]
  },
  {
   "cell_type": "code",
   "execution_count": 21,
   "metadata": {},
   "outputs": [
    {
     "data": {
      "text/plain": [
       "'Slope: -0.4983117270444709'"
      ]
     },
     "execution_count": 21,
     "metadata": {},
     "output_type": "execute_result"
    }
   ],
   "source": [
    "f\"Slope: {float(find_log_slope(accel_taus, accel_adevs, 2, 10))}\""
   ]
  },
  {
   "cell_type": "code",
   "execution_count": 25,
   "metadata": {},
   "outputs": [
    {
     "data": {
      "text/plain": [
       "np.int64(2)"
      ]
     },
     "execution_count": 25,
     "metadata": {},
     "output_type": "execute_result"
    }
   ],
   "source": [
    "# Find indices where slope is about -0.5.\n",
    "slope = -0.5\n",
    "accel_log_taus = np.log10(accel_taus)\n",
    "accel_log_adevs = np.log10(accel_adevs)\n",
    "accel_dlogadev = np.diff(accel_log_adevs) / np.diff(accel_log_taus)\n",
    "i = np.argmin(accel_dlogadev - slope)\n",
    "i"
   ]
  },
  {
   "cell_type": "code",
   "execution_count": 27,
   "metadata": {},
   "outputs": [
    {
     "data": {
      "text/plain": [
       "np.float64(-2.630366179661934)"
      ]
     },
     "execution_count": 27,
     "metadata": {},
     "output_type": "execute_result"
    }
   ],
   "source": [
    "# Find y-intercept of line equation: y = mx + b => b = y - mx.\n",
    "b = accel_log_adevs[i] - slope*accel_log_taus[i]\n",
    "b"
   ]
  },
  {
   "cell_type": "code",
   "execution_count": 29,
   "metadata": {},
   "outputs": [
    {
     "data": {
      "text/plain": [
       "(15,)"
      ]
     },
     "execution_count": 29,
     "metadata": {},
     "output_type": "execute_result"
    }
   ],
   "source": [
    "# Get log line points.\n",
    "N = np.pow(10, slope * np.log10(1) + b)\n",
    "accel_line_y = N / np.sqrt(accel_taus)\n",
    "accel_line_y.shape"
   ]
  },
  {
   "cell_type": "code",
   "execution_count": 48,
   "metadata": {},
   "outputs": [
    {
     "data": {
      "text/plain": [
       "<matplotlib.legend.Legend at 0x1271e8980>"
      ]
     },
     "execution_count": 48,
     "metadata": {},
     "output_type": "execute_result"
    },
    {
     "data": {
      "image/png": "[encoded data removed]",
      "text/plain": [
       "<Figure size 640x480 with 1 Axes>"
      ]
     },
     "metadata": {},
     "output_type": "display_data"
    }
   ],
   "source": [
    "plt.style.use(\"default\")\n",
    "plt.title(\"Allan Deviation of Accelerometer's Y-Axis on LogLog Scale\")\n",
    "plt.ylabel(\"$\\\\sigma$\")\n",
    "plt.xlabel(\"$\\\\tau$ (s)\")\n",
    "plt.loglog(accel_taus, accel_adevs, 'g', label=\"$\\\\sigma$\")\n",
    "plt.loglog(accel_taus, accel_line_y, '--b', label=\"-0.5 line\")\n",
    "plt.loglog(1, N, \"or\")\n",
    "plt.grid(True)\n",
    "plt.legend()"
   ]
  },
  {
   "cell_type": "markdown",
   "metadata": {},
   "source": [
    "> As seen the white noise is approximately Gaussian."
   ]
  },
  {
   "cell_type": "markdown",
   "metadata": {},
   "source": [
    "## Gyro White Noise Analysis\n",
    "\n",
    "Deliverables:\n",
    "- Allanvariance loglog plot of Gyro's zaxis\n",
    "- Find slope of white noise porition and verify that its Gaussian (m = -0.5) "
   ]
  },
  {
   "cell_type": "code",
   "execution_count": 50,
   "metadata": {},
   "outputs": [
    {
     "data": {
      "text/html": [
       "<div>\n",
       "<style scoped>\n",
       "    .dataframe tbody tr th:only-of-type {\n",
       "        vertical-align: middle;\n",
       "    }\n",
       "\n",
       "    .dataframe tbody tr th {\n",
       "        vertical-align: top;\n",
       "    }\n",
       "\n",
       "    .dataframe thead th {\n",
       "        text-align: right;\n",
       "    }\n",
       "</style>\n",
       "<table border=\"1\" class=\"dataframe\">\n",
       "  <thead>\n",
       "    <tr style=\"text-align: right;\">\n",
       "      <th></th>\n",
       "      <th>Time (s)</th>\n",
       "      <th>Gyroscope x (rad/s)</th>\n",
       "      <th>Gyroscope y (rad/s)</th>\n",
       "      <th>Gyroscope z (rad/s)</th>\n",
       "    </tr>\n",
       "  </thead>\n",
       "  <tbody>\n",
       "    <tr>\n",
       "      <th>0</th>\n",
       "      <td>0.084551</td>\n",
       "      <td>0.000611</td>\n",
       "      <td>0.000764</td>\n",
       "      <td>-0.000305</td>\n",
       "    </tr>\n",
       "    <tr>\n",
       "      <th>1</th>\n",
       "      <td>0.134551</td>\n",
       "      <td>-0.003054</td>\n",
       "      <td>0.000764</td>\n",
       "      <td>-0.000305</td>\n",
       "    </tr>\n",
       "    <tr>\n",
       "      <th>2</th>\n",
       "      <td>0.184551</td>\n",
       "      <td>-0.001833</td>\n",
       "      <td>0.000764</td>\n",
       "      <td>-0.000305</td>\n",
       "    </tr>\n",
       "    <tr>\n",
       "      <th>3</th>\n",
       "      <td>0.234551</td>\n",
       "      <td>-0.000611</td>\n",
       "      <td>-0.000458</td>\n",
       "      <td>-0.000305</td>\n",
       "    </tr>\n",
       "    <tr>\n",
       "      <th>4</th>\n",
       "      <td>0.284551</td>\n",
       "      <td>0.001833</td>\n",
       "      <td>0.000764</td>\n",
       "      <td>-0.000305</td>\n",
       "    </tr>\n",
       "  </tbody>\n",
       "</table>\n",
       "</div>"
      ],
      "text/plain": [
       "   Time (s)  Gyroscope x (rad/s)  Gyroscope y (rad/s)  Gyroscope z (rad/s)\n",
       "0  0.084551             0.000611             0.000764            -0.000305\n",
       "1  0.134551            -0.003054             0.000764            -0.000305\n",
       "2  0.184551            -0.001833             0.000764            -0.000305\n",
       "3  0.234551            -0.000611            -0.000458            -0.000305\n",
       "4  0.284551             0.001833             0.000764            -0.000305"
      ]
     },
     "execution_count": 50,
     "metadata": {},
     "output_type": "execute_result"
    }
   ],
   "source": [
    "stat_gyr_df.head()"
   ]
  },
  {
   "cell_type": "code",
   "execution_count": 51,
   "metadata": {},
   "outputs": [
    {
     "data": {
      "text/html": [
       "<div>\n",
       "<style scoped>\n",
       "    .dataframe tbody tr th:only-of-type {\n",
       "        vertical-align: middle;\n",
       "    }\n",
       "\n",
       "    .dataframe tbody tr th {\n",
       "        vertical-align: top;\n",
       "    }\n",
       "\n",
       "    .dataframe thead th {\n",
       "        text-align: right;\n",
       "    }\n",
       "</style>\n",
       "<table border=\"1\" class=\"dataframe\">\n",
       "  <thead>\n",
       "    <tr style=\"text-align: right;\">\n",
       "      <th></th>\n",
       "      <th>Time (s)</th>\n",
       "      <th>Gyroscope x (rad/s)</th>\n",
       "      <th>Gyroscope y (rad/s)</th>\n",
       "      <th>Gyroscope z (rad/s)</th>\n",
       "    </tr>\n",
       "  </thead>\n",
       "  <tbody>\n",
       "    <tr>\n",
       "      <th>count</th>\n",
       "      <td>50208.000000</td>\n",
       "      <td>50208.000000</td>\n",
       "      <td>50208.000000</td>\n",
       "      <td>50208.000000</td>\n",
       "    </tr>\n",
       "    <tr>\n",
       "      <th>mean</th>\n",
       "      <td>1255.259551</td>\n",
       "      <td>-0.000013</td>\n",
       "      <td>0.000007</td>\n",
       "      <td>0.000009</td>\n",
       "    </tr>\n",
       "    <tr>\n",
       "      <th>std</th>\n",
       "      <td>724.697275</td>\n",
       "      <td>0.002788</td>\n",
       "      <td>0.001189</td>\n",
       "      <td>0.000714</td>\n",
       "    </tr>\n",
       "    <tr>\n",
       "      <th>min</th>\n",
       "      <td>0.084551</td>\n",
       "      <td>-0.357814</td>\n",
       "      <td>-0.092546</td>\n",
       "      <td>-0.002902</td>\n",
       "    </tr>\n",
       "    <tr>\n",
       "      <th>25%</th>\n",
       "      <td>627.672051</td>\n",
       "      <td>-0.000458</td>\n",
       "      <td>-0.000764</td>\n",
       "      <td>-0.000305</td>\n",
       "    </tr>\n",
       "    <tr>\n",
       "      <th>50%</th>\n",
       "      <td>1255.259551</td>\n",
       "      <td>-0.000305</td>\n",
       "      <td>0.000305</td>\n",
       "      <td>-0.000000</td>\n",
       "    </tr>\n",
       "    <tr>\n",
       "      <th>75%</th>\n",
       "      <td>1882.847051</td>\n",
       "      <td>0.000916</td>\n",
       "      <td>0.000458</td>\n",
       "      <td>0.000153</td>\n",
       "    </tr>\n",
       "    <tr>\n",
       "      <th>max</th>\n",
       "      <td>2510.434551</td>\n",
       "      <td>0.460440</td>\n",
       "      <td>0.063683</td>\n",
       "      <td>0.020922</td>\n",
       "    </tr>\n",
       "  </tbody>\n",
       "</table>\n",
       "</div>"
      ],
      "text/plain": [
       "           Time (s)  Gyroscope x (rad/s)  Gyroscope y (rad/s)  \\\n",
       "count  50208.000000         50208.000000         50208.000000   \n",
       "mean    1255.259551            -0.000013             0.000007   \n",
       "std      724.697275             0.002788             0.001189   \n",
       "min        0.084551            -0.357814            -0.092546   \n",
       "25%      627.672051            -0.000458            -0.000764   \n",
       "50%     1255.259551            -0.000305             0.000305   \n",
       "75%     1882.847051             0.000916             0.000458   \n",
       "max     2510.434551             0.460440             0.063683   \n",
       "\n",
       "       Gyroscope z (rad/s)  \n",
       "count         50208.000000  \n",
       "mean              0.000009  \n",
       "std               0.000714  \n",
       "min              -0.002902  \n",
       "25%              -0.000305  \n",
       "50%              -0.000000  \n",
       "75%               0.000153  \n",
       "max               0.020922  "
      ]
     },
     "execution_count": 51,
     "metadata": {},
     "output_type": "execute_result"
    }
   ],
   "source": [
    "stat_gyr_df.describe()"
   ]
  },
  {
   "cell_type": "code",
   "execution_count": 52,
   "metadata": {},
   "outputs": [
    {
     "data": {
      "text/plain": [
       "((50208,), (50208,))"
      ]
     },
     "execution_count": 52,
     "metadata": {},
     "output_type": "execute_result"
    }
   ],
   "source": [
    "gyro_time_vec = stat_gyr_df.loc[:, 'Time (s)'].to_numpy()\n",
    "gyro_zaxis_vec = stat_gyr_df.loc[:, 'Gyroscope z (rad/s)'].to_numpy()\n",
    "gyro_time_vec.shape, gyro_zaxis_vec.shape"
   ]
  },
  {
   "cell_type": "code",
   "execution_count": 53,
   "metadata": {},
   "outputs": [
    {
     "data": {
      "text/plain": [
       "'Sampling properties: 0.05s, 20.0Hz'"
      ]
     },
     "execution_count": 53,
     "metadata": {},
     "output_type": "execute_result"
    }
   ],
   "source": [
    "# Find sampling frequency and period.\n",
    "T = gyro_time_vec[1] - gyro_time_vec[0]\n",
    "Fs = 1 / T\n",
    "f\"Sampling properties: {T}s, {Fs}Hz\""
   ]
  },
  {
   "cell_type": "code",
   "execution_count": 54,
   "metadata": {},
   "outputs": [],
   "source": [
    "# Integrate to find angle.\n",
    "theta_z_vec = np.cumsum(gyro_zaxis_vec) * T"
   ]
  },
  {
   "cell_type": "code",
   "execution_count": 55,
   "metadata": {},
   "outputs": [
    {
     "data": {
      "text/plain": [
       "((15,), (15,))"
      ]
     },
     "execution_count": 55,
     "metadata": {},
     "output_type": "execute_result"
    }
   ],
   "source": [
    "gyro_taus, gyro_adevs, _, _ = av.oadev(theta_z_vec, rate=Fs, taus=\"octave\")\n",
    "gyro_taus.shape, gyro_adevs.shape"
   ]
  },
  {
   "cell_type": "code",
   "execution_count": 56,
   "metadata": {},
   "outputs": [
    {
     "data": {
      "text/plain": [
       "Text(0.5, 0, '$\\\\tau$ (s)')"
      ]
     },
     "execution_count": 56,
     "metadata": {},
     "output_type": "execute_result"
    },
    {
     "data": {
      "image/png": "[encoded data removed]",
      "text/plain": [
       "<Figure size 640x480 with 1 Axes>"
      ]
     },
     "metadata": {},
     "output_type": "display_data"
    }
   ],
   "source": [
    "plt.loglog(gyro_taus, gyro_adevs, 'g')\n",
    "plt.title(\"Allan Deviation of Gyro's Z-Axis on LogLog Scale\")\n",
    "plt.ylabel(\"$\\\\sigma$\")\n",
    "plt.xlabel(\"$\\\\tau$ (s)\")"
   ]
  },
  {
   "cell_type": "code",
   "execution_count": 69,
   "metadata": {},
   "outputs": [
    {
     "data": {
      "text/plain": [
       "'Slope: -0.5019260375250464'"
      ]
     },
     "execution_count": 69,
     "metadata": {},
     "output_type": "execute_result"
    }
   ],
   "source": [
    "f\"Slope: {float(find_log_slope(gyro_taus, gyro_adevs, 4, 8))}\""
   ]
  },
  {
   "cell_type": "code",
   "execution_count": 67,
   "metadata": {},
   "outputs": [
    {
     "data": {
      "text/plain": [
       "np.int64(7)"
      ]
     },
     "execution_count": 67,
     "metadata": {},
     "output_type": "execute_result"
    }
   ],
   "source": [
    "# Find indices where slope is about -0.5.\n",
    "slope = -0.5\n",
    "gyro_log_taus = np.log10(gyro_taus)\n",
    "gyro_log_adevs = np.log10(gyro_adevs)\n",
    "gyro_dlogadev = np.diff(gyro_log_adevs) / np.diff(gyro_log_taus)\n",
    "i = np.argmin(gyro_dlogadev - slope)\n",
    "i"
   ]
  },
  {
   "cell_type": "code",
   "execution_count": 70,
   "metadata": {},
   "outputs": [
    {
     "data": {
      "text/plain": [
       "np.float64(-3.7865745983530124)"
      ]
     },
     "execution_count": 70,
     "metadata": {},
     "output_type": "execute_result"
    }
   ],
   "source": [
    "# Find y-intercept of line equation: y = mx + b => b = y - mx.\n",
    "b = gyro_log_adevs[i] - slope*gyro_log_taus[i]\n",
    "b"
   ]
  },
  {
   "cell_type": "code",
   "execution_count": 71,
   "metadata": {},
   "outputs": [
    {
     "data": {
      "text/plain": [
       "(15,)"
      ]
     },
     "execution_count": 71,
     "metadata": {},
     "output_type": "execute_result"
    }
   ],
   "source": [
    "# Get log line points.\n",
    "N = np.pow(10, slope * np.log10(1) + b)\n",
    "gyro_line_y = N / np.sqrt(gyro_taus)\n",
    "gyro_line_y.shape"
   ]
  },
  {
   "cell_type": "code",
   "execution_count": 72,
   "metadata": {},
   "outputs": [
    {
     "data": {
      "text/plain": [
       "<matplotlib.legend.Legend at 0x127578140>"
      ]
     },
     "execution_count": 72,
     "metadata": {},
     "output_type": "execute_result"
    },
    {
     "data": {
      "image/png": "[encoded data removed]",
      "text/plain": [
       "<Figure size 640x480 with 1 Axes>"
      ]
     },
     "metadata": {},
     "output_type": "display_data"
    }
   ],
   "source": [
    "plt.style.use(\"default\")\n",
    "plt.title(\"Allan Deviation of Gyro's Z-Axis on LogLog Scale\")\n",
    "plt.ylabel(\"$\\\\sigma$\")\n",
    "plt.xlabel(\"$\\\\tau$ (s)\")\n",
    "plt.loglog(gyro_taus, gyro_adevs, 'g', label=\"$\\\\sigma$\")\n",
    "plt.loglog(gyro_taus, gyro_line_y, '--b', label=\"-0.5 line\")\n",
    "plt.loglog(1, N, \"or\")\n",
    "plt.grid(True)\n",
    "plt.legend()"
   ]
  },
  {
   "cell_type": "markdown",
   "metadata": {},
   "source": [
    "\n",
    "> As seen the white noise is approximately Gaussian."
   ]
  }
 ],
 "metadata": {
  "kernelspec": {
   "display_name": "kalman",
   "language": "python",
   "name": "python3"
  },
  "language_info": {
   "codemirror_mode": {
    "name": "ipython",
    "version": 3
   },
   "file_extension": ".py",
   "mimetype": "text/x-python",
   "name": "python",
   "nbconvert_exporter": "python",
   "pygments_lexer": "ipython3",
   "version": "3.12.7"
  }
 },
 "nbformat": 4,
 "nbformat_minor": 2
}
