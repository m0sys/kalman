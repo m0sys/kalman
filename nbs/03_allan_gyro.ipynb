{
 "cells": [
  {
   "cell_type": "markdown",
   "metadata": {},
   "source": [
    "# AllanDeviation Method By Wrona\n",
    "\n",
    "> Source: https://mwrona.com/posts/gyro-noise-analysis/"
   ]
  },
  {
   "cell_type": "code",
   "execution_count": 12,
   "metadata": {},
   "outputs": [],
   "source": [
    "import pandas as pd\n",
    "import numpy as np\n",
    "import matplotlib.pyplot as plt\n",
    "import math"
   ]
  },
  {
   "cell_type": "code",
   "execution_count": 2,
   "metadata": {},
   "outputs": [],
   "source": [
    "stat_acc_df = pd.read_csv(\"../data/stationary_acc.csv\")\n",
    "stat_gyr_df = pd.read_csv(\"../data/stationary_gyr.csv\")\n",
    "traj_acc_df = pd.read_csv(\"../data/traj_acc.csv\")\n",
    "traj_gyr_df = pd.read_csv(\"../data/traj_gyr.csv\")\n",
    "traj_gps_df = pd.read_csv(\"../data/traj_gps.csv\")\n",
    "traj_truth_df = pd.read_csv(\"../data/traj_truth.csv\")"
   ]
  },
  {
   "cell_type": "code",
   "execution_count": 4,
   "metadata": {},
   "outputs": [],
   "source": [
    "def AllanDeviation(dataArr: np.ndarray, fs: float, maxNumM: int=100):\n",
    "    \"\"\"Compute the Allan deviation (sigma) of time-series data.\n",
    "\n",
    "    Algorithm obtained from Mathworks:\n",
    "    https://www.mathworks.com/help/fusion/ug/inertial-sensor-noise-analysis-using-allan-variance.html\n",
    "\n",
    "    Args\n",
    "    ----\n",
    "        dataArr: 1D data array\n",
    "        fs: Data sample frequency in Hz\n",
    "        maxNumM: Number of output points\n",
    "    \n",
    "    Returns\n",
    "    -------\n",
    "        (taus, allanDev): Tuple of results\n",
    "        taus (numpy.ndarray): Array of tau values\n",
    "        allanDev (numpy.ndarray): Array of computed Allan deviations\n",
    "    \"\"\"\n",
    "    ts = 1.0 / fs\n",
    "    N = len(dataArr)\n",
    "    Mmax = 2**np.floor(np.log2(N / 2))\n",
    "    M = np.logspace(np.log10(1), np.log10(Mmax), num=maxNumM)\n",
    "    M = np.ceil(M)  # Round up to integer\n",
    "    M = np.unique(M)  # Remove duplicates\n",
    "    taus = M * ts  # Compute 'cluster durations' tau\n",
    "\n",
    "    # Compute Allan variance\n",
    "    allanVar = np.zeros(len(M))\n",
    "    for i, mi in enumerate(M):\n",
    "        twoMi = int(2 * mi)\n",
    "        mi = int(mi)\n",
    "        allanVar[i] = np.sum(\n",
    "            (dataArr[twoMi:N] - (2.0 * dataArr[mi:N-mi]) + dataArr[0:N-twoMi])**2\n",
    "        )\n",
    "    \n",
    "    allanVar /= (2.0 * taus**2) * (N - (2.0 * M))\n",
    "    return (taus, np.sqrt(allanVar))  # Return deviation (dev = sqrt(var))"
   ]
  },
  {
   "cell_type": "code",
   "execution_count": 66,
   "metadata": {},
   "outputs": [],
   "source": [
    "def find_log_slope(ydat, xdat, i0=None, i1=None):\n",
    "    assert len(ydat) == len(xdat)\n",
    "    if i0 is None:\n",
    "        i0 = len(ydat) // 2\n",
    "    if i1 is None:\n",
    "        i1 = len(ydat) - 1\n",
    "    y1 = ydat[i1]\n",
    "    y0 = ydat[i0]\n",
    "    x1 = xdat[i1]\n",
    "    x0 = xdat[i0]\n",
    "    y1log = math.log10(y1)\n",
    "    y0log = math.log10(y0)\n",
    "    x1log = math.log10(x1)\n",
    "    x0log = math.log10(x0)\n",
    "    return (y1log - y0log) / (x1log - x0log)"
   ]
  },
  {
   "cell_type": "code",
   "execution_count": 54,
   "metadata": {},
   "outputs": [],
   "source": [
    "def plotline(plt, alpha, taus, style):\n",
    "    \"\"\" plot a line with the slope alpha \"\"\"\n",
    "    y = [pow(tt, alpha) for tt in taus]\n",
    "    plt.loglog(taus, y, style)"
   ]
  },
  {
   "cell_type": "markdown",
   "metadata": {},
   "source": [
    "## Accelerometer Analysis"
   ]
  },
  {
   "cell_type": "code",
   "execution_count": 5,
   "metadata": {},
   "outputs": [],
   "source": [
    "accel_yaxis_vec = stat_acc_df.loc[:, 'Acceleration y (m/s^2)'].to_numpy()\n",
    "accel_yaxis_vec = accel_yaxis_vec.reshape(accel_yaxis_vec.shape[0], 1)\n",
    "accel_time_vec = stat_acc_df.loc[:, 'Time (s)'].to_numpy()\n",
    "accel_time_vec = accel_time_vec.reshape(accel_time_vec.shape[0], 1)"
   ]
  },
  {
   "cell_type": "code",
   "execution_count": 6,
   "metadata": {},
   "outputs": [
    {
     "data": {
      "text/plain": [
       "'0.05s, 20.0Hz'"
      ]
     },
     "execution_count": 6,
     "metadata": {},
     "output_type": "execute_result"
    }
   ],
   "source": [
    "accel_sampling_rate = float((accel_time_vec[1] - accel_time_vec[0])[0])\n",
    "accel_sampling_freq = 1. / accel_sampling_rate\n",
    "f\"{accel_sampling_rate}s, {accel_sampling_freq}Hz\" "
   ]
  },
  {
   "cell_type": "code",
   "execution_count": 63,
   "metadata": {},
   "outputs": [
    {
     "data": {
      "text/plain": [
       "((158,), (158,))"
      ]
     },
     "execution_count": 63,
     "metadata": {},
     "output_type": "execute_result"
    }
   ],
   "source": [
    "(accel_taus, accel_adevs) = AllanDeviation(accel_yaxis_vec, accel_sampling_freq, maxNumM=200)\n",
    "accel_taus.shape, accel_adevs.shape"
   ]
  },
  {
   "cell_type": "code",
   "execution_count": 10,
   "metadata": {},
   "outputs": [
    {
     "data": {
      "text/plain": [
       "[<matplotlib.lines.Line2D at 0x119766840>]"
      ]
     },
     "execution_count": 10,
     "metadata": {},
     "output_type": "execute_result"
    },
    {
     "data": {
      "image/png": "[encoded data removed]",
      "text/plain": [
       "<Figure size 640x480 with 1 Axes>"
      ]
     },
     "metadata": {},
     "output_type": "display_data"
    }
   ],
   "source": [
    "plt.loglog(accel_taus, accel_adevs)"
   ]
  },
  {
   "cell_type": "code",
   "execution_count": null,
   "metadata": {},
   "outputs": [
    {
     "data": {
      "text/plain": [
       "-0.9871720022438183"
      ]
     },
     "execution_count": 13,
     "metadata": {},
     "output_type": "execute_result"
    }
   ],
   "source": [
    "find_log_slope(accel_adevs, accel_taus)"
   ]
  },
  {
   "cell_type": "code",
   "execution_count": 15,
   "metadata": {},
   "outputs": [
    {
     "data": {
      "text/plain": [
       "(array([-6.04187735e-03, -1.11266255e-02, -1.64506558e-02, ...,\n",
       "        -2.92518261e+02, -2.92526128e+02, -2.92543984e+02]),\n",
       " (50208,),\n",
       " (50208, 1))"
      ]
     },
     "execution_count": 15,
     "metadata": {},
     "output_type": "execute_result"
    }
   ],
   "source": [
    "vel_y = np.cumsum(accel_yaxis_vec) * accel_sampling_rate \n",
    "vel_y, vel_y.shape, accel_yaxis_vec.shape"
   ]
  },
  {
   "cell_type": "code",
   "execution_count": 70,
   "metadata": {},
   "outputs": [
    {
     "data": {
      "text/plain": [
       "(array([5.0000e-02, 1.0000e-01, 1.5000e-01, 2.0000e-01, 2.5000e-01,\n",
       "        3.0000e-01, 3.5000e-01, 4.0000e-01, 4.5000e-01, 5.0000e-01,\n",
       "        5.5000e-01, 6.0000e-01, 6.5000e-01, 7.0000e-01, 7.5000e-01,\n",
       "        8.0000e-01, 8.5000e-01, 9.0000e-01, 9.5000e-01, 1.0000e+00,\n",
       "        1.0500e+00, 1.1000e+00, 1.1500e+00, 1.2000e+00, 1.2500e+00,\n",
       "        1.3500e+00, 1.4000e+00, 1.4500e+00, 1.5500e+00, 1.6000e+00,\n",
       "        1.7000e+00, 1.8000e+00, 1.8500e+00, 1.9500e+00, 2.0500e+00,\n",
       "        2.1500e+00, 2.2500e+00, 2.4000e+00, 2.5000e+00, 2.6000e+00,\n",
       "        2.7500e+00, 2.9000e+00, 3.0500e+00, 3.2000e+00, 3.3500e+00,\n",
       "        3.5000e+00, 3.7000e+00, 3.8500e+00, 4.0500e+00, 4.2500e+00,\n",
       "        4.4500e+00, 4.7000e+00, 4.9000e+00, 5.1500e+00, 5.4000e+00,\n",
       "        5.7000e+00, 5.9500e+00, 6.2500e+00, 6.6000e+00, 6.9000e+00,\n",
       "        7.2500e+00, 7.6000e+00, 8.0000e+00, 8.4000e+00, 8.8000e+00,\n",
       "        9.2500e+00, 9.7000e+00, 1.0200e+01, 1.0700e+01, 1.1250e+01,\n",
       "        1.1800e+01, 1.2400e+01, 1.3000e+01, 1.3650e+01, 1.4350e+01,\n",
       "        1.5050e+01, 1.5800e+01, 1.6600e+01, 1.7400e+01, 1.8300e+01,\n",
       "        1.9200e+01, 2.0150e+01, 2.1150e+01, 2.2200e+01, 2.3350e+01,\n",
       "        2.4500e+01, 2.5700e+01, 2.7000e+01, 2.8350e+01, 2.9750e+01,\n",
       "        3.1250e+01, 3.2800e+01, 3.4450e+01, 3.6150e+01, 3.7950e+01,\n",
       "        3.9850e+01, 4.1850e+01, 4.3950e+01, 4.6150e+01, 4.8450e+01,\n",
       "        5.0850e+01, 5.3400e+01, 5.6100e+01, 5.8900e+01, 6.1800e+01,\n",
       "        6.4900e+01, 6.8150e+01, 7.1550e+01, 7.5150e+01, 7.8900e+01,\n",
       "        8.2800e+01, 8.6950e+01, 9.1300e+01, 9.5850e+01, 1.0065e+02,\n",
       "        1.0570e+02, 1.1095e+02, 1.1650e+02, 1.2235e+02, 1.2845e+02,\n",
       "        1.3485e+02, 1.4160e+02, 1.4865e+02, 1.5610e+02, 1.6390e+02,\n",
       "        1.7210e+02, 1.8070e+02, 1.8970e+02, 1.9920e+02, 2.0915e+02,\n",
       "        2.1960e+02, 2.3055e+02, 2.4210e+02, 2.5420e+02, 2.6690e+02,\n",
       "        2.8025e+02, 2.9425e+02, 3.0895e+02, 3.2435e+02, 3.4060e+02,\n",
       "        3.5760e+02, 3.7545e+02, 3.9425e+02, 4.1395e+02, 4.3460e+02,\n",
       "        4.5635e+02, 4.7915e+02, 5.0305e+02, 5.2820e+02, 5.5460e+02,\n",
       "        5.8230e+02, 6.1140e+02, 6.4195e+02, 6.7405e+02, 7.0775e+02,\n",
       "        7.4310e+02, 7.8025e+02, 8.1920e+02]),\n",
       " array([0.00855232, 0.0066356 , 0.00587751, 0.00523744, 0.00462972,\n",
       "        0.00407171, 0.00358173, 0.00320745, 0.00295159, 0.00275733,\n",
       "        0.00259381, 0.00245989, 0.00236748, 0.00231337, 0.00226414,\n",
       "        0.00219488, 0.00210146, 0.00200256, 0.00192091, 0.0018617 ,\n",
       "        0.00181357, 0.00176895, 0.0017315 , 0.00170404, 0.00168357,\n",
       "        0.00162199, 0.00157741, 0.00153491, 0.00147645, 0.00145275,\n",
       "        0.00141665, 0.00139783, 0.00138287, 0.00133486, 0.00129526,\n",
       "        0.00126752, 0.00124801, 0.00121797, 0.00118144, 0.0011521 ,\n",
       "        0.0011209 , 0.0011002 , 0.0010582 , 0.00102861, 0.00101181,\n",
       "        0.0009873 , 0.00095193, 0.00093558, 0.00090938, 0.00088186,\n",
       "        0.00086869, 0.00083886, 0.00082518, 0.000804  , 0.00078661,\n",
       "        0.0007647 , 0.0007507 , 0.00072969, 0.00071117, 0.00069053,\n",
       "        0.00067265, 0.00065834, 0.00063922, 0.00062283, 0.00060805,\n",
       "        0.00059238, 0.00057653, 0.00056022, 0.00054642, 0.00053393,\n",
       "        0.00052328, 0.00051404, 0.00050657, 0.00050008, 0.00049437,\n",
       "        0.00048877, 0.00048308, 0.00047794, 0.00047335, 0.00046964,\n",
       "        0.00046705, 0.00046403, 0.00045994, 0.00045572, 0.00045124,\n",
       "        0.00044605, 0.00043949, 0.00043259, 0.00042584, 0.0004183 ,\n",
       "        0.00041113, 0.00040371, 0.00039592, 0.00038787, 0.00037984,\n",
       "        0.00037196, 0.00036313, 0.0003538 , 0.00034562, 0.00033834,\n",
       "        0.00033133, 0.00032521, 0.00031873, 0.00031292, 0.0003067 ,\n",
       "        0.00030155, 0.00029631, 0.00029126, 0.00028631, 0.00028068,\n",
       "        0.0002766 , 0.00027342, 0.00027034, 0.00026704, 0.00026468,\n",
       "        0.000263  , 0.00026218, 0.000262  , 0.00026283, 0.00026445,\n",
       "        0.00026793, 0.00027206, 0.00027668, 0.00028244, 0.00028883,\n",
       "        0.00029615, 0.00030363, 0.00031182, 0.00032077, 0.00033062,\n",
       "        0.00034111, 0.0003518 , 0.00036296, 0.00037405, 0.00038595,\n",
       "        0.00039882, 0.00041261, 0.00042767, 0.00044258, 0.00045901,\n",
       "        0.00047663, 0.00049608, 0.00051697, 0.0005392 , 0.00056373,\n",
       "        0.0005898 , 0.00061749, 0.00064791, 0.00068007, 0.00071402,\n",
       "        0.00075241, 0.00079452, 0.0008398 , 0.00088865, 0.00093781,\n",
       "        0.00098532, 0.00103481, 0.00108563]),\n",
       " (158,),\n",
       " (158,))"
      ]
     },
     "execution_count": 70,
     "metadata": {},
     "output_type": "execute_result"
    }
   ],
   "source": [
    "(vely_taus, vely_adevs) = AllanDeviation(vel_y, accel_sampling_freq, maxNumM=200)\n",
    "vely_taus, vely_adevs, vely_taus.shape, vely_adevs.shape"
   ]
  },
  {
   "cell_type": "code",
   "execution_count": 18,
   "metadata": {},
   "outputs": [
    {
     "data": {
      "text/plain": [
       "[<matplotlib.lines.Line2D at 0x11b487740>]"
      ]
     },
     "execution_count": 18,
     "metadata": {},
     "output_type": "execute_result"
    },
    {
     "data": {
      "image/png": "[encoded data removed]",
      "text/plain": [
       "<Figure size 640x480 with 1 Axes>"
      ]
     },
     "metadata": {},
     "output_type": "display_data"
    }
   ],
   "source": [
    "plt.loglog(vely_taus, vely_adevs)"
   ]
  },
  {
   "cell_type": "code",
   "execution_count": null,
   "metadata": {},
   "outputs": [],
   "source": [
    "alpha = -0.5\n",
    "y = alpha*taus"
   ]
  },
  {
   "cell_type": "code",
   "execution_count": 62,
   "metadata": {},
   "outputs": [
    {
     "data": {
      "image/png": "[encoded data removed]",
      "text/plain": [
       "<Figure size 640x480 with 1 Axes>"
      ]
     },
     "metadata": {},
     "output_type": "display_data"
    }
   ],
   "source": [
    "plt.loglog(vely_taus, vely_adevs, 'b')\n",
    "plotline(plt, -0.5, vely_taus, \"g\")"
   ]
  },
  {
   "cell_type": "code",
   "execution_count": 72,
   "metadata": {},
   "outputs": [
    {
     "data": {
      "text/plain": [
       "-0.5234914014196753"
      ]
     },
     "execution_count": 72,
     "metadata": {},
     "output_type": "execute_result"
    }
   ],
   "source": [
    "find_log_slope(vely_adevs, vely_taus, 25, 50)"
   ]
  },
  {
   "cell_type": "code",
   "execution_count": null,
   "metadata": {},
   "outputs": [],
   "source": []
  }
 ],
 "metadata": {
  "kernelspec": {
   "display_name": "kalman",
   "language": "python",
   "name": "python3"
  },
  "language_info": {
   "codemirror_mode": {
    "name": "ipython",
    "version": 3
   },
   "file_extension": ".py",
   "mimetype": "text/x-python",
   "name": "python",
   "nbconvert_exporter": "python",
   "pygments_lexer": "ipython3",
   "version": "3.12.7"
  }
 },
 "nbformat": 4,
 "nbformat_minor": 2
}
