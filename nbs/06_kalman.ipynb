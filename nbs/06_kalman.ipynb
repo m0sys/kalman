{
 "cells": [
  {
   "cell_type": "markdown",
   "metadata": {},
   "source": [
    "# Kalman Filter Implementation\n",
    "\n",
    "References:\n",
    "- https://www.mathworks.com/help/fusion/ug/pose-estimation-from-asynchronous-sensors.html\n",
    "- https://stackoverflow.com/questions/1185408/converting-from-longitude-latitude-to-cartesian-coordinates\n",
    "- https://proj.org/en/stable/about.html\n",
    "- https://en.wikipedia.org/wiki/Geographic_coordinate_conversion#From_geodetic_to_ECEF_coordinates\n",
    "- https://en.wikipedia.org/wiki/Geodetic_coordinates\n",
    "- https://en.wikipedia.org/wiki/World_Geodetic_System\n",
    "\n",
    "Method (Steps):\n",
    "1. Convert GPS long/lat measurements to relative xy-coords in meters\n",
    "2. Integrate Gyro/Accel to get yaw angle (z-axis) and forward speed (y-axis), respectively\n",
    "3. Use INS equations and another integration to find xy-trajectory for Gyro/Accel measurements\n",
    "4. Plot measurements of $xy$ and $\\theta$ across time for each sensor\n",
    "5. Implement EKF\n",
    "6. Use EKF to fuse sensors\n",
    "7. Analyse results"
   ]
  },
  {
   "cell_type": "code",
   "execution_count": 2,
   "metadata": {},
   "outputs": [],
   "source": [
    "import numpy as np\n",
    "import pandas as pd\n",
    "import matplotlib.pyplot as plt"
   ]
  },
  {
   "cell_type": "code",
   "execution_count": 3,
   "metadata": {},
   "outputs": [],
   "source": [
    "stat_acc_df = pd.read_csv(\"../data/stationary_acc.csv\")\n",
    "stat_gyr_df = pd.read_csv(\"../data/stationary_gyr.csv\")\n",
    "traj_acc_df = pd.read_csv(\"../data/traj_acc.csv\")\n",
    "traj_gyr_df = pd.read_csv(\"../data/traj_gyr.csv\")\n",
    "traj_gps_df = pd.read_csv(\"../data/traj_gps.csv\")\n",
    "traj_truth_df = pd.read_csv(\"../data/traj_truth.csv\")"
   ]
  },
  {
   "cell_type": "code",
   "execution_count": 19,
   "metadata": {},
   "outputs": [
    {
     "data": {
      "text/html": [
       "<div>\n",
       "<style scoped>\n",
       "    .dataframe tbody tr th:only-of-type {\n",
       "        vertical-align: middle;\n",
       "    }\n",
       "\n",
       "    .dataframe tbody tr th {\n",
       "        vertical-align: top;\n",
       "    }\n",
       "\n",
       "    .dataframe thead th {\n",
       "        text-align: right;\n",
       "    }\n",
       "</style>\n",
       "<table border=\"1\" class=\"dataframe\">\n",
       "  <thead>\n",
       "    <tr style=\"text-align: right;\">\n",
       "      <th></th>\n",
       "      <th>Time (s)</th>\n",
       "      <th>Acceleration x (m/s^2)</th>\n",
       "      <th>Acceleration y (m/s^2)</th>\n",
       "      <th>Acceleration z (m/s^2)</th>\n",
       "    </tr>\n",
       "  </thead>\n",
       "  <tbody>\n",
       "    <tr>\n",
       "      <th>0</th>\n",
       "      <td>0.0225</td>\n",
       "      <td>-0.299</td>\n",
       "      <td>-0.282</td>\n",
       "      <td>9.57</td>\n",
       "    </tr>\n",
       "    <tr>\n",
       "      <th>1</th>\n",
       "      <td>0.0246</td>\n",
       "      <td>-0.370</td>\n",
       "      <td>-0.282</td>\n",
       "      <td>9.66</td>\n",
       "    </tr>\n",
       "    <tr>\n",
       "      <th>2</th>\n",
       "      <td>0.0267</td>\n",
       "      <td>-0.414</td>\n",
       "      <td>-0.277</td>\n",
       "      <td>9.64</td>\n",
       "    </tr>\n",
       "    <tr>\n",
       "      <th>3</th>\n",
       "      <td>0.0289</td>\n",
       "      <td>-0.446</td>\n",
       "      <td>-0.191</td>\n",
       "      <td>9.67</td>\n",
       "    </tr>\n",
       "    <tr>\n",
       "      <th>4</th>\n",
       "      <td>0.0310</td>\n",
       "      <td>-0.455</td>\n",
       "      <td>-0.153</td>\n",
       "      <td>9.73</td>\n",
       "    </tr>\n",
       "  </tbody>\n",
       "</table>\n",
       "</div>"
      ],
      "text/plain": [
       "   Time (s)  Acceleration x (m/s^2)  Acceleration y (m/s^2)  \\\n",
       "0    0.0225                  -0.299                  -0.282   \n",
       "1    0.0246                  -0.370                  -0.282   \n",
       "2    0.0267                  -0.414                  -0.277   \n",
       "3    0.0289                  -0.446                  -0.191   \n",
       "4    0.0310                  -0.455                  -0.153   \n",
       "\n",
       "   Acceleration z (m/s^2)  \n",
       "0                    9.57  \n",
       "1                    9.66  \n",
       "2                    9.64  \n",
       "3                    9.67  \n",
       "4                    9.73  "
      ]
     },
     "execution_count": 19,
     "metadata": {},
     "output_type": "execute_result"
    }
   ],
   "source": [
    "traj_acc_df.head()"
   ]
  },
  {
   "cell_type": "code",
   "execution_count": 20,
   "metadata": {},
   "outputs": [
    {
     "data": {
      "text/html": [
       "<div>\n",
       "<style scoped>\n",
       "    .dataframe tbody tr th:only-of-type {\n",
       "        vertical-align: middle;\n",
       "    }\n",
       "\n",
       "    .dataframe tbody tr th {\n",
       "        vertical-align: top;\n",
       "    }\n",
       "\n",
       "    .dataframe thead th {\n",
       "        text-align: right;\n",
       "    }\n",
       "</style>\n",
       "<table border=\"1\" class=\"dataframe\">\n",
       "  <thead>\n",
       "    <tr style=\"text-align: right;\">\n",
       "      <th></th>\n",
       "      <th>Time (s)</th>\n",
       "      <th>Gyroscope x (rad/s)</th>\n",
       "      <th>Gyroscope y (rad/s)</th>\n",
       "      <th>Gyroscope z (rad/s)</th>\n",
       "    </tr>\n",
       "  </thead>\n",
       "  <tbody>\n",
       "    <tr>\n",
       "      <th>0</th>\n",
       "      <td>0.0310</td>\n",
       "      <td>0.00122</td>\n",
       "      <td>-0.000305</td>\n",
       "      <td>-0.001110</td>\n",
       "    </tr>\n",
       "    <tr>\n",
       "      <th>1</th>\n",
       "      <td>0.0332</td>\n",
       "      <td>0.00122</td>\n",
       "      <td>-0.001530</td>\n",
       "      <td>-0.001110</td>\n",
       "    </tr>\n",
       "    <tr>\n",
       "      <th>2</th>\n",
       "      <td>0.0353</td>\n",
       "      <td>-0.00122</td>\n",
       "      <td>0.000916</td>\n",
       "      <td>0.000111</td>\n",
       "    </tr>\n",
       "    <tr>\n",
       "      <th>3</th>\n",
       "      <td>0.0374</td>\n",
       "      <td>-0.00244</td>\n",
       "      <td>0.000916</td>\n",
       "      <td>0.000264</td>\n",
       "    </tr>\n",
       "    <tr>\n",
       "      <th>4</th>\n",
       "      <td>0.0396</td>\n",
       "      <td>0.00000</td>\n",
       "      <td>-0.002750</td>\n",
       "      <td>0.000111</td>\n",
       "    </tr>\n",
       "  </tbody>\n",
       "</table>\n",
       "</div>"
      ],
      "text/plain": [
       "   Time (s)  Gyroscope x (rad/s)  Gyroscope y (rad/s)  Gyroscope z (rad/s)\n",
       "0    0.0310              0.00122            -0.000305            -0.001110\n",
       "1    0.0332              0.00122            -0.001530            -0.001110\n",
       "2    0.0353             -0.00122             0.000916             0.000111\n",
       "3    0.0374             -0.00244             0.000916             0.000264\n",
       "4    0.0396              0.00000            -0.002750             0.000111"
      ]
     },
     "execution_count": 20,
     "metadata": {},
     "output_type": "execute_result"
    }
   ],
   "source": [
    "traj_gyr_df.head()"
   ]
  },
  {
   "cell_type": "code",
   "execution_count": null,
   "metadata": {},
   "outputs": [
    {
     "data": {
      "text/html": [
       "<div>\n",
       "<style scoped>\n",
       "    .dataframe tbody tr th:only-of-type {\n",
       "        vertical-align: middle;\n",
       "    }\n",
       "\n",
       "    .dataframe tbody tr th {\n",
       "        vertical-align: top;\n",
       "    }\n",
       "\n",
       "    .dataframe thead th {\n",
       "        text-align: right;\n",
       "    }\n",
       "</style>\n",
       "<table border=\"1\" class=\"dataframe\">\n",
       "  <thead>\n",
       "    <tr style=\"text-align: right;\">\n",
       "      <th></th>\n",
       "      <th>Time (s)</th>\n",
       "      <th>Latitude (°)</th>\n",
       "      <th>Longitude (°)</th>\n",
       "      <th>Height (m)</th>\n",
       "      <th>Velocity (m/s)</th>\n",
       "      <th>Direction (°)</th>\n",
       "      <th>Horizontal Accuracy (m)</th>\n",
       "      <th>Vertical Accuracy (m)</th>\n",
       "    </tr>\n",
       "  </thead>\n",
       "  <tbody>\n",
       "    <tr>\n",
       "      <th>0</th>\n",
       "      <td>0.000000</td>\n",
       "      <td>45.447264</td>\n",
       "      <td>-73.798053</td>\n",
       "      <td>51.816190</td>\n",
       "      <td>0.0</td>\n",
       "      <td>61.189362</td>\n",
       "      <td>24.632000</td>\n",
       "      <td>9.429768</td>\n",
       "    </tr>\n",
       "    <tr>\n",
       "      <th>1</th>\n",
       "      <td>1.948017</td>\n",
       "      <td>45.446880</td>\n",
       "      <td>-73.796762</td>\n",
       "      <td>22.286429</td>\n",
       "      <td>0.0</td>\n",
       "      <td>61.189362</td>\n",
       "      <td>14.082784</td>\n",
       "      <td>14.651149</td>\n",
       "    </tr>\n",
       "    <tr>\n",
       "      <th>2</th>\n",
       "      <td>3.043338</td>\n",
       "      <td>45.446932</td>\n",
       "      <td>-73.796780</td>\n",
       "      <td>22.176985</td>\n",
       "      <td>0.0</td>\n",
       "      <td>61.189362</td>\n",
       "      <td>4.277642</td>\n",
       "      <td>27.384563</td>\n",
       "    </tr>\n",
       "    <tr>\n",
       "      <th>3</th>\n",
       "      <td>4.052077</td>\n",
       "      <td>45.446939</td>\n",
       "      <td>-73.796782</td>\n",
       "      <td>16.394296</td>\n",
       "      <td>0.0</td>\n",
       "      <td>61.189362</td>\n",
       "      <td>9.414026</td>\n",
       "      <td>15.854093</td>\n",
       "    </tr>\n",
       "    <tr>\n",
       "      <th>4</th>\n",
       "      <td>5.085355</td>\n",
       "      <td>45.446936</td>\n",
       "      <td>-73.796781</td>\n",
       "      <td>15.293201</td>\n",
       "      <td>0.0</td>\n",
       "      <td>61.189362</td>\n",
       "      <td>9.205843</td>\n",
       "      <td>12.037631</td>\n",
       "    </tr>\n",
       "  </tbody>\n",
       "</table>\n",
       "</div>"
      ],
      "text/plain": [
       "   Time (s)  Latitude (°)  Longitude (°)  Height (m)  Velocity (m/s)  \\\n",
       "0  0.000000     45.447264     -73.798053   51.816190             0.0   \n",
       "1  1.948017     45.446880     -73.796762   22.286429             0.0   \n",
       "2  3.043338     45.446932     -73.796780   22.176985             0.0   \n",
       "3  4.052077     45.446939     -73.796782   16.394296             0.0   \n",
       "4  5.085355     45.446936     -73.796781   15.293201             0.0   \n",
       "\n",
       "   Direction (°)  Horizontal Accuracy (m)  Vertical Accuracy (m)  \n",
       "0      61.189362                24.632000               9.429768  \n",
       "1      61.189362                14.082784              14.651149  \n",
       "2      61.189362                 4.277642              27.384563  \n",
       "3      61.189362                 9.414026              15.854093  \n",
       "4      61.189362                 9.205843              12.037631  "
      ]
     },
     "execution_count": 5,
     "metadata": {},
     "output_type": "execute_result"
    }
   ],
   "source": [
    "traj_gps_df.head()"
   ]
  },
  {
   "cell_type": "code",
   "execution_count": 18,
   "metadata": {},
   "outputs": [
    {
     "data": {
      "text/html": [
       "<div>\n",
       "<style scoped>\n",
       "    .dataframe tbody tr th:only-of-type {\n",
       "        vertical-align: middle;\n",
       "    }\n",
       "\n",
       "    .dataframe tbody tr th {\n",
       "        vertical-align: top;\n",
       "    }\n",
       "\n",
       "    .dataframe thead th {\n",
       "        text-align: right;\n",
       "    }\n",
       "</style>\n",
       "<table border=\"1\" class=\"dataframe\">\n",
       "  <thead>\n",
       "    <tr style=\"text-align: right;\">\n",
       "      <th></th>\n",
       "      <th>Time (s)</th>\n",
       "      <th>Latitude (°)</th>\n",
       "      <th>Longitude (°)</th>\n",
       "      <th>Height (m)</th>\n",
       "      <th>Velocity (m/s)</th>\n",
       "      <th>Direction (°)</th>\n",
       "      <th>Horizontal Accuracy (m)</th>\n",
       "      <th>Vertical Accuracy (m)</th>\n",
       "    </tr>\n",
       "  </thead>\n",
       "  <tbody>\n",
       "    <tr>\n",
       "      <th>786</th>\n",
       "      <td>793.605199</td>\n",
       "      <td>45.446937</td>\n",
       "      <td>-73.79683</td>\n",
       "      <td>20.123425</td>\n",
       "      <td>0.001600</td>\n",
       "      <td>65.843979</td>\n",
       "      <td>1.667726</td>\n",
       "      <td>1.650350</td>\n",
       "    </tr>\n",
       "    <tr>\n",
       "      <th>787</th>\n",
       "      <td>794.605227</td>\n",
       "      <td>45.446937</td>\n",
       "      <td>-73.79683</td>\n",
       "      <td>20.197818</td>\n",
       "      <td>0.001356</td>\n",
       "      <td>65.966217</td>\n",
       "      <td>1.851725</td>\n",
       "      <td>1.856987</td>\n",
       "    </tr>\n",
       "    <tr>\n",
       "      <th>788</th>\n",
       "      <td>795.605238</td>\n",
       "      <td>45.446937</td>\n",
       "      <td>-73.79683</td>\n",
       "      <td>20.164633</td>\n",
       "      <td>0.001067</td>\n",
       "      <td>65.933029</td>\n",
       "      <td>1.699418</td>\n",
       "      <td>2.054355</td>\n",
       "    </tr>\n",
       "    <tr>\n",
       "      <th>789</th>\n",
       "      <td>796.605272</td>\n",
       "      <td>45.446937</td>\n",
       "      <td>-73.79683</td>\n",
       "      <td>20.172889</td>\n",
       "      <td>0.000466</td>\n",
       "      <td>65.909470</td>\n",
       "      <td>1.564583</td>\n",
       "      <td>2.236105</td>\n",
       "    </tr>\n",
       "    <tr>\n",
       "      <th>790</th>\n",
       "      <td>797.605318</td>\n",
       "      <td>45.446937</td>\n",
       "      <td>-73.79683</td>\n",
       "      <td>20.183647</td>\n",
       "      <td>0.000351</td>\n",
       "      <td>65.959579</td>\n",
       "      <td>1.466302</td>\n",
       "      <td>2.402915</td>\n",
       "    </tr>\n",
       "  </tbody>\n",
       "</table>\n",
       "</div>"
      ],
      "text/plain": [
       "       Time (s)  Latitude (°)  Longitude (°)  Height (m)  Velocity (m/s)  \\\n",
       "786  793.605199     45.446937      -73.79683   20.123425        0.001600   \n",
       "787  794.605227     45.446937      -73.79683   20.197818        0.001356   \n",
       "788  795.605238     45.446937      -73.79683   20.164633        0.001067   \n",
       "789  796.605272     45.446937      -73.79683   20.172889        0.000466   \n",
       "790  797.605318     45.446937      -73.79683   20.183647        0.000351   \n",
       "\n",
       "     Direction (°)  Horizontal Accuracy (m)  Vertical Accuracy (m)  \n",
       "786      65.843979                 1.667726               1.650350  \n",
       "787      65.966217                 1.851725               1.856987  \n",
       "788      65.933029                 1.699418               2.054355  \n",
       "789      65.909470                 1.564583               2.236105  \n",
       "790      65.959579                 1.466302               2.402915  "
      ]
     },
     "execution_count": 18,
     "metadata": {},
     "output_type": "execute_result"
    }
   ],
   "source": [
    "traj_gps_df.tail()"
   ]
  },
  {
   "cell_type": "code",
   "execution_count": 21,
   "metadata": {},
   "outputs": [
    {
     "data": {
      "text/html": [
       "<div>\n",
       "<style scoped>\n",
       "    .dataframe tbody tr th:only-of-type {\n",
       "        vertical-align: middle;\n",
       "    }\n",
       "\n",
       "    .dataframe tbody tr th {\n",
       "        vertical-align: top;\n",
       "    }\n",
       "\n",
       "    .dataframe thead th {\n",
       "        text-align: right;\n",
       "    }\n",
       "</style>\n",
       "<table border=\"1\" class=\"dataframe\">\n",
       "  <thead>\n",
       "    <tr style=\"text-align: right;\">\n",
       "      <th></th>\n",
       "      <th>Latitude (°)</th>\n",
       "      <th>Longitude (°)</th>\n",
       "    </tr>\n",
       "  </thead>\n",
       "  <tbody>\n",
       "    <tr>\n",
       "      <th>0</th>\n",
       "      <td>45.447014</td>\n",
       "      <td>-73.796857</td>\n",
       "    </tr>\n",
       "    <tr>\n",
       "      <th>1</th>\n",
       "      <td>45.447038</td>\n",
       "      <td>-73.796779</td>\n",
       "    </tr>\n",
       "    <tr>\n",
       "      <th>2</th>\n",
       "      <td>45.447117</td>\n",
       "      <td>-73.796843</td>\n",
       "    </tr>\n",
       "    <tr>\n",
       "      <th>3</th>\n",
       "      <td>45.447164</td>\n",
       "      <td>-73.796908</td>\n",
       "    </tr>\n",
       "    <tr>\n",
       "      <th>4</th>\n",
       "      <td>45.447196</td>\n",
       "      <td>-73.796924</td>\n",
       "    </tr>\n",
       "  </tbody>\n",
       "</table>\n",
       "</div>"
      ],
      "text/plain": [
       "   Latitude (°)  Longitude (°)\n",
       "0     45.447014     -73.796857\n",
       "1     45.447038     -73.796779\n",
       "2     45.447117     -73.796843\n",
       "3     45.447164     -73.796908\n",
       "4     45.447196     -73.796924"
      ]
     },
     "execution_count": 21,
     "metadata": {},
     "output_type": "execute_result"
    }
   ],
   "source": [
    "traj_truth_df.head()"
   ]
  },
  {
   "cell_type": "code",
   "execution_count": 40,
   "metadata": {},
   "outputs": [],
   "source": [
    "traj_truth_lat_vec = traj_truth_df.loc[:, 'Latitude (°)'].to_numpy()\n",
    "traj_truth_long_vec = traj_truth_df.loc[:, 'Longitude (°)'].to_numpy()\n",
    "traj_gps_lat_vec = traj_gps_df.loc[:, 'Latitude (°)'].to_numpy()\n",
    "traj_gps_long_vec = traj_gps_df.loc[:, 'Longitude (°)'].to_numpy()\n",
    "traj_gps_h_vec = traj_gps_df.loc[:, 'Height (m)'].to_numpy()"
   ]
  },
  {
   "cell_type": "code",
   "execution_count": 41,
   "metadata": {},
   "outputs": [
    {
     "data": {
      "text/plain": [
       "numpy.ndarray"
      ]
     },
     "execution_count": 41,
     "metadata": {},
     "output_type": "execute_result"
    }
   ],
   "source": [
    "type(traj_gps_h_vec)"
   ]
  },
  {
   "cell_type": "code",
   "execution_count": 42,
   "metadata": {},
   "outputs": [
    {
     "data": {
      "text/plain": [
       "Text(0, 0.5, 'Latitude (°)')"
      ]
     },
     "execution_count": 42,
     "metadata": {},
     "output_type": "execute_result"
    },
    {
     "data": {
      "image/png": "[encoded data removed]",
      "text/plain": [
       "<Figure size 640x480 with 1 Axes>"
      ]
     },
     "metadata": {},
     "output_type": "display_data"
    }
   ],
   "source": [
    "plt.plot(traj_truth_long_vec, traj_truth_lat_vec, 'o')\n",
    "plt.plot(traj_gps_long_vec, traj_gps_lat_vec, '--')\n",
    "plt.title(\"GPS and Truth Coords of Traj Long/Lat\")\n",
    "plt.xlabel(\"Longitude (°)\")\n",
    "plt.ylabel(\"Latitude (°)\")"
   ]
  },
  {
   "cell_type": "markdown",
   "metadata": {},
   "source": [
    "## Preprocessing GPS Data to Local Coordinates\n",
    "\n",
    "First step would be to convert GPS long/lat measurements to relative xy-coords in meters.\n",
    "\n",
    "Since IMU is in ENU coords the conversion method is as follows:\n",
    "- Convert geodetic coords to ECEF coords\n",
    "- Convert ECEF coords to local ENU coords \n",
    "\n",
    "The Prime Vertical Radius of Curvature is\n",
    "$$\\frac{a^2}{\\sqrt{a^2\\cos^2\\phi + b^2\\sin^2\\phi}},$$\n",
    "where $a = 6378137.0m$ and $b = 6356752.314245 m$ are the semi-major axis and semi-minor axis, respectively. $\\phi$ is geodetic latitude and $\\lambda$ is geodetic longitude."
   ]
  },
  {
   "cell_type": "code",
   "execution_count": 27,
   "metadata": {},
   "outputs": [],
   "source": [
    "def prime_vert_radius_curvature(lat, a=6378137.0, b=6356752.314245):\n",
    "    phi = lat\n",
    "    return a**2 / np.sqrt(a**2 * np.cos(phi)**2 + b**2 * np.sin(phi)**2)"
   ]
  },
  {
   "cell_type": "code",
   "execution_count": 25,
   "metadata": {},
   "outputs": [
    {
     "data": {
      "text/plain": [
       "np.float64(6393650.76230695)"
      ]
     },
     "execution_count": 25,
     "metadata": {},
     "output_type": "execute_result"
    }
   ],
   "source": [
    "prime_vert_radius_curvature(45)"
   ]
  },
  {
   "cell_type": "code",
   "execution_count": 28,
   "metadata": {},
   "outputs": [],
   "source": [
    "def geodet_to_ecef(lat, long, h):\n",
    "    a = 6378137.0\n",
    "    b = 6356752.314245\n",
    "    phi = lat\n",
    "    lmbd = long\n",
    "    N = prime_vert_radius_curvature(lat)\n",
    "    x = (N + h) * np.cos(phi) * np.cos(lmbd)\n",
    "    y = (N + h) * np.cos(phi) * np.sin(lmbd)\n",
    "    z = (b**2 / a**2 * N + h) * np.sin(phi)\n",
    "    return x, y, z"
   ]
  },
  {
   "cell_type": "code",
   "execution_count": 45,
   "metadata": {},
   "outputs": [],
   "source": [
    "def ecef_enu(lat_p, long_p, h_p, lat_r, long_r, h_r):\n",
    "    phi_p = lat_p\n",
    "    lmbd_p = long_p\n",
    "    phi_r = lat_r\n",
    "    lmbd_r = long_r\n",
    "    R = np.transpose(np.array([[-np.sin(lmbd_r), -np.sin(phi_r)*np.cos(lmbd_r), np.cos(phi_r)*np.cos(lmbd_r)],\n",
    "                 [np.cos(lmbd_r), -np.sin(phi_r)*np.sin(lmbd_r), np.cos(phi_r)*np.sin(lmbd_r)],\n",
    "                 [0, np.cos(phi_r), np.sin(phi_r)]]))\n",
    "\n",
    "    x_r, y_r, z_r = geodet_to_ecef(lat_r, long_r, h_r)\n",
    "    x_p, y_p, z_p = geodet_to_ecef(lat_p, long_p, h_p)\n",
    "    delta = np.array([x_p - x_r, y_p - y_r, z_p - z_r])\n",
    "    delta.reshape((delta.shape[0], 1))\n",
    "    enu = R @ delta\n",
    "    return enu[0], enu[1], enu[2]"
   ]
  },
  {
   "cell_type": "code",
   "execution_count": 46,
   "metadata": {},
   "outputs": [
    {
     "data": {
      "text/plain": [
       "'ref: (45.4472644, -73.7980526, 51.81619023); p: (45.44693658, -73.79682967, 20.1836471)'"
      ]
     },
     "execution_count": 46,
     "metadata": {},
     "output_type": "execute_result"
    }
   ],
   "source": [
    "lat_r = traj_gps_lat_vec[0]\n",
    "long_r = traj_gps_long_vec[0]\n",
    "h_r = traj_gps_h_vec[0]\n",
    "lat_p = traj_gps_lat_vec[-1]\n",
    "long_p  = traj_gps_long_vec[-1]\n",
    "h_p = traj_gps_h_vec[-1]\n",
    "f\"ref: ({lat_r}, {long_r}, {h_r}); p: ({lat_p}, {long_p}, {h_p})\""
   ]
  },
  {
   "cell_type": "code",
   "execution_count": 48,
   "metadata": {},
   "outputs": [
    {
     "data": {
      "text/plain": [
       "'x: 829.2224257298756m, y: -2097.1798054208466, z: -32.02993400553231'"
      ]
     },
     "execution_count": 48,
     "metadata": {},
     "output_type": "execute_result"
    }
   ],
   "source": [
    "enu_res = ecef_enu(lat_p, long_p, h_p, lat_r, long_r, h_r)\n",
    "f\"x: {enu_res[0]}m, y: {enu_res[1]}, z: {enu_res[2]}\""
   ]
  }
 ],
 "metadata": {
  "kernelspec": {
   "display_name": "kalman",
   "language": "python",
   "name": "python3"
  },
  "language_info": {
   "codemirror_mode": {
    "name": "ipython",
    "version": 3
   },
   "file_extension": ".py",
   "mimetype": "text/x-python",
   "name": "python",
   "nbconvert_exporter": "python",
   "pygments_lexer": "ipython3",
   "version": "3.12.7"
  }
 },
 "nbformat": 4,
 "nbformat_minor": 2
}
