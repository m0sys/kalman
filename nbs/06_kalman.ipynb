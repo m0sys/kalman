{
 "cells": [
  {
   "cell_type": "markdown",
   "metadata": {},
   "source": [
    "# Kalman Filter Implementation\n",
    "\n",
    "References:\n",
    "- https://www.mathworks.com/help/fusion/ug/pose-estimation-from-asynchronous-sensors.html\n",
    "- https://stackoverflow.com/questions/1185408/converting-from-longitude-latitude-to-cartesian-coordinates\n",
    "- https://proj.org/en/stable/about.html\n",
    "- https://en.wikipedia.org/wiki/Geographic_coordinate_conversion#From_geodetic_to_ECEF_coordinates\n",
    "- https://en.wikipedia.org/wiki/Geodetic_coordinates\n",
    "- https://en.wikipedia.org/wiki/World_Geodetic_System\n",
    "- https://ardupilot.org/dev/docs/extended-kalman-filter.html\n",
    "\n",
    "Method (Steps):\n",
    "1. Convert GPS long/lat measurements to relative xy-coords in meters\n",
    "2. Integrate Gyro/Accel to get yaw angle (z-axis) and forward speed (y-axis), respectively\n",
    "3. Use INS equations and another integration to find xy-trajectory for Gyro/Accel measurements\n",
    "4. Plot measurements of $xy$ and $\\theta$ across time for each sensor\n",
    "5. Implement EKF\n",
    "6. Use EKF to fuse sensors\n",
    "7. Analyse results"
   ]
  },
  {
   "cell_type": "code",
   "execution_count": 377,
   "metadata": {},
   "outputs": [],
   "source": [
    "import numpy as np\n",
    "import pandas as pd\n",
    "import matplotlib.pyplot as plt\n",
    "from functools import partial\n",
    "import autograd as ag\n",
    "import sympy as sp"
   ]
  },
  {
   "cell_type": "code",
   "execution_count": 3,
   "metadata": {},
   "outputs": [],
   "source": [
    "stat_acc_df = pd.read_csv(\"../data/stationary_acc.csv\")\n",
    "stat_gyr_df = pd.read_csv(\"../data/stationary_gyr.csv\")\n",
    "traj_acc_df = pd.read_csv(\"../data/traj_acc.csv\")\n",
    "traj_gyr_df = pd.read_csv(\"../data/traj_gyr.csv\")\n",
    "traj_gps_df = pd.read_csv(\"../data/traj_gps.csv\")\n",
    "traj_truth_df = pd.read_csv(\"../data/traj_truth.csv\")"
   ]
  },
  {
   "cell_type": "code",
   "execution_count": 19,
   "metadata": {},
   "outputs": [
    {
     "data": {
      "text/html": [
       "<div>\n",
       "<style scoped>\n",
       "    .dataframe tbody tr th:only-of-type {\n",
       "        vertical-align: middle;\n",
       "    }\n",
       "\n",
       "    .dataframe tbody tr th {\n",
       "        vertical-align: top;\n",
       "    }\n",
       "\n",
       "    .dataframe thead th {\n",
       "        text-align: right;\n",
       "    }\n",
       "</style>\n",
       "<table border=\"1\" class=\"dataframe\">\n",
       "  <thead>\n",
       "    <tr style=\"text-align: right;\">\n",
       "      <th></th>\n",
       "      <th>Time (s)</th>\n",
       "      <th>Acceleration x (m/s^2)</th>\n",
       "      <th>Acceleration y (m/s^2)</th>\n",
       "      <th>Acceleration z (m/s^2)</th>\n",
       "    </tr>\n",
       "  </thead>\n",
       "  <tbody>\n",
       "    <tr>\n",
       "      <th>0</th>\n",
       "      <td>0.0225</td>\n",
       "      <td>-0.299</td>\n",
       "      <td>-0.282</td>\n",
       "      <td>9.57</td>\n",
       "    </tr>\n",
       "    <tr>\n",
       "      <th>1</th>\n",
       "      <td>0.0246</td>\n",
       "      <td>-0.370</td>\n",
       "      <td>-0.282</td>\n",
       "      <td>9.66</td>\n",
       "    </tr>\n",
       "    <tr>\n",
       "      <th>2</th>\n",
       "      <td>0.0267</td>\n",
       "      <td>-0.414</td>\n",
       "      <td>-0.277</td>\n",
       "      <td>9.64</td>\n",
       "    </tr>\n",
       "    <tr>\n",
       "      <th>3</th>\n",
       "      <td>0.0289</td>\n",
       "      <td>-0.446</td>\n",
       "      <td>-0.191</td>\n",
       "      <td>9.67</td>\n",
       "    </tr>\n",
       "    <tr>\n",
       "      <th>4</th>\n",
       "      <td>0.0310</td>\n",
       "      <td>-0.455</td>\n",
       "      <td>-0.153</td>\n",
       "      <td>9.73</td>\n",
       "    </tr>\n",
       "  </tbody>\n",
       "</table>\n",
       "</div>"
      ],
      "text/plain": [
       "   Time (s)  Acceleration x (m/s^2)  Acceleration y (m/s^2)  \\\n",
       "0    0.0225                  -0.299                  -0.282   \n",
       "1    0.0246                  -0.370                  -0.282   \n",
       "2    0.0267                  -0.414                  -0.277   \n",
       "3    0.0289                  -0.446                  -0.191   \n",
       "4    0.0310                  -0.455                  -0.153   \n",
       "\n",
       "   Acceleration z (m/s^2)  \n",
       "0                    9.57  \n",
       "1                    9.66  \n",
       "2                    9.64  \n",
       "3                    9.67  \n",
       "4                    9.73  "
      ]
     },
     "execution_count": 19,
     "metadata": {},
     "output_type": "execute_result"
    }
   ],
   "source": [
    "traj_acc_df.head()"
   ]
  },
  {
   "cell_type": "code",
   "execution_count": 20,
   "metadata": {},
   "outputs": [
    {
     "data": {
      "text/html": [
       "<div>\n",
       "<style scoped>\n",
       "    .dataframe tbody tr th:only-of-type {\n",
       "        vertical-align: middle;\n",
       "    }\n",
       "\n",
       "    .dataframe tbody tr th {\n",
       "        vertical-align: top;\n",
       "    }\n",
       "\n",
       "    .dataframe thead th {\n",
       "        text-align: right;\n",
       "    }\n",
       "</style>\n",
       "<table border=\"1\" class=\"dataframe\">\n",
       "  <thead>\n",
       "    <tr style=\"text-align: right;\">\n",
       "      <th></th>\n",
       "      <th>Time (s)</th>\n",
       "      <th>Gyroscope x (rad/s)</th>\n",
       "      <th>Gyroscope y (rad/s)</th>\n",
       "      <th>Gyroscope z (rad/s)</th>\n",
       "    </tr>\n",
       "  </thead>\n",
       "  <tbody>\n",
       "    <tr>\n",
       "      <th>0</th>\n",
       "      <td>0.0310</td>\n",
       "      <td>0.00122</td>\n",
       "      <td>-0.000305</td>\n",
       "      <td>-0.001110</td>\n",
       "    </tr>\n",
       "    <tr>\n",
       "      <th>1</th>\n",
       "      <td>0.0332</td>\n",
       "      <td>0.00122</td>\n",
       "      <td>-0.001530</td>\n",
       "      <td>-0.001110</td>\n",
       "    </tr>\n",
       "    <tr>\n",
       "      <th>2</th>\n",
       "      <td>0.0353</td>\n",
       "      <td>-0.00122</td>\n",
       "      <td>0.000916</td>\n",
       "      <td>0.000111</td>\n",
       "    </tr>\n",
       "    <tr>\n",
       "      <th>3</th>\n",
       "      <td>0.0374</td>\n",
       "      <td>-0.00244</td>\n",
       "      <td>0.000916</td>\n",
       "      <td>0.000264</td>\n",
       "    </tr>\n",
       "    <tr>\n",
       "      <th>4</th>\n",
       "      <td>0.0396</td>\n",
       "      <td>0.00000</td>\n",
       "      <td>-0.002750</td>\n",
       "      <td>0.000111</td>\n",
       "    </tr>\n",
       "  </tbody>\n",
       "</table>\n",
       "</div>"
      ],
      "text/plain": [
       "   Time (s)  Gyroscope x (rad/s)  Gyroscope y (rad/s)  Gyroscope z (rad/s)\n",
       "0    0.0310              0.00122            -0.000305            -0.001110\n",
       "1    0.0332              0.00122            -0.001530            -0.001110\n",
       "2    0.0353             -0.00122             0.000916             0.000111\n",
       "3    0.0374             -0.00244             0.000916             0.000264\n",
       "4    0.0396              0.00000            -0.002750             0.000111"
      ]
     },
     "execution_count": 20,
     "metadata": {},
     "output_type": "execute_result"
    }
   ],
   "source": [
    "traj_gyr_df.head()"
   ]
  },
  {
   "cell_type": "code",
   "execution_count": null,
   "metadata": {},
   "outputs": [
    {
     "data": {
      "text/html": [
       "<div>\n",
       "<style scoped>\n",
       "    .dataframe tbody tr th:only-of-type {\n",
       "        vertical-align: middle;\n",
       "    }\n",
       "\n",
       "    .dataframe tbody tr th {\n",
       "        vertical-align: top;\n",
       "    }\n",
       "\n",
       "    .dataframe thead th {\n",
       "        text-align: right;\n",
       "    }\n",
       "</style>\n",
       "<table border=\"1\" class=\"dataframe\">\n",
       "  <thead>\n",
       "    <tr style=\"text-align: right;\">\n",
       "      <th></th>\n",
       "      <th>Time (s)</th>\n",
       "      <th>Latitude (°)</th>\n",
       "      <th>Longitude (°)</th>\n",
       "      <th>Height (m)</th>\n",
       "      <th>Velocity (m/s)</th>\n",
       "      <th>Direction (°)</th>\n",
       "      <th>Horizontal Accuracy (m)</th>\n",
       "      <th>Vertical Accuracy (m)</th>\n",
       "    </tr>\n",
       "  </thead>\n",
       "  <tbody>\n",
       "    <tr>\n",
       "      <th>0</th>\n",
       "      <td>0.000000</td>\n",
       "      <td>45.447264</td>\n",
       "      <td>-73.798053</td>\n",
       "      <td>51.816190</td>\n",
       "      <td>0.0</td>\n",
       "      <td>61.189362</td>\n",
       "      <td>24.632000</td>\n",
       "      <td>9.429768</td>\n",
       "    </tr>\n",
       "    <tr>\n",
       "      <th>1</th>\n",
       "      <td>1.948017</td>\n",
       "      <td>45.446880</td>\n",
       "      <td>-73.796762</td>\n",
       "      <td>22.286429</td>\n",
       "      <td>0.0</td>\n",
       "      <td>61.189362</td>\n",
       "      <td>14.082784</td>\n",
       "      <td>14.651149</td>\n",
       "    </tr>\n",
       "    <tr>\n",
       "      <th>2</th>\n",
       "      <td>3.043338</td>\n",
       "      <td>45.446932</td>\n",
       "      <td>-73.796780</td>\n",
       "      <td>22.176985</td>\n",
       "      <td>0.0</td>\n",
       "      <td>61.189362</td>\n",
       "      <td>4.277642</td>\n",
       "      <td>27.384563</td>\n",
       "    </tr>\n",
       "    <tr>\n",
       "      <th>3</th>\n",
       "      <td>4.052077</td>\n",
       "      <td>45.446939</td>\n",
       "      <td>-73.796782</td>\n",
       "      <td>16.394296</td>\n",
       "      <td>0.0</td>\n",
       "      <td>61.189362</td>\n",
       "      <td>9.414026</td>\n",
       "      <td>15.854093</td>\n",
       "    </tr>\n",
       "    <tr>\n",
       "      <th>4</th>\n",
       "      <td>5.085355</td>\n",
       "      <td>45.446936</td>\n",
       "      <td>-73.796781</td>\n",
       "      <td>15.293201</td>\n",
       "      <td>0.0</td>\n",
       "      <td>61.189362</td>\n",
       "      <td>9.205843</td>\n",
       "      <td>12.037631</td>\n",
       "    </tr>\n",
       "  </tbody>\n",
       "</table>\n",
       "</div>"
      ],
      "text/plain": [
       "   Time (s)  Latitude (°)  Longitude (°)  Height (m)  Velocity (m/s)  \\\n",
       "0  0.000000     45.447264     -73.798053   51.816190             0.0   \n",
       "1  1.948017     45.446880     -73.796762   22.286429             0.0   \n",
       "2  3.043338     45.446932     -73.796780   22.176985             0.0   \n",
       "3  4.052077     45.446939     -73.796782   16.394296             0.0   \n",
       "4  5.085355     45.446936     -73.796781   15.293201             0.0   \n",
       "\n",
       "   Direction (°)  Horizontal Accuracy (m)  Vertical Accuracy (m)  \n",
       "0      61.189362                24.632000               9.429768  \n",
       "1      61.189362                14.082784              14.651149  \n",
       "2      61.189362                 4.277642              27.384563  \n",
       "3      61.189362                 9.414026              15.854093  \n",
       "4      61.189362                 9.205843              12.037631  "
      ]
     },
     "execution_count": 5,
     "metadata": {},
     "output_type": "execute_result"
    }
   ],
   "source": [
    "traj_gps_df.head()"
   ]
  },
  {
   "cell_type": "code",
   "execution_count": 18,
   "metadata": {},
   "outputs": [
    {
     "data": {
      "text/html": [
       "<div>\n",
       "<style scoped>\n",
       "    .dataframe tbody tr th:only-of-type {\n",
       "        vertical-align: middle;\n",
       "    }\n",
       "\n",
       "    .dataframe tbody tr th {\n",
       "        vertical-align: top;\n",
       "    }\n",
       "\n",
       "    .dataframe thead th {\n",
       "        text-align: right;\n",
       "    }\n",
       "</style>\n",
       "<table border=\"1\" class=\"dataframe\">\n",
       "  <thead>\n",
       "    <tr style=\"text-align: right;\">\n",
       "      <th></th>\n",
       "      <th>Time (s)</th>\n",
       "      <th>Latitude (°)</th>\n",
       "      <th>Longitude (°)</th>\n",
       "      <th>Height (m)</th>\n",
       "      <th>Velocity (m/s)</th>\n",
       "      <th>Direction (°)</th>\n",
       "      <th>Horizontal Accuracy (m)</th>\n",
       "      <th>Vertical Accuracy (m)</th>\n",
       "    </tr>\n",
       "  </thead>\n",
       "  <tbody>\n",
       "    <tr>\n",
       "      <th>786</th>\n",
       "      <td>793.605199</td>\n",
       "      <td>45.446937</td>\n",
       "      <td>-73.79683</td>\n",
       "      <td>20.123425</td>\n",
       "      <td>0.001600</td>\n",
       "      <td>65.843979</td>\n",
       "      <td>1.667726</td>\n",
       "      <td>1.650350</td>\n",
       "    </tr>\n",
       "    <tr>\n",
       "      <th>787</th>\n",
       "      <td>794.605227</td>\n",
       "      <td>45.446937</td>\n",
       "      <td>-73.79683</td>\n",
       "      <td>20.197818</td>\n",
       "      <td>0.001356</td>\n",
       "      <td>65.966217</td>\n",
       "      <td>1.851725</td>\n",
       "      <td>1.856987</td>\n",
       "    </tr>\n",
       "    <tr>\n",
       "      <th>788</th>\n",
       "      <td>795.605238</td>\n",
       "      <td>45.446937</td>\n",
       "      <td>-73.79683</td>\n",
       "      <td>20.164633</td>\n",
       "      <td>0.001067</td>\n",
       "      <td>65.933029</td>\n",
       "      <td>1.699418</td>\n",
       "      <td>2.054355</td>\n",
       "    </tr>\n",
       "    <tr>\n",
       "      <th>789</th>\n",
       "      <td>796.605272</td>\n",
       "      <td>45.446937</td>\n",
       "      <td>-73.79683</td>\n",
       "      <td>20.172889</td>\n",
       "      <td>0.000466</td>\n",
       "      <td>65.909470</td>\n",
       "      <td>1.564583</td>\n",
       "      <td>2.236105</td>\n",
       "    </tr>\n",
       "    <tr>\n",
       "      <th>790</th>\n",
       "      <td>797.605318</td>\n",
       "      <td>45.446937</td>\n",
       "      <td>-73.79683</td>\n",
       "      <td>20.183647</td>\n",
       "      <td>0.000351</td>\n",
       "      <td>65.959579</td>\n",
       "      <td>1.466302</td>\n",
       "      <td>2.402915</td>\n",
       "    </tr>\n",
       "  </tbody>\n",
       "</table>\n",
       "</div>"
      ],
      "text/plain": [
       "       Time (s)  Latitude (°)  Longitude (°)  Height (m)  Velocity (m/s)  \\\n",
       "786  793.605199     45.446937      -73.79683   20.123425        0.001600   \n",
       "787  794.605227     45.446937      -73.79683   20.197818        0.001356   \n",
       "788  795.605238     45.446937      -73.79683   20.164633        0.001067   \n",
       "789  796.605272     45.446937      -73.79683   20.172889        0.000466   \n",
       "790  797.605318     45.446937      -73.79683   20.183647        0.000351   \n",
       "\n",
       "     Direction (°)  Horizontal Accuracy (m)  Vertical Accuracy (m)  \n",
       "786      65.843979                 1.667726               1.650350  \n",
       "787      65.966217                 1.851725               1.856987  \n",
       "788      65.933029                 1.699418               2.054355  \n",
       "789      65.909470                 1.564583               2.236105  \n",
       "790      65.959579                 1.466302               2.402915  "
      ]
     },
     "execution_count": 18,
     "metadata": {},
     "output_type": "execute_result"
    }
   ],
   "source": [
    "traj_gps_df.tail()"
   ]
  },
  {
   "cell_type": "code",
   "execution_count": 21,
   "metadata": {},
   "outputs": [
    {
     "data": {
      "text/html": [
       "<div>\n",
       "<style scoped>\n",
       "    .dataframe tbody tr th:only-of-type {\n",
       "        vertical-align: middle;\n",
       "    }\n",
       "\n",
       "    .dataframe tbody tr th {\n",
       "        vertical-align: top;\n",
       "    }\n",
       "\n",
       "    .dataframe thead th {\n",
       "        text-align: right;\n",
       "    }\n",
       "</style>\n",
       "<table border=\"1\" class=\"dataframe\">\n",
       "  <thead>\n",
       "    <tr style=\"text-align: right;\">\n",
       "      <th></th>\n",
       "      <th>Latitude (°)</th>\n",
       "      <th>Longitude (°)</th>\n",
       "    </tr>\n",
       "  </thead>\n",
       "  <tbody>\n",
       "    <tr>\n",
       "      <th>0</th>\n",
       "      <td>45.447014</td>\n",
       "      <td>-73.796857</td>\n",
       "    </tr>\n",
       "    <tr>\n",
       "      <th>1</th>\n",
       "      <td>45.447038</td>\n",
       "      <td>-73.796779</td>\n",
       "    </tr>\n",
       "    <tr>\n",
       "      <th>2</th>\n",
       "      <td>45.447117</td>\n",
       "      <td>-73.796843</td>\n",
       "    </tr>\n",
       "    <tr>\n",
       "      <th>3</th>\n",
       "      <td>45.447164</td>\n",
       "      <td>-73.796908</td>\n",
       "    </tr>\n",
       "    <tr>\n",
       "      <th>4</th>\n",
       "      <td>45.447196</td>\n",
       "      <td>-73.796924</td>\n",
       "    </tr>\n",
       "  </tbody>\n",
       "</table>\n",
       "</div>"
      ],
      "text/plain": [
       "   Latitude (°)  Longitude (°)\n",
       "0     45.447014     -73.796857\n",
       "1     45.447038     -73.796779\n",
       "2     45.447117     -73.796843\n",
       "3     45.447164     -73.796908\n",
       "4     45.447196     -73.796924"
      ]
     },
     "execution_count": 21,
     "metadata": {},
     "output_type": "execute_result"
    }
   ],
   "source": [
    "traj_truth_df.head()"
   ]
  },
  {
   "cell_type": "code",
   "execution_count": 40,
   "metadata": {},
   "outputs": [],
   "source": [
    "traj_truth_lat_vec = traj_truth_df.loc[:, 'Latitude (°)'].to_numpy()\n",
    "traj_truth_long_vec = traj_truth_df.loc[:, 'Longitude (°)'].to_numpy()\n",
    "traj_gps_lat_vec = traj_gps_df.loc[:, 'Latitude (°)'].to_numpy()\n",
    "traj_gps_long_vec = traj_gps_df.loc[:, 'Longitude (°)'].to_numpy()\n",
    "traj_gps_h_vec = traj_gps_df.loc[:, 'Height (m)'].to_numpy()"
   ]
  },
  {
   "cell_type": "code",
   "execution_count": 41,
   "metadata": {},
   "outputs": [
    {
     "data": {
      "text/plain": [
       "numpy.ndarray"
      ]
     },
     "execution_count": 41,
     "metadata": {},
     "output_type": "execute_result"
    }
   ],
   "source": [
    "type(traj_gps_h_vec)"
   ]
  },
  {
   "cell_type": "code",
   "execution_count": 42,
   "metadata": {},
   "outputs": [
    {
     "data": {
      "text/plain": [
       "Text(0, 0.5, 'Latitude (°)')"
      ]
     },
     "execution_count": 42,
     "metadata": {},
     "output_type": "execute_result"
    },
    {
     "data": {
      "image/png": "[encoded data removed]",
      "text/plain": [
       "<Figure size 640x480 with 1 Axes>"
      ]
     },
     "metadata": {},
     "output_type": "display_data"
    }
   ],
   "source": [
    "plt.plot(traj_truth_long_vec, traj_truth_lat_vec, 'o')\n",
    "plt.plot(traj_gps_long_vec, traj_gps_lat_vec, '--')\n",
    "plt.title(\"GPS and Truth Coords of Traj Long/Lat\")\n",
    "plt.xlabel(\"Longitude (°)\")\n",
    "plt.ylabel(\"Latitude (°)\")"
   ]
  },
  {
   "cell_type": "markdown",
   "metadata": {},
   "source": [
    "## Preprocessing GPS Data to Local Coordinates\n",
    "\n",
    "First step would be to convert GPS long/lat measurements to relative xy-coords in meters.\n",
    "\n",
    "Since IMU is in ENU coords the conversion method is as follows:\n",
    "- Convert geodetic coords to ECEF coords\n",
    "- Convert ECEF coords to local ENU coords \n",
    "\n",
    "The Prime Vertical Radius of Curvature is\n",
    "$$\\frac{a^2}{\\sqrt{a^2\\cos^2\\phi + b^2\\sin^2\\phi}},$$\n",
    "where $a = 6378137.0m$ and $b = 6356752.314245 m$ are the semi-major axis and semi-minor axis, respectively. $\\phi$ is geodetic latitude and $\\lambda$ is geodetic longitude."
   ]
  },
  {
   "cell_type": "code",
   "execution_count": 102,
   "metadata": {},
   "outputs": [],
   "source": [
    "def ecef_enu_rotation_mat(lat_r, long_r):\n",
    "    phi_r = np.deg2rad(lat_r)\n",
    "    lmbd_r = np.deg2rad(long_r)\n",
    "    R = np.transpose(np.array([[-np.sin(lmbd_r), -np.sin(phi_r)*np.cos(lmbd_r), np.cos(phi_r)*np.cos(lmbd_r)],\n",
    "                 [np.cos(lmbd_r), -np.sin(phi_r)*np.sin(lmbd_r), np.cos(phi_r)*np.sin(lmbd_r)],\n",
    "                 [0, np.cos(phi_r), np.sin(phi_r)]]))\n",
    "    return R"
   ]
  },
  {
   "cell_type": "code",
   "execution_count": 105,
   "metadata": {},
   "outputs": [],
   "source": [
    "def basic_spherical_coords(lat, long):\n",
    "    R = 6371000\n",
    "    phi = np.deg2rad(lat)\n",
    "    lmbd = np.deg2rad(long)\n",
    "    x = R * np.cos(phi) * np.cos(lmbd)\n",
    "    y = R * np.cos(phi) * np.sin(lmbd)\n",
    "    z = R * np.sin(phi)\n",
    "    return np.array([x, y, z])"
   ]
  },
  {
   "cell_type": "code",
   "execution_count": 107,
   "metadata": {},
   "outputs": [],
   "source": [
    "def basic_ecef_enu(lat_r, long_r, lat_p, long_p):\n",
    "   R = ecef_enu_rotation_mat(lat_r, long_r) \n",
    "   x_r, y_r, z_r = basic_spherical_coords(lat_r, long_r)\n",
    "   x_p, y_p, z_p = basic_spherical_coords(lat_p, long_p)\n",
    "   delta = np.array([x_p - x_r, y_p - y_r, z_p - z_r])\n",
    "   delta.reshape((delta.shape[0], 1))\n",
    "   enu = R @ delta\n",
    "   return enu"
   ]
  },
  {
   "cell_type": "code",
   "execution_count": 52,
   "metadata": {},
   "outputs": [],
   "source": [
    "def prime_vert_radius_curvature(lat, a=6378137.0, b=6356752.314245):\n",
    "    phi = np.deg2rad(lat)\n",
    "    return a**2 / np.sqrt(a**2 * np.cos(phi)**2 + b**2 * np.sin(phi)**2)"
   ]
  },
  {
   "cell_type": "code",
   "execution_count": 53,
   "metadata": {},
   "outputs": [
    {
     "data": {
      "text/plain": [
       "np.float64(6388838.290121239)"
      ]
     },
     "execution_count": 53,
     "metadata": {},
     "output_type": "execute_result"
    }
   ],
   "source": [
    "prime_vert_radius_curvature(45)"
   ]
  },
  {
   "cell_type": "code",
   "execution_count": 54,
   "metadata": {},
   "outputs": [],
   "source": [
    "def geodet_to_ecef(lat, long, h):\n",
    "    a = 6378137.0\n",
    "    b = 6356752.314245\n",
    "    phi = np.deg2rad(lat)\n",
    "    lmbd = np.deg2rad(long)\n",
    "    N = prime_vert_radius_curvature(lat)\n",
    "    x = (N + h) * np.cos(phi) * np.cos(lmbd)\n",
    "    y = (N + h) * np.cos(phi) * np.sin(lmbd)\n",
    "    z = (b**2 / a**2 * N + h) * np.sin(phi)\n",
    "    return x, y, z"
   ]
  },
  {
   "cell_type": "code",
   "execution_count": 103,
   "metadata": {},
   "outputs": [],
   "source": [
    "def ecef_enu(lat_r, long_r, h_r, lat_p, long_p, h_p):\n",
    "    R = ecef_enu_rotation_mat(lat_r, long_r)\n",
    "    x_r, y_r, z_r = geodet_to_ecef(lat_r, long_r, h_r)\n",
    "    x_p, y_p, z_p = geodet_to_ecef(lat_p, long_p, h_p)\n",
    "    delta = np.array([x_p - x_r, y_p - y_r, z_p - z_r])\n",
    "    delta.reshape((delta.shape[0], 1))\n",
    "    enu = R @ delta\n",
    "    return enu"
   ]
  },
  {
   "cell_type": "code",
   "execution_count": 58,
   "metadata": {},
   "outputs": [
    {
     "data": {
      "text/plain": [
       "'ref: (45.4472644, -73.7980526, 51.81619023); p: (45.44693658, -73.79682967, 20.1836471)'"
      ]
     },
     "execution_count": 58,
     "metadata": {},
     "output_type": "execute_result"
    }
   ],
   "source": [
    "lat_r = traj_gps_lat_vec[0]\n",
    "long_r = traj_gps_long_vec[0]\n",
    "h_r = traj_gps_h_vec[0]\n",
    "lat_p = traj_gps_lat_vec[-1]\n",
    "long_p  = traj_gps_long_vec[-1]\n",
    "h_p = traj_gps_h_vec[-1]\n",
    "f\"ref: ({lat_r}, {long_r}, {h_r}); p: ({lat_p}, {long_p}, {h_p})\""
   ]
  },
  {
   "cell_type": "code",
   "execution_count": 104,
   "metadata": {},
   "outputs": [
    {
     "data": {
      "text/plain": [
       "'x: 95.67188449876879m, y: -36.43347151212124m, z: -31.633363672493026m'"
      ]
     },
     "execution_count": 104,
     "metadata": {},
     "output_type": "execute_result"
    }
   ],
   "source": [
    "# Correction: conv deg2rad for np.\n",
    "enu_res = ecef_enu(lat_r, long_r, h_r, lat_p, long_p, h_p)\n",
    "f\"x: {enu_res[0]}m, y: {enu_res[1]}m, z: {enu_res[2]}m\""
   ]
  },
  {
   "cell_type": "code",
   "execution_count": 76,
   "metadata": {},
   "outputs": [
    {
     "data": {
      "text/plain": [
       "'x: 0.0m, y: 0.0m, z: 0.0m'"
      ]
     },
     "execution_count": 76,
     "metadata": {},
     "output_type": "execute_result"
    }
   ],
   "source": [
    "enu_res = ecef_enu(lat_r, long_r, h_r, lat_r, long_r, h_r)\n",
    "f\"x: {enu_res[0]}m, y: {enu_res[1]}m, z: {enu_res[2]}m\""
   ]
  },
  {
   "cell_type": "code",
   "execution_count": 78,
   "metadata": {},
   "outputs": [
    {
     "name": "stdout",
     "output_type": "stream",
     "text": [
      "x: 0.0m, y: 0.0m, z: 0.0m\n",
      "x: 95.67188449876879m, y: -36.43347151212124m, z: -31.633363672493026m\n"
     ]
    }
   ],
   "source": [
    "ecef_enu_ref = partial(ecef_enu, lat_r, long_r, h_r)\n",
    "enu_res = ecef_enu_ref(lat_r, long_r, h_r)\n",
    "print(f\"x: {enu_res[0]}m, y: {enu_res[1]}m, z: {enu_res[2]}m\")\n",
    "enu_res = ecef_enu_ref(lat_p, long_p, h_p)\n",
    "print(f\"x: {enu_res[0]}m, y: {enu_res[1]}m, z: {enu_res[2]}m\")"
   ]
  },
  {
   "cell_type": "code",
   "execution_count": null,
   "metadata": {},
   "outputs": [
    {
     "data": {
      "text/plain": [
       "((791,), (791,), (791,))"
      ]
     },
     "execution_count": 66,
     "metadata": {},
     "output_type": "execute_result"
    }
   ],
   "source": [
    "traj_gps_lat_vec.shape, traj_gps_long_vec.shape, traj_gps_h_vec.shape"
   ]
  },
  {
   "cell_type": "code",
   "execution_count": 70,
   "metadata": {},
   "outputs": [
    {
     "data": {
      "text/plain": [
       "((791, 3),\n",
       " array([[ 45.4472644 , -73.7980526 ,  51.81619023],\n",
       "        [ 45.44688041, -73.79676242,  22.28642877],\n",
       "        [ 45.44693199, -73.79678013,  22.17698474],\n",
       "        ...,\n",
       "        [ 45.44693656, -73.79682976,  20.1646328 ],\n",
       "        [ 45.44693658, -73.79682968,  20.17288877],\n",
       "        [ 45.44693658, -73.79682967,  20.1836471 ]]))"
      ]
     },
     "execution_count": 70,
     "metadata": {},
     "output_type": "execute_result"
    }
   ],
   "source": [
    "traj_gps_geodet_vec = np.stack((traj_gps_lat_vec, traj_gps_long_vec, traj_gps_h_vec), axis=1)\n",
    "traj_gps_geodet_vec.shape, traj_gps_geodet_vec"
   ]
  },
  {
   "cell_type": "code",
   "execution_count": 85,
   "metadata": {},
   "outputs": [
    {
     "data": {
      "text/plain": [
       "((791, 3),\n",
       " array([[  0.        ,   0.        ,   0.        ],\n",
       "        [100.93309925, -42.67618568, -29.53070173],\n",
       "        [ 99.54752171, -36.9435595 , -29.64008818],\n",
       "        ...,\n",
       "        [ 95.6648434 , -36.43569433, -31.65237788],\n",
       "        [ 95.67110202, -36.43347146, -31.64412199],\n",
       "        [ 95.6718845 , -36.43347151, -31.63336367]]))"
      ]
     },
     "execution_count": 85,
     "metadata": {},
     "output_type": "execute_result"
    }
   ],
   "source": [
    "# Get x/y gps vecs.\n",
    "traj_gps_enu_vec = np.apply_along_axis(lambda row: ecef_enu_ref(row[0], row[1], row[2]), 1, traj_gps_geodet_vec)\n",
    "traj_gps_enu_vec.shape, traj_gps_enu_vec"
   ]
  },
  {
   "cell_type": "code",
   "execution_count": 87,
   "metadata": {},
   "outputs": [
    {
     "name": "stdout",
     "output_type": "stream",
     "text": [
      "x: 0.0m, y: 0.0m, z: 0.0m\n",
      "x: 100.93309925478106m, y: -42.676185683988834m, z: -29.530701727832785m\n",
      "x: 99.54752170760848m, y: -36.94355950084788m, z: -29.640088181206025m\n",
      "x: 99.41286113149546m, y: -36.18221361529641m, z: -35.422770443903545m\n",
      "x: 99.4691762733957m, y: -36.53007710500792m, z: -36.52386845600536m\n",
      "x: 98.67982526046832m, y: -36.10109087154492m, z: -35.688059778778694m\n",
      "x: 93.5001617285933m, y: -36.230113299887265m, z: -32.176193649300366m\n",
      "x: 92.69204600640607m, y: -36.61578873756527m, z: -31.356697660591866m\n",
      "x: 93.51034242993217m, y: -36.53353006108599m, z: -31.76139299314499m\n",
      "x: 94.43580451633518m, y: -36.21342515372898m, z: -32.710853116310844m\n"
     ]
    }
   ],
   "source": [
    "for i in range(10):\n",
    "    print(f\"x: {traj_gps_enu_vec[i][0]}m, y: {traj_gps_enu_vec[i][1]}m, z: {traj_gps_enu_vec[i][2]}m\")"
   ]
  },
  {
   "cell_type": "code",
   "execution_count": null,
   "metadata": {},
   "outputs": [
    {
     "name": "stdout",
     "output_type": "stream",
     "text": [
      "x: 95.67188449876879m, y: -36.43347151212124m, z: -31.633363672493026m\n",
      "x: 95.6711020199083m, y: -36.433471462334666m, z: -31.644121991036886m\n",
      "x: 95.664843395017m, y: -36.43569432780591m, z: -31.652377878842234m\n",
      "x: 95.6562384739537m, y: -36.440140282788924m, z: -31.61919231530664m\n",
      "x: 95.6554550424984m, y: -36.44013986859572m, z: -31.693585804179527m\n",
      "x: 95.5295034643158m, y: -36.4968238481446m, z: -31.65440669467723m\n",
      "x: 95.35114088140973m, y: -36.57907249993333m, z: -31.357393230411805m\n",
      "x: 95.38634101200432m, y: -36.563510746181066m, z: -31.618478277762172m\n",
      "x: 95.2494378082414m, y: -36.62464081156337m, z: -31.52880783526206m\n",
      "x: 94.76518098670913m, y: -36.99140979279703m, z: -32.07793553470785m\n"
     ]
    }
   ],
   "source": [
    "for i in range(traj_gps_enu_vec.shape[0]-1, traj_gps_enu_vec.shape[0]-11, -1):\n",
    "    print(f\"x: {traj_gps_enu_vec[i][0]}m, y: {traj_gps_enu_vec[i][1]}m, z: {traj_gps_enu_vec[i][2]}m\")"
   ]
  },
  {
   "cell_type": "code",
   "execution_count": 90,
   "metadata": {},
   "outputs": [
    {
     "name": "stdout",
     "output_type": "stream",
     "text": [
      "x: 3009.7896023372855m, y: -591.2180626136617m, z: -33.800424371816405m\n",
      "x: 3012.537127141907m, y: -591.0000012966082m, z: -34.0347240436256m\n",
      "x: 3017.2069999308624m, y: -590.6009913848424m, z: -34.02975484770275m\n",
      "x: 3023.7335092246044m, y: -590.0921853019278m, z: -33.83841743433567m\n",
      "x: 3032.0162703003302m, y: -589.3713389474m, z: -33.86113600167329m\n",
      "x: 3040.7505678574316m, y: -588.850317848164m, z: -33.872757996285316m\n",
      "x: 3048.80988094434m, y: -588.8819712035713m, z: -33.99346374851308m\n",
      "x: 3056.2213791978656m, y: -589.0183915500093m, z: -34.21905143352967m\n",
      "x: 3062.964700114136m, y: -589.0217683148835m, z: -34.35073908005103m\n",
      "x: 3068.091623298674m, y: -588.7058732440635m, z: -34.13452943184967m\n"
     ]
    }
   ],
   "source": [
    "for i in range(traj_gps_enu_vec.shape[0]//2-1, traj_gps_enu_vec.shape[0]//2-11, -1):\n",
    "    print(f\"x: {traj_gps_enu_vec[i][0]}m, y: {traj_gps_enu_vec[i][1]}m, z: {traj_gps_enu_vec[i][2]}m\")"
   ]
  },
  {
   "cell_type": "code",
   "execution_count": 97,
   "metadata": {},
   "outputs": [
    {
     "data": {
      "text/plain": [
       "((253, 2),\n",
       " array([[ 45.4470137, -73.7968565],\n",
       "        [ 45.4470382, -73.7967788],\n",
       "        [ 45.4471172, -73.7968431],\n",
       "        [ 45.4471642, -73.7969075],\n",
       "        [ 45.4471962, -73.7969236],\n",
       "        [ 45.4473844, -73.7969906],\n",
       "        [ 45.4475312, -73.7970282],\n",
       "        [ 45.4476667, -73.7970389],\n",
       "        [ 45.4478134, -73.7969826],\n",
       "        [ 45.447932 , -73.7969021],\n",
       "        [ 45.4480392, -73.79676  ],\n",
       "        [ 45.4481239, -73.7965722],\n",
       "        [ 45.4482707, -73.7960519],\n",
       "        [ 45.4484438, -73.7953223],\n",
       "        [ 45.4486094, -73.7944801],\n",
       "        [ 45.4486734, -73.7940778],\n",
       "        [ 45.4488371, -73.7928225],\n",
       "        [ 45.4490083, -73.7911595],\n",
       "        [ 45.4490704, -73.7905104],\n",
       "        [ 45.4491382, -73.7896575],\n",
       "        [ 45.4491984, -73.7888662],\n",
       "        [ 45.4492285, -73.7882869],\n",
       "        [ 45.4492529, -73.7877022],\n",
       "        [ 45.4492755, -73.7870477],\n",
       "        [ 45.4492868, -73.7864576],\n",
       "        [ 45.4492925, -73.7858353],\n",
       "        [ 45.4492925, -73.7853123],\n",
       "        [ 45.4492849, -73.7845103],\n",
       "        [ 45.4492755, -73.7839176],\n",
       "        [ 45.4492492, -73.7827374],\n",
       "        [ 45.449236 , -73.7819649],\n",
       "        [ 45.4492153, -73.7809403],\n",
       "        [ 45.4491965, -73.7802   ],\n",
       "        [ 45.4491796, -73.7791915],\n",
       "        [ 45.4491589, -73.7783627],\n",
       "        [ 45.4491382, -73.7772201],\n",
       "        [ 45.4491099, -73.7757583],\n",
       "        [ 45.4490874, -73.7745513],\n",
       "        [ 45.4490761, -73.7735911],\n",
       "        [ 45.4490591, -73.7728186],\n",
       "        [ 45.449046 , -73.7720863],\n",
       "        [ 45.449029 , -73.7713943],\n",
       "        [ 45.4490196, -73.7706755],\n",
       "        [ 45.4490046, -73.7700935],\n",
       "        [ 45.4489952, -73.7694309],\n",
       "        [ 45.4489876, -73.7689991],\n",
       "        [ 45.4489688, -73.7680898],\n",
       "        [ 45.4489481, -73.7671001],\n",
       "        [ 45.4489255, -73.7660031],\n",
       "        [ 45.4489086, -73.7651555],\n",
       "        [ 45.4488917, -73.7641363],\n",
       "        [ 45.4488634, -73.7627469],\n",
       "        [ 45.4488503, -73.7620307],\n",
       "        [ 45.448822 , -73.7604751],\n",
       "        [ 45.44879  , -73.7589489],\n",
       "        [ 45.4487637, -73.7575595],\n",
       "        [ 45.4487515, -73.7571337],\n",
       "        [ 45.448742 , -73.7567508],\n",
       "        [ 45.4487377, -73.7564284],\n",
       "        [ 45.4487123, -73.7559858],\n",
       "        [ 45.4486352, -73.754807 ],\n",
       "        [ 45.4485834, -73.7541271],\n",
       "        [ 45.4485496, -73.753596 ],\n",
       "        [ 45.4484875, -73.753077 ],\n",
       "        [ 45.4484094, -73.7522106],\n",
       "        [ 45.4483906, -73.7520698],\n",
       "        [ 45.4483454, -73.7520229],\n",
       "        [ 45.4482795, -73.7520215],\n",
       "        [ 45.4481459, -73.7519934],\n",
       "        [ 45.447875 , -73.751921 ],\n",
       "        [ 45.447158 , -73.7517466],\n",
       "        [ 45.447016 , -73.7516903],\n",
       "        [ 45.4469529, -73.751642 ],\n",
       "        [ 45.4468983, -73.7515454],\n",
       "        [ 45.4468767, -73.7514261],\n",
       "        [ 45.4468579, -73.7512973],\n",
       "        [ 45.4467713, -73.7505571],\n",
       "        [ 45.4467563, -73.7504685],\n",
       "        [ 45.4467327, -73.750435 ],\n",
       "        [ 45.4466754, -73.7504122],\n",
       "        [ 45.4462435, -73.7502942],\n",
       "        [ 45.4448487, -73.7499093],\n",
       "        [ 45.4448092, -73.7499039],\n",
       "        [ 45.4447819, -73.7499106],\n",
       "        [ 45.4447555, -73.7499468],\n",
       "        [ 45.4447508, -73.7500273],\n",
       "        [ 45.4448092, -73.7503652],\n",
       "        [ 45.4448995, -73.7508373],\n",
       "        [ 45.4449032, -73.7509258],\n",
       "        [ 45.4448044, -73.7516621],\n",
       "        [ 45.4446229, -73.7529361],\n",
       "        [ 45.4445485, -73.7534833],\n",
       "        [ 45.4445316, -73.7536979],\n",
       "        [ 45.4445448, -73.7538736],\n",
       "        [ 45.4446097, -73.7542907],\n",
       "        [ 45.4446962, -73.7548781],\n",
       "        [ 45.4448487, -73.7559322],\n",
       "        [ 45.4448713, -73.7560636],\n",
       "        [ 45.4451404, -73.7579023],\n",
       "        [ 45.4451977, -73.7583515],\n",
       "        [ 45.4451921, -73.7584441],\n",
       "        [ 45.4451545, -73.7584762],\n",
       "        [ 45.4450811, -73.7584682],\n",
       "        [ 45.4437346, -73.7581115],\n",
       "        [ 45.4430938, -73.7579398],\n",
       "        [ 45.4428746, -73.7578701],\n",
       "        [ 45.4428069, -73.7578687],\n",
       "        [ 45.4427655, -73.757909 ],\n",
       "        [ 45.44274  , -73.7579948],\n",
       "        [ 45.4427109, -73.7587485],\n",
       "        [ 45.4426817, -73.7588155],\n",
       "        [ 45.4425961, -73.7588679],\n",
       "        [ 45.4424879, -73.7588464],\n",
       "        [ 45.4420635, -73.7586975],\n",
       "        [ 45.4420155, -73.7586922],\n",
       "        [ 45.4419779, -73.7587244],\n",
       "        [ 45.4419675, -73.7588316],\n",
       "        [ 45.4419402, -73.7595666],\n",
       "        [ 45.4418405, -73.7612805],\n",
       "        [ 45.4418132, -73.7613663],\n",
       "        [ 45.4417323, -73.7614186],\n",
       "        [ 45.4416212, -73.7613878],\n",
       "        [ 45.4404526, -73.7610203],\n",
       "        [ 45.440413 , -73.7610257],\n",
       "        [ 45.4403876, -73.7610592],\n",
       "        [ 45.440382 , -73.761141 ],\n",
       "        [ 45.4404074, -73.7612269],\n",
       "        [ 45.440477 , -73.7614884],\n",
       "        [ 45.4405561, -73.7619215],\n",
       "        [ 45.4406276, -73.762348 ],\n",
       "        [ 45.4406727, -73.7627195],\n",
       "        [ 45.4406831, -73.7630199],\n",
       "        [ 45.4406822, -73.7632734],\n",
       "        [ 45.4406511, -73.7635175],\n",
       "        [ 45.4405871, -73.7637267],\n",
       "        [ 45.4404855, -73.7640003],\n",
       "        [ 45.4404422, -73.7641263],\n",
       "        [ 45.440398 , -73.7643087],\n",
       "        [ 45.4403679, -73.7644978],\n",
       "        [ 45.4403481, -73.7647473],\n",
       "        [ 45.4403368, -73.7649954],\n",
       "        [ 45.4403218, -73.7654138],\n",
       "        [ 45.4402992, -73.7658268],\n",
       "        [ 45.4402738, -73.7664907],\n",
       "        [ 45.4402531, -73.7668649],\n",
       "        [ 45.4402455, -73.7670915],\n",
       "        [ 45.4402493, -73.7672471],\n",
       "        [ 45.4403039, -73.7674844],\n",
       "        [ 45.4404497, -73.7678506],\n",
       "        [ 45.4405824, -73.7681698],\n",
       "        [ 45.4406718, -73.7683803],\n",
       "        [ 45.4408713, -73.7688376],\n",
       "        [ 45.4409494, -73.769016 ],\n",
       "        [ 45.4409776, -73.7691166],\n",
       "        [ 45.4410124, -73.7693338],\n",
       "        [ 45.4410303, -73.7695725],\n",
       "        [ 45.4410247, -73.7697013],\n",
       "        [ 45.4410059, -73.7698716],\n",
       "        [ 45.4409287, -73.7704349],\n",
       "        [ 45.4408365, -73.7712664],\n",
       "        [ 45.4407951, -73.7714769],\n",
       "        [ 45.4407508, -73.7717049],\n",
       "        [ 45.4407141, -73.7718806],\n",
       "        [ 45.4407113, -73.772059 ],\n",
       "        [ 45.440732 , -73.7722346],\n",
       "        [ 45.4408365, -73.7725216],\n",
       "        [ 45.4409644, -73.7728542],\n",
       "        [ 45.4413427, -73.7738158],\n",
       "        [ 45.4414556, -73.7740746],\n",
       "        [ 45.4415206, -73.7741766],\n",
       "        [ 45.4416485, -73.7743616],\n",
       "        [ 45.4417709, -73.7744676],\n",
       "        [ 45.4418593, -73.7745252],\n",
       "        [ 45.4419308, -73.7745628],\n",
       "        [ 45.4419976, -73.7745923],\n",
       "        [ 45.442359 , -73.7746875],\n",
       "        [ 45.442614 , -73.7747653],\n",
       "        [ 45.4427909, -73.774835 ],\n",
       "        [ 45.4429066, -73.7748967],\n",
       "        [ 45.4430223, -73.7749933],\n",
       "        [ 45.443139 , -73.7751247],\n",
       "        [ 45.4433121, -73.7753581],\n",
       "        [ 45.4435201, -73.775633 ],\n",
       "        [ 45.4437638, -73.7759736],\n",
       "        [ 45.443984 , -73.7762834],\n",
       "        [ 45.4442512, -73.7766509],\n",
       "        [ 45.4443904, -73.7768413],\n",
       "        [ 45.4445401, -73.7770653],\n",
       "        [ 45.4447819, -73.7774837],\n",
       "        [ 45.4453154, -73.7784265],\n",
       "        [ 45.4455751, -73.7788409],\n",
       "        [ 45.4457764, -73.7791614],\n",
       "        [ 45.4462459, -73.7801109],\n",
       "        [ 45.4466006, -73.7809049],\n",
       "        [ 45.4467408, -73.7813166],\n",
       "        [ 45.446833 , -73.7816666],\n",
       "        [ 45.4468641, -73.7818799],\n",
       "        [ 45.446944 , -73.7824847],\n",
       "        [ 45.4469949, -73.7827449],\n",
       "        [ 45.4471285, -73.7832076],\n",
       "        [ 45.4472621, -73.7836528],\n",
       "        [ 45.4474248, -73.7841302],\n",
       "        [ 45.4475039, -73.7842939],\n",
       "        [ 45.4476036, -73.7844923],\n",
       "        [ 45.4476497, -73.7846063],\n",
       "        [ 45.4478586, -73.7853761],\n",
       "        [ 45.4480082, -73.7859689],\n",
       "        [ 45.4481023, -73.7864074],\n",
       "        [ 45.4481117, -73.7864933],\n",
       "        [ 45.4481079, -73.786795 ],\n",
       "        [ 45.4480938, -73.7868621],\n",
       "        [ 45.4479592, -73.7872792],\n",
       "        [ 45.4479244, -73.7874226],\n",
       "        [ 45.4479131, -73.7875849],\n",
       "        [ 45.4479724, -73.7879926],\n",
       "        [ 45.4480293, -73.7882702],\n",
       "        [ 45.4480825, -73.7885505],\n",
       "        [ 45.4481709, -73.7889743],\n",
       "        [ 45.4482387, -73.7893136],\n",
       "        [ 45.4482773, -73.7895671],\n",
       "        [ 45.4482791, -73.7898635],\n",
       "        [ 45.448297 , -73.790125 ],\n",
       "        [ 45.4483384, -73.7903476],\n",
       "        [ 45.4483713, -73.7905421],\n",
       "        [ 45.4483648, -73.7907794],\n",
       "        [ 45.4483243, -73.7914151],\n",
       "        [ 45.448313 , -73.7919596],\n",
       "        [ 45.4483271, -73.7925658],\n",
       "        [ 45.4483563, -73.7931746],\n",
       "        [ 45.4483798, -73.7934952],\n",
       "        [ 45.4483695, -73.7936467],\n",
       "        [ 45.4483384, -73.7938157],\n",
       "        [ 45.448249 , -73.7941161],\n",
       "        [ 45.4481474, -73.7943146],\n",
       "        [ 45.4479291, -73.794733 ],\n",
       "        [ 45.4478708, -73.7949275],\n",
       "        [ 45.4478162, -73.7952601],\n",
       "        [ 45.4477701, -73.7955538],\n",
       "        [ 45.4476986, -73.7958461],\n",
       "        [ 45.447598 , -73.7960808],\n",
       "        [ 45.4474267, -73.7964282],\n",
       "        [ 45.4473571, -73.7965837],\n",
       "        [ 45.4473138, -73.7967125],\n",
       "        [ 45.4472611, -73.796919 ],\n",
       "        [ 45.4472225, -73.796982 ],\n",
       "        [ 45.4471463, -73.79697  ],\n",
       "        [ 45.447088 , -73.796974 ],\n",
       "        [ 45.4470522, -73.7970129],\n",
       "        [ 45.4469977, -73.7970075],\n",
       "        [ 45.4469553, -73.796978 ],\n",
       "        [ 45.4469497, -73.7969338],\n",
       "        [ 45.4469742, -73.7968667],\n",
       "        [ 45.4469949, -73.7968305]]))"
      ]
     },
     "execution_count": 97,
     "metadata": {},
     "output_type": "execute_result"
    }
   ],
   "source": [
    "traj_truth_geodet_vec = np.stack((traj_truth_lat_vec, traj_truth_long_vec), axis=1)\n",
    "traj_truth_geodet_vec.shape, traj_truth_geodet_vec"
   ]
  },
  {
   "cell_type": "code",
   "execution_count": 108,
   "metadata": {},
   "outputs": [
    {
     "data": {
      "text/plain": [
       "'ref: (45.4470137, -73.7968565); p: (45.4469949, -73.7968305)'"
      ]
     },
     "execution_count": 108,
     "metadata": {},
     "output_type": "execute_result"
    }
   ],
   "source": [
    "# Make truth charted.\n",
    "lat_truth_r = traj_truth_lat_vec[0]\n",
    "long_truth_r = traj_truth_long_vec[0]\n",
    "lat_truth_p = traj_truth_lat_vec[-1]\n",
    "long_truth_p  = traj_truth_long_vec[-1]\n",
    "f\"ref: ({lat_truth_r}, {long_truth_r}); p: ({lat_truth_p}, {long_truth_p})\""
   ]
  },
  {
   "cell_type": "code",
   "execution_count": 110,
   "metadata": {},
   "outputs": [
    {
     "data": {
      "text/plain": [
       "((253, 3),\n",
       " array([[ 0.00000000e+00,  0.00000000e+00,  0.00000000e+00],\n",
       "        [ 6.06144161e+00,  2.72427863e+00, -3.46608116e-06],\n",
       "        [ 1.04534368e+00,  1.15086750e+01, -1.04810335e-05],\n",
       "        [-3.97854352e+00,  1.67348377e+01, -2.32210838e-05],\n",
       "        [-5.23451214e+00,  2.02930763e+01, -3.44695108e-05],\n",
       "        [-1.04611883e+01,  4.12199680e+01, -1.41933803e-04],\n",
       "        [-1.33943427e+01,  5.75433888e+01, -2.73948471e-04],\n",
       "        [-1.42290171e+01,  7.26103032e+01, -4.29659260e-04],\n",
       "        [-9.83703067e+00,  8.89225905e+01, -6.28158831e-04],\n",
       "        [-3.55723755e+00,  1.02110302e+02, -8.19272751e-04],\n",
       "        [ 7.52791166e+00,  1.14030402e+02, -1.02492609e-03],\n",
       "        [ 2.21780525e+01,  1.23448647e+02, -1.23461269e-03],\n",
       "        [ 6.27661436e+01,  1.39772337e+02, -1.84240257e-03],\n",
       "        [ 1.19681235e+02,  1.59021006e+02, -3.10871742e-03],\n",
       "        [ 1.85379776e+02,  1.77436484e+02, -5.16789903e-03],\n",
       "        [ 2.16762414e+02,  1.84553965e+02, -6.36054914e-03],\n",
       "        [ 3.14685658e+02,  2.02760723e+02, -1.09981927e-02],\n",
       "        [ 4.44412185e+02,  2.21805145e+02, -1.93611451e-02],\n",
       "        [ 4.95046702e+02,  2.28714142e+02, -2.33386751e-02],\n",
       "        [ 5.61579067e+02,  2.36258762e+02, -2.91311612e-02],\n",
       "        [ 6.23306074e+02,  2.42958527e+02, -3.51231610e-02],\n",
       "        [ 6.68495661e+02,  2.46310148e+02, -3.98332397e-02],\n",
       "        [ 7.14106514e+02,  2.49028332e+02, -4.48880263e-02],\n",
       "        [ 7.65162291e+02,  2.51547358e+02, -5.09142526e-02],\n",
       "        [ 8.11194494e+02,  2.52809645e+02, -5.66590194e-02],\n",
       "        [ 8.59738611e+02,  2.53449922e+02, -6.30503332e-02],\n",
       "        [ 9.00536645e+02,  2.53455647e+02, -6.86867067e-02],\n",
       "        [ 9.63098960e+02,  2.52619861e+02, -7.78038308e-02],\n",
       "        [ 1.00933431e+03,  2.51581898e+02, -8.49198865e-02],\n",
       "        [ 1.10139955e+03,  2.48672963e+02, -1.00056444e-01],\n",
       "        [ 1.16166082e+03,  2.47216061e+02, -1.10702532e-01],\n",
       "        [ 1.24158806e+03,  2.44929639e+02, -1.25689174e-01],\n",
       "        [ 1.29933768e+03,  2.42850872e+02, -1.37125645e-01],\n",
       "        [ 1.37800900e+03,  2.40988469e+02, -1.53585330e-01],\n",
       "        [ 1.44266245e+03,  2.38701271e+02, -1.67811432e-01],\n",
       "        [ 1.53179483e+03,  2.36420671e+02, -1.88533212e-01],\n",
       "        [ 1.64582764e+03,  2.33302741e+02, -2.16855976e-01],\n",
       "        [ 1.73998394e+03,  2.30826268e+02, -2.41785037e-01],\n",
       "        [ 1.81488758e+03,  2.29590992e+02, -2.62637657e-01],\n",
       "        [ 1.87514933e+03,  2.27718405e+02, -2.80022034e-01],\n",
       "        [ 1.93227506e+03,  2.26279090e+02, -2.97040434e-01],\n",
       "        [ 1.98625723e+03,  2.24405639e+02, -3.13575244e-01],\n",
       "        [ 2.04232977e+03,  2.23378415e+02, -3.31267376e-01],\n",
       "        [ 2.08773103e+03,  2.21725439e+02, -3.45925533e-01],\n",
       "        [ 2.13941955e+03,  2.20697624e+02, -3.63037483e-01],\n",
       "        [ 2.17310375e+03,  2.19864123e+02, -3.74409063e-01],\n",
       "        [ 2.24403729e+03,  2.17798635e+02, -3.98927935e-01],\n",
       "        [ 2.32124281e+03,  2.15524998e+02, -4.26512272e-01],\n",
       "        [ 2.40681874e+03,  2.13044247e+02, -4.58182744e-01],\n",
       "        [ 2.47293924e+03,  2.11190773e+02, -4.83442967e-01],\n",
       "        [ 2.55244600e+03,  2.09343430e+02, -5.14739093e-01],\n",
       "        [ 2.66083200e+03,  2.06241658e+02, -5.58983118e-01],\n",
       "        [ 2.71670217e+03,  2.04808955e+02, -5.82515912e-01],\n",
       "        [ 2.83805333e+03,  2.01715874e+02, -6.35319132e-01],\n",
       "        [ 2.95711134e+03,  1.98212637e+02, -6.89357732e-01],\n",
       "        [ 3.06549763e+03,  1.95340247e+02, -7.40498673e-01],\n",
       "        [ 3.09871429e+03,  1.93999992e+02, -7.56526984e-01],\n",
       "        [ 3.12858425e+03,  1.92958468e+02, -7.71093469e-01],\n",
       "        [ 3.15373442e+03,  1.92492925e+02, -7.83479431e-01],\n",
       "        [ 3.18826240e+03,  1.89686030e+02, -8.00580644e-01],\n",
       "        [ 3.28022330e+03,  1.81160319e+02, -8.47016533e-01],\n",
       "        [ 3.33326441e+03,  1.75428385e+02, -8.74386084e-01],\n",
       "        [ 3.37469683e+03,  1.71692152e+02, -8.96096195e-01],\n",
       "        [ 3.41518712e+03,  1.64808862e+02, -9.17490650e-01],\n",
       "        [ 3.48277877e+03,  1.56161704e+02, -9.53864021e-01],\n",
       "        [ 3.49376359e+03,  1.54077349e+02, -9.59827717e-01],\n",
       "        [ 3.49742501e+03,  1.49053378e+02, -9.61717119e-01],\n",
       "        [ 3.49753831e+03,  1.41725694e+02, -9.61612096e-01],\n",
       "        [ 3.49973865e+03,  1.26871277e+02, -9.62507291e-01],\n",
       "        [ 3.50540336e+03,  9.67517299e+01, -9.65092964e-01],\n",
       "        [ 3.51905297e+03,  1.70325982e+01, -9.71905893e-01],\n",
       "        [ 3.52345384e+03,  1.24538674e+00, -9.74315609e-01],\n",
       "        [ 3.52722571e+03, -5.76889428e+00, -9.76405232e-01],\n",
       "        [ 3.53476499e+03, -1.18358940e+01, -9.80592103e-01],\n",
       "        [ 3.54407306e+03, -1.42324524e+01, -9.85768119e-01],\n",
       "        [ 3.55412206e+03, -1.63172313e+01, -9.91371125e-01],\n",
       "        [ 3.61187139e+03, -2.59137252e+01, -1.02388067e+00],\n",
       "        [ 3.61878414e+03, -2.75776649e+01, -1.02781041e+00],\n",
       "        [ 3.62139903e+03, -3.02003564e+01, -1.02930812e+00],\n",
       "        [ 3.62318137e+03, -3.65707975e+01, -1.03035487e+00],\n",
       "        [ 3.63241452e+03, -8.45905541e+01, -1.03606905e+00],\n",
       "        [ 3.66253186e+03, -2.39667751e+02, -1.05725799e+00],\n",
       "        [ 3.66295570e+03, -2.44059704e+02, -1.05766839e+00],\n",
       "        [ 3.66243477e+03, -2.47095630e+02, -1.05748594e+00],\n",
       "        [ 3.65961238e+03, -2.50032824e+02, -1.05597868e+00],\n",
       "        [ 3.65333256e+03, -2.50559101e+02, -1.05239521e+00],\n",
       "        [ 3.62696789e+03, -2.44080616e+02, -1.03707993e+00],\n",
       "        [ 3.59013178e+03, -2.34060904e+02, -1.01583988e+00],\n",
       "        [ 3.58322733e+03, -2.33653430e+02, -1.01193793e+00],\n",
       "        [ 3.52579198e+03, -2.44672038e+02, -9.80307207e-01],\n",
       "        [ 3.42641329e+03, -2.64908993e+02, -9.26894184e-01],\n",
       "        [ 3.38372841e+03, -2.73205068e+02, -9.04431000e-01],\n",
       "        [ 3.36698756e+03, -2.75093271e+02, -8.95642943e-01],\n",
       "        [ 3.35327967e+03, -2.73632841e+02, -8.88350359e-01],\n",
       "        [ 3.32073610e+03, -2.66433602e+02, -8.70999522e-01],\n",
       "        [ 3.27490556e+03, -2.56839335e+02, -8.46882246e-01],\n",
       "        [ 3.19266232e+03, -2.39924506e+02, -8.04477877e-01],\n",
       "        [ 3.18241003e+03, -2.37416710e+02, -7.99254506e-01],\n",
       "        [ 3.03895154e+03, -2.07565296e+02, -7.28167504e-01],\n",
       "        [ 3.00390485e+03, -2.01210707e+02, -7.11342851e-01],\n",
       "        [ 2.99668111e+03, -2.01836854e+02, -7.07960784e-01],\n",
       "        [ 2.99417888e+03, -2.06018979e+02, -7.06918182e-01],\n",
       "        [ 2.99480688e+03, -2.14180388e+02, -7.07482499e-01],\n",
       "        [ 3.02270645e+03, -3.63890991e+02, -7.27450280e-01],\n",
       "        [ 3.03613618e+03, -4.35138222e+02, -7.38303933e-01],\n",
       "        [ 3.04158573e+03, -4.59509513e+02, -7.42614448e-01],\n",
       "        [ 3.04169860e+03, -4.67037356e+02, -7.43215730e-01],\n",
       "        [ 3.03855676e+03, -4.71642349e+02, -7.42055741e-01],\n",
       "        [ 3.03186430e+03, -4.74481058e+02, -7.39078162e-01],\n",
       "        [ 2.97306460e+03, -4.77744975e+02, -7.11611511e-01],\n",
       "        [ 2.96783901e+03, -4.80994342e+02, -7.09419592e-01],\n",
       "        [ 2.96375542e+03, -4.90514559e+02, -7.08244486e-01],\n",
       "        [ 2.96543848e+03, -5.02545056e+02, -7.09965264e-01],\n",
       "        [ 2.97707762e+03, -5.49730675e+02, -7.19290179e-01],\n",
       "        [ 2.97749364e+03, -5.55067835e+02, -7.19947357e-01],\n",
       "        [ 2.97498346e+03, -5.59249955e+02, -7.19140449e-01],\n",
       "        [ 2.96662049e+03, -5.60410343e+02, -7.15342757e-01],\n",
       "        [ 2.90927880e+03, -5.63472821e+02, -6.89170085e-01],\n",
       "        [ 2.77556888e+03, -5.74619544e+02, -6.30510959e-01],\n",
       "        [ 2.76887628e+03, -5.77658124e+02, -6.27873578e-01],\n",
       "        [ 2.76479990e+03, -5.86655592e+02, -6.26925416e-01],\n",
       "        [ 2.76720831e+03, -5.99008287e+02, -6.29120479e-01],\n",
       "        [ 2.79593794e+03, -7.28937952e+02, -6.55204832e-01],\n",
       "        [ 2.79551860e+03, -7.33341458e+02, -6.55526162e-01],\n",
       "        [ 2.79290619e+03, -7.36166973e+02, -6.54706263e-01],\n",
       "        [ 2.78652443e+03, -7.36792503e+02, -6.51984146e-01],\n",
       "        [ 2.77982126e+03, -7.33971125e+02, -6.48730203e-01],\n",
       "        [ 2.75941562e+03, -7.26240967e+02, -6.38973547e-01],\n",
       "        [ 2.72562139e+03, -7.17460222e+02, -6.23431292e-01],\n",
       "        [ 2.69234254e+03, -7.09524155e+02, -6.08392187e-01],\n",
       "        [ 2.66335610e+03, -7.04521637e+02, -5.95653494e-01],\n",
       "        [ 2.63991852e+03, -7.03375117e+02, -5.85771989e-01],\n",
       "        [ 2.62014059e+03, -7.03483485e+02, -5.77619373e-01],\n",
       "        [ 2.60109744e+03, -7.06949572e+02, -5.70199804e-01],\n",
       "        [ 2.58477866e+03, -7.14072793e+02, -5.64352613e-01],\n",
       "        [ 2.56343707e+03, -7.25378956e+02, -5.57007108e-01],\n",
       "        [ 2.55360853e+03, -7.30197705e+02, -5.53610541e-01],\n",
       "        [ 2.53937968e+03, -7.35118298e+02, -5.48489121e-01],\n",
       "        [ 2.52462745e+03, -7.38471220e+02, -5.43013952e-01],\n",
       "        [ 2.50516232e+03, -7.40680683e+02, -5.35586755e-01],\n",
       "        [ 2.48580604e+03, -7.41944886e+02, -5.28152109e-01],\n",
       "        [ 2.45316309e+03, -7.43625660e+02, -5.15695224e-01],\n",
       "        [ 2.42094176e+03, -7.46151183e+02, -5.03665109e-01],\n",
       "        [ 2.36914525e+03, -7.48995310e+02, -4.84527032e-01],\n",
       "        [ 2.33995096e+03, -7.51308003e+02, -4.74009923e-01],\n",
       "        [ 2.32227189e+03, -7.52159654e+02, -4.67641745e-01],\n",
       "        [ 2.31013179e+03, -7.51741596e+02, -4.63178823e-01],\n",
       "        [ 2.29161538e+03, -7.45677144e+02, -4.55778972e-01],\n",
       "        [ 2.26303856e+03, -7.29475297e+02, -4.43688426e-01],\n",
       "        [ 2.23812933e+03, -7.14728666e+02, -4.33217718e-01],\n",
       "        [ 2.22170266e+03, -7.04793678e+02, -4.26361404e-01],\n",
       "        [ 2.18601655e+03, -6.82622827e+02, -4.11602766e-01],\n",
       "        [ 2.17209489e+03, -6.73943338e+02, -4.05917126e-01],\n",
       "        [ 2.16424507e+03, -6.70810354e+02, -4.02915039e-01],\n",
       "        [ 2.14729798e+03, -6.66946595e+02, -3.96774959e-01],\n",
       "        [ 2.12867413e+03, -6.64962553e+02, -3.90317760e-01],\n",
       "        [ 2.11862548e+03, -6.65588646e+02, -3.87033614e-01],\n",
       "        [ 2.10533952e+03, -6.67683584e+02, -3.82848534e-01],\n",
       "        [ 2.06139414e+03, -6.76282428e+02, -3.69385016e-01],\n",
       "        [ 1.99652438e+03, -6.86555582e+02, -3.49824855e-01],\n",
       "        [ 1.98010275e+03, -6.91164257e+02, -3.45198168e-01],\n",
       "        [ 1.96231586e+03, -6.96095782e+02, -3.40231752e-01],\n",
       "        [ 1.94860909e+03, -7.00180909e+02, -3.36472361e-01],\n",
       "        [ 1.93469050e+03, -7.00496563e+02, -3.32265176e-01],\n",
       "        [ 1.92098956e+03, -6.98199038e+02, -3.27867123e-01],\n",
       "        [ 1.89859443e+03, -6.86585986e+02, -3.19891793e-01],\n",
       "        [ 1.87264093e+03, -6.72371956e+02, -3.10694413e-01],\n",
       "        [ 1.79760559e+03, -6.30328864e+02, -2.84782642e-01],\n",
       "        [ 1.77741080e+03, -6.17780711e+02, -2.77887476e-01],\n",
       "        [ 1.76945087e+03, -6.10555291e+02, -2.74975217e-01],\n",
       "        [ 1.75501347e+03, -5.96337515e+02, -2.69635128e-01],\n",
       "        [ 1.74673975e+03, -5.82729565e+02, -2.66102147e-01],\n",
       "        [ 1.74224317e+03, -5.72901184e+02, -2.63979525e-01],\n",
       "        [ 1.73930749e+03, -5.64951561e+02, -2.62467501e-01],\n",
       "        [ 1.73700391e+03, -5.57524378e+02, -2.61184750e-01],\n",
       "        [ 1.72956554e+03, -5.17340585e+02, -2.55771330e-01],\n",
       "        [ 1.72348800e+03, -4.88987551e+02, -2.51885087e-01],\n",
       "        [ 1.71804483e+03, -4.69318661e+02, -2.48935654e-01],\n",
       "        [ 1.71322769e+03, -4.56454725e+02, -2.46703821e-01],\n",
       "        [ 1.70568779e+03, -4.43591526e+02, -2.43772119e-01],\n",
       "        [ 1.69543293e+03, -4.30617858e+02, -2.40144768e-01],\n",
       "        [ 1.67721880e+03, -4.11374912e+02, -2.34052134e-01],\n",
       "        [ 1.65576610e+03, -3.88252066e+02, -2.26989571e-01],\n",
       "        [ 1.62918692e+03, -3.61160821e+02, -2.18543966e-01],\n",
       "        [ 1.60501150e+03, -3.36681930e+02, -2.11067075e-01],\n",
       "        [ 1.57633350e+03, -3.06977917e+02, -2.02406435e-01],\n",
       "        [ 1.56147565e+03, -2.91503299e+02, -1.98020753e-01],\n",
       "        [ 1.54399631e+03, -2.74861745e+02, -1.93021004e-01],\n",
       "        [ 1.51134866e+03, -2.47982762e+02, -1.84089645e-01],\n",
       "        [ 1.43778351e+03, -1.88677561e+02, -1.65030661e-01],\n",
       "        [ 1.40544837e+03, -1.59807566e+02, -1.57025867e-01],\n",
       "        [ 1.38044032e+03, -1.37429580e+02, -1.51036132e-01],\n",
       "        [ 1.30635651e+03, -8.52394277e+01, -1.34502677e-01],\n",
       "        [ 1.24440722e+03, -4.58111827e+01, -1.21695810e-01],\n",
       "        [ 1.21228690e+03, -3.02279439e+01, -1.15409925e-01],\n",
       "        [ 1.18498103e+03, -1.99809896e+01, -1.10232247e-01],\n",
       "        [ 1.16834061e+03, -1.65259490e+01, -1.07149028e-01],\n",
       "        [ 1.12115793e+03, -7.65008532e+00, -9.86543429e-02],\n",
       "        [ 1.10085848e+03, -1.99385906e+00, -9.51101392e-02],\n",
       "        [ 1.06476032e+03,  1.28555517e+01, -8.89875860e-02],\n",
       "        [ 1.03002752e+03,  2.77053942e+01, -8.33247755e-02],\n",
       "        [ 9.92782434e+02,  4.57908032e+01, -7.75163837e-02],\n",
       "        [ 9.80010774e+02,  5.45843135e+01, -7.56082696e-02],\n",
       "        [ 9.64531848e+02,  6.56680485e+01, -7.33506507e-02],\n",
       "        [ 9.55637922e+02,  7.07927733e+01, -7.20652531e-02],\n",
       "        [ 8.95582519e+02,  9.40125312e+01, -6.36404347e-02],\n",
       "        [ 8.49336119e+02,  1.10640860e+02, -5.75744187e-02],\n",
       "        [ 8.15127599e+02,  1.21099763e+02, -5.32960415e-02],\n",
       "        [ 8.08426460e+02,  1.22144128e+02, -5.24621356e-02],\n",
       "        [ 7.84891093e+02,  1.21718598e+02, -4.95110222e-02],\n",
       "        [ 7.79656861e+02,  1.20150097e+02, -4.88385560e-02],\n",
       "        [ 7.47120935e+02,  1.05179300e+02, -4.46752778e-02],\n",
       "        [ 7.35934819e+02,  1.01308394e+02, -4.33105834e-02],\n",
       "        [ 7.23274005e+02,  1.00050419e+02, -4.18407931e-02],\n",
       "        [ 6.91468755e+02,  1.06640691e+02, -3.84163625e-02],\n",
       "        [ 6.69812632e+02,  1.12965332e+02, -3.62117508e-02],\n",
       "        [ 6.47945969e+02,  1.18878605e+02, -3.40579262e-02],\n",
       "        [ 6.14884627e+02,  1.28704909e+02, -3.09722231e-02],\n",
       "        [ 5.88415377e+02,  1.36241386e+02, -2.86292864e-02],\n",
       "        [ 5.68639663e+02,  1.40531686e+02, -2.69267164e-02],\n",
       "        [ 5.45517743e+02,  1.40729783e+02, -2.49093154e-02],\n",
       "        [ 5.25118193e+02,  1.42718431e+02, -2.32394964e-02],\n",
       "        [ 5.07752997e+02,  1.47320471e+02, -2.19366213e-02],\n",
       "        [ 4.92579952e+02,  1.50977574e+02, -2.08310503e-02],\n",
       "        [ 4.74068474e+02,  1.50253381e+02, -1.94095909e-02],\n",
       "        [ 4.24478460e+02,  1.45746434e+02, -1.58078787e-02],\n",
       "        [ 3.82002607e+02,  1.44487201e+02, -1.30907668e-02],\n",
       "        [ 3.34713427e+02,  1.46052348e+02, -1.04665171e-02],\n",
       "        [ 2.87221369e+02,  1.49296885e+02, -8.22364386e-03],\n",
       "        [ 2.62211571e+02,  1.51908870e+02, -7.20697020e-03],\n",
       "        [ 2.50393257e+02,  1.50763080e+02, -6.70430774e-03],\n",
       "        [ 2.37209869e+02,  1.47304405e+02, -6.11890649e-03],\n",
       "        [ 2.13776294e+02,  1.37362736e+02, -5.06740104e-03],\n",
       "        [ 1.98291833e+02,  1.26064823e+02, -4.33307139e-03],\n",
       "        [ 1.65653384e+02,  1.01790023e+02, -2.96674375e-03],\n",
       "        [ 1.50480673e+02,  9.53069767e+01, -2.49002172e-03],\n",
       "        [ 1.24534774e+02,  8.92351649e+01, -1.84208377e-03],\n",
       "        [ 1.01623392e+02,  8.41086658e+01, -1.36568744e-03],\n",
       "        [ 7.88212214e+01,  7.61579005e+01, -9.42773060e-04],\n",
       "        [ 6.05124015e+01,  6.49714875e+01, -6.18667042e-04],\n",
       "        [ 3.34118090e+01,  4.59235937e+01, -2.53125926e-04],\n",
       "        [ 2.12812345e+01,  3.81843739e+01, -1.49971619e-04],\n",
       "        [ 1.12335049e+01,  3.33696075e+01, -9.72946975e-05],\n",
       "        [-4.87565771e+00,  2.75096267e+01, -6.12588000e-05],\n",
       "        [-9.79032738e+00,  2.32175083e+01, -4.98271584e-05],\n",
       "        [-8.85421242e+00,  1.47444535e+01, -2.32149772e-05],\n",
       "        [-9.16626462e+00,  8.26178975e+00, -1.19510978e-05],\n",
       "        [-1.22008910e+01,  4.28101654e+00, -1.31213349e-05],\n",
       "        [-1.17796440e+01, -1.77910777e+00, -1.11384492e-05],\n",
       "        [-9.47832997e+00, -6.49377655e+00, -1.03596263e-05],\n",
       "        [-6.03024674e+00, -7.11647241e+00, -6.82772937e-06],\n",
       "        [-7.95711385e-01, -4.39219955e+00, -1.56409428e-06],\n",
       "        [ 2.02828318e+00, -2.09046429e+00, -6.66050623e-07]]))"
      ]
     },
     "execution_count": 110,
     "metadata": {},
     "output_type": "execute_result"
    }
   ],
   "source": [
    "basic_ecef_enu_ref = partial(basic_ecef_enu, lat_truth_r, long_truth_r)\n",
    "traj_truth_enu_vec = np.apply_along_axis(lambda row: basic_ecef_enu_ref(row[0], row[1]), 1, traj_truth_geodet_vec)\n",
    "traj_truth_enu_vec.shape, traj_truth_enu_vec"
   ]
  },
  {
   "cell_type": "code",
   "execution_count": 113,
   "metadata": {},
   "outputs": [
    {
     "data": {
      "text/plain": [
       "Text(0, 0.5, 'y (m)')"
      ]
     },
     "execution_count": 113,
     "metadata": {},
     "output_type": "execute_result"
    },
    {
     "data": {
      "image/png": "[encoded data removed]",
      "text/plain": [
       "<Figure size 640x480 with 1 Axes>"
      ]
     },
     "metadata": {},
     "output_type": "display_data"
    }
   ],
   "source": [
    "plt.plot(traj_gps_enu_vec[:, 0], traj_gps_enu_vec[:, 1], '--')\n",
    "plt.title(\"GPS ENU Coords of Traj\")\n",
    "plt.xlabel(\"x (m)\")\n",
    "plt.ylabel(\"y (m)\")"
   ]
  },
  {
   "cell_type": "markdown",
   "metadata": {},
   "source": [
    "## Preprocess Gyro/Accel Measurements to XY ENU Coords\n",
    "\n",
    "Procedure:\n",
    "1. Remove Accel/Gyro Bias\n",
    "2. Integrate Accel to get Vel and Gyro to get $\\theta$\n",
    "3. Use INS model to get XY coords rate of changes (speed) \n",
    "4. Integarte $\\dot{p}_x$, $\\dot{p}_y$ to get XY coords pos"
   ]
  },
  {
   "cell_type": "markdown",
   "metadata": {},
   "source": [
    "### First integrate without removing bias"
   ]
  },
  {
   "cell_type": "code",
   "execution_count": 117,
   "metadata": {},
   "outputs": [],
   "source": [
    "def f(x, y, v, theta):\n",
    "    return np.array([[v*np.cos(theta)],\n",
    "                     [v*np.sin(theta)]])"
   ]
  },
  {
   "cell_type": "code",
   "execution_count": 120,
   "metadata": {},
   "outputs": [
    {
     "ename": "TypeError",
     "evalue": "Can't differentiate w.r.t. type <class 'int'>",
     "output_type": "error",
     "traceback": [
      "\u001b[0;31m---------------------------------------------------------------------------\u001b[0m",
      "\u001b[0;31mKeyError\u001b[0m                                  Traceback (most recent call last)",
      "File \u001b[0;32m~/miniconda3/envs/kalman/lib/python3.12/site-packages/autograd/tracer.py:118\u001b[0m, in \u001b[0;36mnew_box\u001b[0;34m(value, trace, node)\u001b[0m\n\u001b[1;32m    117\u001b[0m \u001b[38;5;28;01mtry\u001b[39;00m:\n\u001b[0;32m--> 118\u001b[0m     \u001b[38;5;28;01mreturn\u001b[39;00m \u001b[43mbox_type_mappings\u001b[49m\u001b[43m[\u001b[49m\u001b[38;5;28;43mtype\u001b[39;49m\u001b[43m(\u001b[49m\u001b[43mvalue\u001b[49m\u001b[43m)\u001b[49m\u001b[43m]\u001b[49m(value, trace, node)\n\u001b[1;32m    119\u001b[0m \u001b[38;5;28;01mexcept\u001b[39;00m \u001b[38;5;167;01mKeyError\u001b[39;00m:\n",
      "\u001b[0;31mKeyError\u001b[0m: <class 'int'>",
      "\nDuring handling of the above exception, another exception occurred:\n",
      "\u001b[0;31mTypeError\u001b[0m                                 Traceback (most recent call last)",
      "Cell \u001b[0;32mIn[120], line 2\u001b[0m\n\u001b[1;32m      1\u001b[0m jc \u001b[38;5;241m=\u001b[39m ag\u001b[38;5;241m.\u001b[39mjacobian(f)\n\u001b[0;32m----> 2\u001b[0m \u001b[43mjc\u001b[49m\u001b[43m(\u001b[49m\u001b[38;5;241;43m1\u001b[39;49m\u001b[43m,\u001b[49m\u001b[43m \u001b[49m\u001b[38;5;241;43m1\u001b[39;49m\u001b[43m,\u001b[49m\u001b[43m \u001b[49m\u001b[38;5;241;43m1\u001b[39;49m\u001b[43m,\u001b[49m\u001b[43m \u001b[49m\u001b[38;5;241;43m1\u001b[39;49m\u001b[43m)\u001b[49m\n",
      "File \u001b[0;32m~/miniconda3/envs/kalman/lib/python3.12/site-packages/autograd/wrap_util.py:20\u001b[0m, in \u001b[0;36munary_to_nary.<locals>.nary_operator.<locals>.nary_f\u001b[0;34m(*args, **kwargs)\u001b[0m\n\u001b[1;32m     18\u001b[0m \u001b[38;5;28;01melse\u001b[39;00m:\n\u001b[1;32m     19\u001b[0m     x \u001b[38;5;241m=\u001b[39m \u001b[38;5;28mtuple\u001b[39m(args[i] \u001b[38;5;28;01mfor\u001b[39;00m i \u001b[38;5;129;01min\u001b[39;00m argnum)\n\u001b[0;32m---> 20\u001b[0m \u001b[38;5;28;01mreturn\u001b[39;00m \u001b[43munary_operator\u001b[49m\u001b[43m(\u001b[49m\u001b[43munary_f\u001b[49m\u001b[43m,\u001b[49m\u001b[43m \u001b[49m\u001b[43mx\u001b[49m\u001b[43m,\u001b[49m\u001b[43m \u001b[49m\u001b[38;5;241;43m*\u001b[39;49m\u001b[43mnary_op_args\u001b[49m\u001b[43m,\u001b[49m\u001b[43m \u001b[49m\u001b[38;5;241;43m*\u001b[39;49m\u001b[38;5;241;43m*\u001b[39;49m\u001b[43mnary_op_kwargs\u001b[49m\u001b[43m)\u001b[49m\n",
      "File \u001b[0;32m~/miniconda3/envs/kalman/lib/python3.12/site-packages/autograd/differential_operators.py:60\u001b[0m, in \u001b[0;36mjacobian\u001b[0;34m(fun, x)\u001b[0m\n\u001b[1;32m     50\u001b[0m \u001b[38;5;129m@unary_to_nary\u001b[39m\n\u001b[1;32m     51\u001b[0m \u001b[38;5;28;01mdef\u001b[39;00m \u001b[38;5;21mjacobian\u001b[39m(fun, x):\n\u001b[1;32m     52\u001b[0m \u001b[38;5;250m    \u001b[39m\u001b[38;5;124;03m\"\"\"\u001b[39;00m\n\u001b[1;32m     53\u001b[0m \u001b[38;5;124;03m    Returns a function which computes the Jacobian of `fun` with respect to\u001b[39;00m\n\u001b[1;32m     54\u001b[0m \u001b[38;5;124;03m    positional argument number `argnum`, which must be a scalar or array. Unlike\u001b[39;00m\n\u001b[0;32m   (...)\u001b[0m\n\u001b[1;32m     58\u001b[0m \u001b[38;5;124;03m    (out1, out2, ...) then the Jacobian has shape (out1, out2, ..., in1, in2, ...).\u001b[39;00m\n\u001b[1;32m     59\u001b[0m \u001b[38;5;124;03m    \"\"\"\u001b[39;00m\n\u001b[0;32m---> 60\u001b[0m     vjp, ans \u001b[38;5;241m=\u001b[39m \u001b[43m_make_vjp\u001b[49m\u001b[43m(\u001b[49m\u001b[43mfun\u001b[49m\u001b[43m,\u001b[49m\u001b[43m \u001b[49m\u001b[43mx\u001b[49m\u001b[43m)\u001b[49m\n\u001b[1;32m     61\u001b[0m     ans_vspace \u001b[38;5;241m=\u001b[39m vspace(ans)\n\u001b[1;32m     62\u001b[0m     jacobian_shape \u001b[38;5;241m=\u001b[39m ans_vspace\u001b[38;5;241m.\u001b[39mshape \u001b[38;5;241m+\u001b[39m vspace(x)\u001b[38;5;241m.\u001b[39mshape\n",
      "File \u001b[0;32m~/miniconda3/envs/kalman/lib/python3.12/site-packages/autograd/core.py:10\u001b[0m, in \u001b[0;36mmake_vjp\u001b[0;34m(fun, x)\u001b[0m\n\u001b[1;32m      8\u001b[0m \u001b[38;5;28;01mdef\u001b[39;00m \u001b[38;5;21mmake_vjp\u001b[39m(fun, x):\n\u001b[1;32m      9\u001b[0m     start_node \u001b[38;5;241m=\u001b[39m VJPNode\u001b[38;5;241m.\u001b[39mnew_root()\n\u001b[0;32m---> 10\u001b[0m     end_value, end_node \u001b[38;5;241m=\u001b[39m  \u001b[43mtrace\u001b[49m\u001b[43m(\u001b[49m\u001b[43mstart_node\u001b[49m\u001b[43m,\u001b[49m\u001b[43m \u001b[49m\u001b[43mfun\u001b[49m\u001b[43m,\u001b[49m\u001b[43m \u001b[49m\u001b[43mx\u001b[49m\u001b[43m)\u001b[49m\n\u001b[1;32m     11\u001b[0m     \u001b[38;5;28;01mif\u001b[39;00m end_node \u001b[38;5;129;01mis\u001b[39;00m \u001b[38;5;28;01mNone\u001b[39;00m:\n\u001b[1;32m     12\u001b[0m         \u001b[38;5;28;01mdef\u001b[39;00m \u001b[38;5;21mvjp\u001b[39m(g): \u001b[38;5;28;01mreturn\u001b[39;00m vspace(x)\u001b[38;5;241m.\u001b[39mzeros()\n",
      "File \u001b[0;32m~/miniconda3/envs/kalman/lib/python3.12/site-packages/autograd/tracer.py:9\u001b[0m, in \u001b[0;36mtrace\u001b[0;34m(start_node, fun, x)\u001b[0m\n\u001b[1;32m      7\u001b[0m \u001b[38;5;28;01mdef\u001b[39;00m \u001b[38;5;21mtrace\u001b[39m(start_node, fun, x):\n\u001b[1;32m      8\u001b[0m     \u001b[38;5;28;01mwith\u001b[39;00m trace_stack\u001b[38;5;241m.\u001b[39mnew_trace() \u001b[38;5;28;01mas\u001b[39;00m t:\n\u001b[0;32m----> 9\u001b[0m         start_box \u001b[38;5;241m=\u001b[39m \u001b[43mnew_box\u001b[49m\u001b[43m(\u001b[49m\u001b[43mx\u001b[49m\u001b[43m,\u001b[49m\u001b[43m \u001b[49m\u001b[43mt\u001b[49m\u001b[43m,\u001b[49m\u001b[43m \u001b[49m\u001b[43mstart_node\u001b[49m\u001b[43m)\u001b[49m\n\u001b[1;32m     10\u001b[0m         end_box \u001b[38;5;241m=\u001b[39m fun(start_box)\n\u001b[1;32m     11\u001b[0m         \u001b[38;5;28;01mif\u001b[39;00m isbox(end_box) \u001b[38;5;129;01mand\u001b[39;00m end_box\u001b[38;5;241m.\u001b[39m_trace \u001b[38;5;241m==\u001b[39m start_box\u001b[38;5;241m.\u001b[39m_trace:\n",
      "File \u001b[0;32m~/miniconda3/envs/kalman/lib/python3.12/site-packages/autograd/tracer.py:120\u001b[0m, in \u001b[0;36mnew_box\u001b[0;34m(value, trace, node)\u001b[0m\n\u001b[1;32m    118\u001b[0m     \u001b[38;5;28;01mreturn\u001b[39;00m box_type_mappings[\u001b[38;5;28mtype\u001b[39m(value)](value, trace, node)\n\u001b[1;32m    119\u001b[0m \u001b[38;5;28;01mexcept\u001b[39;00m \u001b[38;5;167;01mKeyError\u001b[39;00m:\n\u001b[0;32m--> 120\u001b[0m     \u001b[38;5;28;01mraise\u001b[39;00m \u001b[38;5;167;01mTypeError\u001b[39;00m(\u001b[38;5;124m\"\u001b[39m\u001b[38;5;124mCan\u001b[39m\u001b[38;5;124m'\u001b[39m\u001b[38;5;124mt differentiate w.r.t. type \u001b[39m\u001b[38;5;132;01m{}\u001b[39;00m\u001b[38;5;124m\"\u001b[39m\u001b[38;5;241m.\u001b[39mformat(\u001b[38;5;28mtype\u001b[39m(value)))\n",
      "\u001b[0;31mTypeError\u001b[0m: Can't differentiate w.r.t. type <class 'int'>"
     ]
    }
   ],
   "source": [
    "jc = ag.jacobian(f)\n",
    "jc(1, 1, 1, 1)"
   ]
  },
  {
   "cell_type": "markdown",
   "metadata": {},
   "source": [
    "## Implementation of KF and EKF Filters"
   ]
  },
  {
   "cell_type": "code",
   "execution_count": 348,
   "metadata": {},
   "outputs": [],
   "source": [
    "# ref: https://en.wikipedia.org/wiki/Kalman_filter\n",
    "class DiscreteKF:\n",
    "    def __init__(self, A_k, B_k, H_k, Q_k, R_k):\n",
    "        self.Ak = A_k\n",
    "        self.Bk = B_k\n",
    "        self.Hk = H_k\n",
    "        self.Qk = Q_k\n",
    "        self.Rk = R_k\n",
    "        self.xk_minus = None\n",
    "        self.Pk_minus = None\n",
    "\n",
    "    def init_filter(self, x0, P0):\n",
    "        self.xk_minus = x0\n",
    "        self.Pk_minus = P0 \n",
    "\n",
    "    def predict(self, uk_minus):\n",
    "        if self.xk_minus is None:\n",
    "            raise Exception(\"Error: initalize the filter first by calling init_filter ...\")\n",
    "        if self.Pk_minus is None:\n",
    "            raise Exception(\"Error: initalize the filter first by calling init_filter ...\")\n",
    "\n",
    "        # Project state ahead.\n",
    "        pred =  self.Ak @ self.xk_minus + self.Bk @ uk_minus\n",
    "        assert pred.shape == (2, 1)\n",
    "        self.xk_minus = pred\n",
    "\n",
    "        # Project error cov ahead.\n",
    "        self.Pk_minus = self.Ak @ self.Pk_minus @ np.transpose(self.Ak) + self.Qk\n",
    "\n",
    "\n",
    "    def correct(self, zk):\n",
    "        if self.xk_minus is None:\n",
    "            raise Exception(\"Error: initalize the filter first by calling init_filter ...\")\n",
    "        if self.Pk_minus is None:\n",
    "            raise Exception(\"Error: initalize the filter first by calling init_filter ...\")\n",
    "\n",
    "        # Compute kalman gain.\n",
    "        Kyy = self.Hk @ self.Pk_minus @ np.transpose(self.Hk) + self.Rk\n",
    "        gain = self.Pk_minus @ np.transpose(self.Hk) \n",
    "        ##print(f\"shape(Kyy): {Kyy.shape}, shape(gain): {gain.shape}\")\n",
    "        gain = gain @ np.linalg.inv(Kyy)\n",
    "        ##print(f\"shape(Kyy): {Kyy.shape}, shape(gain): {gain.shape}\")\n",
    "\n",
    "        # Innovate (correct estimate based on new measurement).\n",
    "        zk_minus = self.Hk @ self.xk_minus\n",
    "        corr = self.xk_minus + gain @ (zk - zk_minus)\n",
    "        assert corr.shape == (2, 1)\n",
    "        self.xk_minus = corr\n",
    "\n",
    "        # Correct cov err.\n",
    "        I = np.eye(self.Pk_minus.shape[0])\n",
    "        self.Pk_minus = (I - gain @ self.Hk) @ np.linalg.inv(self.Pk_minus)\n",
    "\n",
    "    def get_state_estim(self):\n",
    "        return self.xk_minus"
   ]
  },
  {
   "cell_type": "code",
   "execution_count": 459,
   "metadata": {},
   "outputs": [],
   "source": [
    "# ref: https://en.wikipedia.org/wiki/Extended_Kalman_filter\n",
    "class DiscreteEKF:\n",
    "    # TODO: Figure-out Jacobians.\n",
    "    def __init__(self, f, h, A_k, H_k, Q_k, R_k):\n",
    "        self.f = f # nonlinear dynamics model\n",
    "        self.h = h # nonlinear measurement model\n",
    "        self.Ak = A_k # jacobian df/dx(x, y)\n",
    "        self.Hk = H_k # jacobian dh/dx(x)\n",
    "        self.Qk = Q_k\n",
    "        self.Rk = R_k\n",
    "        self.xk_minus = None\n",
    "        self.Pk_minus = None\n",
    "\n",
    "    def init_filter(self, x0, P0):\n",
    "        self.xk_minus = x0\n",
    "        self.Pk_minus = P0 \n",
    "\n",
    "    def predict(self, uk_minus):\n",
    "        if self.xk_minus is None:\n",
    "            raise Exception(\"Error: initalize the filter first by calling init_filter ...\")\n",
    "        if self.Pk_minus is None:\n",
    "            raise Exception(\"Error: initalize the filter first by calling init_filter ...\")\n",
    "\n",
    "        # Project state ahead.\n",
    "        self.xk_minus = self.f(self.xk_minus, uk_minus)\n",
    "        assert self.xk_minus.shape == (2, 1)\n",
    "        \n",
    "        # Compute Jacobian of non-linear state transition model.\n",
    "        Ak = self.Ak(self.xk_minus, uk_minus)\n",
    "        assert Ak.shape == (2, 2)\n",
    "\n",
    "        # Project error cov ahead.\n",
    "        self.Pk_minus = Ak @ self.Pk_minus @ np.transpose(Ak) + self.Qk\n",
    "        assert self.Pk_minus.shape == (2, 2)\n",
    "\n",
    "    def correct(self, zk):\n",
    "        if self.xk_minus is None:\n",
    "            raise Exception(\"Error: initalize the filter first by calling init_filter ...\")\n",
    "        if self.Pk_minus is None:\n",
    "            raise Exception(\"Error: initalize the filter first by calling init_filter ...\")\n",
    "\n",
    "        # Compute Jacobian of non-linear measurement transition model.\n",
    "        Hk = self.Hk(self.xk_minus)\n",
    "        assert Hk.shape == (2, 2)\n",
    "\n",
    "        # Compute kalman gain.\n",
    "        Kyy = Hk @ self.Pk_minus @ np.transpose(Hk) + self.Rk\n",
    "        gain = self.Pk_minus @ np.transpose(Hk) @ np.linalg.inv(Kyy)\n",
    "\n",
    "        # Innovate.\n",
    "        zk_minus = self.h(self.xk_minus)\n",
    "        assert zk_minus.shape == (2, 1)\n",
    "        self.xk_minus = self.xk_minus + gain @ (zk - zk_minus)\n",
    "        assert self.xk_minus.shape == (2, 1)\n",
    "\n",
    "        # Correct cov err.\n",
    "        I = np.eye(self.Pk_minus.shape[0])\n",
    "        self.Pk_minus = (I - gain @ Hk) @ np.linalg.inv(self.Pk_minus)\n",
    "        assert self.Pk_minus.shape == (2, 2)\n",
    "\n",
    "    def get_state_estim(self):\n",
    "        return self.xk_minus"
   ]
  },
  {
   "cell_type": "markdown",
   "metadata": {},
   "source": [
    "## Fuse GPS and INS Vel/Heading Measurements\n",
    "\n",
    "State vector:\n",
    "\n",
    "$$\n",
    "x = \\left(\\begin{matrix}\n",
    "  v \\\\\n",
    "  \\theta \n",
    "\\end{matrix}\\right)\n",
    "$$\n",
    "\n",
    "IMU Dynamics Equations:\n",
    "\n",
    "$$\n",
    "\\begin{align}\n",
    "\\dot{v}(t) &= a(t) + b_a(t) + \\nu_a(t) \\\\\n",
    "\\dot{\\theta}(t) &= \\omega(t) + b_{\\omega}(t) + \\nu_{\\omega}(t),\n",
    "\\end{align}\n",
    "$$\n",
    "where $$u(t) = \\left[a_m(t), \\omega_m(t) \\right]^T$$\n",
    "\n",
    "GPS Measurement Equations:\n",
    "\n",
    "$$\n",
    "\\begin{align}\n",
    "v(t) &= v(t) + \\nu_{GPS}(t) \\\\\n",
    "\\theta(t) &= \\theta(t) + \\nu_{GPS}(t)\n",
    "\\end{align}"
   ]
  },
  {
   "cell_type": "markdown",
   "metadata": {},
   "source": [
    "Thus,\n",
    "\n",
    "$$\n",
    "A_c = \\left(\\begin{matrix}\n",
    "  0 & 0 \\\\\n",
    "  0 & 0 \n",
    "\\end{matrix}\\right)\n",
    " $$\n",
    "\n",
    "$$\n",
    "B_c = \\left(\\begin{matrix}\n",
    "  1 & 0 \\\\\n",
    "  0 & 1 \n",
    "\\end{matrix}\\right)\n",
    " $$\n",
    "\n",
    "$$\n",
    "H_k = \\left(\\begin{matrix}\n",
    "  1 & 0 \\\\\n",
    "  0 & 1\n",
    "\\end{matrix}\\right)\n",
    "$$\n",
    "\n",
    "Discritizing using Euler Forward method:\n",
    "\n",
    "$$\n",
    "A_k = \\left(\\begin{matrix}\n",
    "  1 & 0 \\\\\n",
    "  0 & 1 \n",
    "\\end{matrix}\\right)\n",
    " $$\n",
    "\n",
    "$$\n",
    "B_k = \\left(\\begin{matrix}\n",
    "  T & 0 \\\\\n",
    "  0 & T \n",
    "\\end{matrix}\\right)\n",
    " $$\n",
    "\n",
    "$$\n",
    "H_k = \\left(\\begin{matrix}\n",
    "  1 & 0 \\\\\n",
    "  0 & 1\n",
    "\\end{matrix}\\right)\n",
    "$$\n",
    "where $T$ is the sampling rate of the IMU sensor."
   ]
  },
  {
   "cell_type": "markdown",
   "metadata": {},
   "source": [
    "Determining $Q_k$ and $R_k$ based on given $Q(t)$ and $R_k$:\n",
    "\n",
    "$$\n",
    "Q(k) = E\\left[B_kw(k)\\left(B_kw(k)\\right)^T\\right] = B_kE\\left[w(k)w^T(k)\\right]B_k^T,\n",
    "$$\n",
    "where $E\\left[w(k)w^T(k)\\right]$ is just the covariance of the process noise introduced by the inputs $\\sigma_{\\eta}^2$.\n",
    "\n",
    "So, \n",
    "$$\n",
    "Q_k = \\left(\\begin{matrix}\n",
    "  12.5T^2 & 0 \\\\\n",
    "  0 & 0.001T^2 \n",
    "\\end{matrix}\\right),\n",
    "$$\n",
    "based on the given values $Var\\left[\\nu_a\\right] = 12.5m^2/s^4$ and $Var\\left[\\nu_{\\omega}\\right] = 0.001 rad^2/s^2$, \n",
    "\n",
    "Here, assume \n",
    "$$\n",
    "R_k = \\left(\\begin{matrix}\n",
    "  0.06 & 0 \\\\\n",
    "  0 & 0.06 \n",
    "\\end{matrix}\\right)\n",
    "\n",
    "$$\n",
    "\n",
    "\n",
    "\n",
    "> Usually these two parameters $Q_k$ and $R_k$ have to get tuned.\n",
    "\n"
   ]
  },
  {
   "cell_type": "code",
   "execution_count": 124,
   "metadata": {},
   "outputs": [],
   "source": [
    "T = 0.05\n",
    "A_k = np.array([[1, 0],\n",
    "                [0, 1]])\n",
    "B_k = np.array([[T, 0],\n",
    "                [0, T]])\n",
    "H_k = np.array([1, 1]).reshape((1, 2))\n",
    "Q_k = np.array([[12.5*T**2, 0],\n",
    "                [0, 0.001*T**2]])\n",
    "R_k = np.array([[0.06, 0],\n",
    "                [0, 0.06]])"
   ]
  },
  {
   "cell_type": "code",
   "execution_count": null,
   "metadata": {},
   "outputs": [
    {
     "data": {
      "text/plain": [
       "((2, 2),\n",
       " array([[1, 0],\n",
       "        [0, 1]]))"
      ]
     },
     "execution_count": 125,
     "metadata": {},
     "output_type": "execute_result"
    }
   ],
   "source": [
    "A_k.shape, A_k"
   ]
  },
  {
   "cell_type": "code",
   "execution_count": 127,
   "metadata": {},
   "outputs": [
    {
     "data": {
      "text/plain": [
       "((2, 2),\n",
       " array([[0.05, 0.  ],\n",
       "        [0.  , 0.05]]))"
      ]
     },
     "execution_count": 127,
     "metadata": {},
     "output_type": "execute_result"
    }
   ],
   "source": [
    "B_k.shape, B_k"
   ]
  },
  {
   "cell_type": "code",
   "execution_count": 128,
   "metadata": {},
   "outputs": [
    {
     "data": {
      "text/plain": [
       "((1, 2), array([[1, 1]]))"
      ]
     },
     "execution_count": 128,
     "metadata": {},
     "output_type": "execute_result"
    }
   ],
   "source": [
    "H_k.shape, H_k"
   ]
  },
  {
   "cell_type": "code",
   "execution_count": 129,
   "metadata": {},
   "outputs": [
    {
     "data": {
      "text/plain": [
       "((2, 2),\n",
       " array([[3.125e-02, 0.000e+00],\n",
       "        [0.000e+00, 2.500e-06]]))"
      ]
     },
     "execution_count": 129,
     "metadata": {},
     "output_type": "execute_result"
    }
   ],
   "source": [
    "Q_k.shape, Q_k"
   ]
  },
  {
   "cell_type": "code",
   "execution_count": 130,
   "metadata": {},
   "outputs": [
    {
     "data": {
      "text/plain": [
       "((2, 2),\n",
       " array([[0.06, 0.  ],\n",
       "        [0.  , 0.06]]))"
      ]
     },
     "execution_count": 130,
     "metadata": {},
     "output_type": "execute_result"
    }
   ],
   "source": [
    "R_k.shape, R_k"
   ]
  },
  {
   "cell_type": "code",
   "execution_count": 131,
   "metadata": {},
   "outputs": [],
   "source": [
    "heading_speed_kf = DiscreteKF(A_k, B_k, H_k, Q_k, R_k)"
   ]
  },
  {
   "cell_type": "markdown",
   "metadata": {},
   "source": [
    "### Finding Properties of Data and Sequencing "
   ]
  },
  {
   "cell_type": "code",
   "execution_count": null,
   "metadata": {},
   "outputs": [],
   "source": [
    "traj_acc_yaxis_vec = traj_acc_df.loc[:, 'Acceleration y (m/s^2)'].to_numpy()\n",
    "traj_acc_time_vec = traj_acc_df.loc[:, 'Time (s)'].to_numpy()\n",
    "traj_gyr_zaxis_vec = traj_gyr_df.loc[:, 'Gyroscope z (rad/s)'].to_numpy()\n",
    "traj_gyr_time_vec = traj_gyr_df.loc[:, 'Time (s)'].to_numpy()\n",
    "traj_gps_vel_vec = traj_gps_df.loc[:, 'Velocity (m/s)'].to_numpy()\n",
    "traj_gps_theta_vec = traj_gps_df.loc[:, 'Direction (°)'].to_numpy()\n",
    "traj_gps_time_vec = traj_gps_df.loc[:, 'Time (s)'].to_numpy()"
   ]
  },
  {
   "cell_type": "code",
   "execution_count": 137,
   "metadata": {},
   "outputs": [
    {
     "data": {
      "text/plain": [
       "'Sampling properties (ACCEL): 0.002100000000000001s, 476.1904761904759Hz'"
      ]
     },
     "execution_count": 137,
     "metadata": {},
     "output_type": "execute_result"
    }
   ],
   "source": [
    "# Find sampling frequency and period.\n",
    "T_acc = traj_acc_time_vec[1] - traj_acc_time_vec[0]\n",
    "Fs_acc = 1 / T_acc\n",
    "f\"Sampling properties (ACCEL): {T_acc}s, {Fs_acc}Hz\""
   ]
  },
  {
   "cell_type": "code",
   "execution_count": 138,
   "metadata": {},
   "outputs": [
    {
     "data": {
      "text/plain": [
       "'Sampling properties (GYRO): 0.0022000000000000006s, 454.54545454545445Hz'"
      ]
     },
     "execution_count": 138,
     "metadata": {},
     "output_type": "execute_result"
    }
   ],
   "source": [
    "# Find sampling frequency and period.\n",
    "T_gyr = traj_gyr_time_vec[1] - traj_gyr_time_vec[0]\n",
    "Fs_gyr = 1 / T_gyr\n",
    "f\"Sampling properties (GYRO): {T_gyr}s, {Fs_gyr}Hz\""
   ]
  },
  {
   "cell_type": "code",
   "execution_count": 139,
   "metadata": {},
   "outputs": [
    {
     "data": {
      "text/plain": [
       "'Sampling properties (GPS): 1.948016765s, 0.5133426046258899Hz'"
      ]
     },
     "execution_count": 139,
     "metadata": {},
     "output_type": "execute_result"
    }
   ],
   "source": [
    "# Find sampling frequency and period.\n",
    "T_gps = traj_gps_time_vec[1] - traj_gps_time_vec[0]\n",
    "Fs_gps = 1 / T_gps\n",
    "f\"Sampling properties (GPS): {T_gps}s, {Fs_gps}Hz\""
   ]
  },
  {
   "cell_type": "code",
   "execution_count": 150,
   "metadata": {},
   "outputs": [
    {
     "data": {
      "text/plain": [
       "(array([ 61.18936157,  61.18936157,  61.18936157,  61.18936157,\n",
       "         61.18936157,  61.18936157,  61.18936157,  61.18936157,\n",
       "         61.18936157,  61.18936157,  61.18936157,  61.18936157,\n",
       "         61.18936157,  47.52893829,  28.32525063, 358.6938477 ,\n",
       "        334.2663879 , 325.7847595 , 324.9186401 , 327.6142273 ]),\n",
       " (791,))"
      ]
     },
     "execution_count": 150,
     "metadata": {},
     "output_type": "execute_result"
    }
   ],
   "source": [
    "traj_gps_theta_vec[0:20], traj_gps_theta_vec.shape"
   ]
  },
  {
   "cell_type": "code",
   "execution_count": null,
   "metadata": {},
   "outputs": [
    {
     "data": {
      "text/plain": [
       "(array([1.06795583, 1.06795583, 1.06795583, 1.06795583, 1.06795583,\n",
       "        1.06795583, 1.06795583, 1.06795583, 1.06795583, 1.06795583,\n",
       "        1.06795583, 1.06795583, 1.06795583, 0.82953646, 0.49436888,\n",
       "        6.26038865, 5.83404905, 5.68601671, 5.67090007, 5.71794694]),\n",
       " (791,))"
      ]
     },
     "execution_count": 151,
     "metadata": {},
     "output_type": "execute_result"
    }
   ],
   "source": [
    "# Convert GPS heading to rad.\n",
    "traj_gps_theta_vec = np.deg2rad(traj_gps_theta_vec)\n",
    "traj_gps_theta_vec[0:20], traj_gps_theta_vec.shape"
   ]
  },
  {
   "cell_type": "code",
   "execution_count": null,
   "metadata": {},
   "outputs": [
    {
     "data": {
      "text/plain": [
       "(array([-1.06795583, -1.06795583, -1.06795583, -1.06795583, -1.06795583,\n",
       "        -1.06795583, -1.06795583, -1.06795583, -1.06795583, -1.06795583,\n",
       "        -1.06795583, -1.06795583, -1.06795583, -0.82953646, -0.49436888,\n",
       "        -6.26038865, -5.83404905, -5.68601671, -5.67090007, -5.71794694]),\n",
       " (791,))"
      ]
     },
     "execution_count": 152,
     "metadata": {},
     "output_type": "execute_result"
    }
   ],
   "source": [
    "# Make GPS heading consistent with GYRO reference frame.\n",
    "traj_gps_theta_vec = -traj_gps_theta_vec\n",
    "traj_gps_theta_vec[0:20], traj_gps_theta_vec.shape"
   ]
  },
  {
   "cell_type": "code",
   "execution_count": 154,
   "metadata": {},
   "outputs": [
    {
     "data": {
      "text/plain": [
       "'ACC: 372578, GYR: 372574, GPS: 791'"
      ]
     },
     "execution_count": 154,
     "metadata": {},
     "output_type": "execute_result"
    }
   ],
   "source": [
    "num_acc = traj_acc_time_vec.shape[0]\n",
    "num_gyr = traj_gyr_time_vec.shape[0]\n",
    "num_gps = traj_gps_time_vec.shape[0]\n",
    "f\"ACC: {num_acc}, GYR: {num_gyr}, GPS: {num_gps}\""
   ]
  },
  {
   "cell_type": "code",
   "execution_count": 155,
   "metadata": {},
   "outputs": [],
   "source": [
    "ACCEL_TYPE = \"ACCEL\"\n",
    "GYRO_TYPE = \"GYRO\"\n",
    "GPS_VEL_TYPE = \"GPS_VEL\"\n",
    "GPS_THETA_TYPE = \"GPS_THETA\"\n",
    "GPS_X_TYPE = \"GPS_X\"\n",
    "GPS_Y_TYPE = \"GPS_Y\"\n",
    "GPS_Z_TYPE = \"GPS_Z\"\n",
    "\n",
    "acc_seq_df = pd.DataFrame({\n",
    "    \"Time (s)\": traj_acc_time_vec,\n",
    "    \"Measurement\": traj_acc_yaxis_vec,\n",
    "    \"Type\": np.repeat(ACCEL_TYPE, num_acc)\n",
    "    })\n",
    "\n",
    "gyr_seq_df = pd.DataFrame({\n",
    "    \"Time (s)\": traj_gyr_time_vec,\n",
    "    \"Measurement\": traj_gyr_zaxis_vec,\n",
    "    \"Type\": np.repeat(GYRO_TYPE, num_gyr)\n",
    "    })\n",
    "\n",
    "gps_vel_seq_df = pd.DataFrame({\n",
    "    \"Time (s)\": traj_gps_time_vec,\n",
    "    \"Measurement\": traj_gps_vel_vec,\n",
    "    \"Type\": np.repeat(GPS_VEL_TYPE, num_gps)\n",
    "    })\n",
    "\n",
    "gps_theta_seq_df = pd.DataFrame({\n",
    "    \"Time (s)\": traj_gps_time_vec,\n",
    "    \"Measurement\": traj_gps_theta_vec,\n",
    "    \"Type\": np.repeat(GPS_THETA_TYPE, num_gps)\n",
    "    })\n",
    "\n",
    "gps_x_seq_df = pd.DataFrame({\n",
    "    \"Time (s)\": traj_gps_time_vec,\n",
    "    \"Measurement\": traj_gps_enu_vec[:, 0],\n",
    "    \"Type\": np.repeat(GPS_X_TYPE, num_gps)\n",
    "    })\n",
    "\n",
    "gps_y_seq_df = pd.DataFrame({\n",
    "    \"Time (s)\": traj_gps_time_vec,\n",
    "    \"Measurement\": traj_gps_enu_vec[:, 1],\n",
    "    \"Type\": np.repeat(GPS_Y_TYPE, num_gps)\n",
    "    })\n",
    "\n",
    "gps_z_seq_df = pd.DataFrame({\n",
    "    \"Time (s)\": traj_gps_time_vec,\n",
    "    \"Measurement\": traj_gps_enu_vec[:, 2],\n",
    "    \"Type\": np.repeat(GPS_Z_TYPE, num_gps)\n",
    "    })"
   ]
  },
  {
   "cell_type": "code",
   "execution_count": 156,
   "metadata": {},
   "outputs": [
    {
     "data": {
      "text/html": [
       "<div>\n",
       "<style scoped>\n",
       "    .dataframe tbody tr th:only-of-type {\n",
       "        vertical-align: middle;\n",
       "    }\n",
       "\n",
       "    .dataframe tbody tr th {\n",
       "        vertical-align: top;\n",
       "    }\n",
       "\n",
       "    .dataframe thead th {\n",
       "        text-align: right;\n",
       "    }\n",
       "</style>\n",
       "<table border=\"1\" class=\"dataframe\">\n",
       "  <thead>\n",
       "    <tr style=\"text-align: right;\">\n",
       "      <th></th>\n",
       "      <th>Time (s)</th>\n",
       "      <th>Measurement</th>\n",
       "      <th>Type</th>\n",
       "    </tr>\n",
       "  </thead>\n",
       "  <tbody>\n",
       "    <tr>\n",
       "      <th>0</th>\n",
       "      <td>0.0225</td>\n",
       "      <td>-0.282</td>\n",
       "      <td>ACCEL</td>\n",
       "    </tr>\n",
       "    <tr>\n",
       "      <th>1</th>\n",
       "      <td>0.0246</td>\n",
       "      <td>-0.282</td>\n",
       "      <td>ACCEL</td>\n",
       "    </tr>\n",
       "    <tr>\n",
       "      <th>2</th>\n",
       "      <td>0.0267</td>\n",
       "      <td>-0.277</td>\n",
       "      <td>ACCEL</td>\n",
       "    </tr>\n",
       "    <tr>\n",
       "      <th>3</th>\n",
       "      <td>0.0289</td>\n",
       "      <td>-0.191</td>\n",
       "      <td>ACCEL</td>\n",
       "    </tr>\n",
       "    <tr>\n",
       "      <th>4</th>\n",
       "      <td>0.0310</td>\n",
       "      <td>-0.153</td>\n",
       "      <td>ACCEL</td>\n",
       "    </tr>\n",
       "  </tbody>\n",
       "</table>\n",
       "</div>"
      ],
      "text/plain": [
       "   Time (s)  Measurement   Type\n",
       "0    0.0225       -0.282  ACCEL\n",
       "1    0.0246       -0.282  ACCEL\n",
       "2    0.0267       -0.277  ACCEL\n",
       "3    0.0289       -0.191  ACCEL\n",
       "4    0.0310       -0.153  ACCEL"
      ]
     },
     "execution_count": 156,
     "metadata": {},
     "output_type": "execute_result"
    }
   ],
   "source": [
    "acc_seq_df.head()"
   ]
  },
  {
   "cell_type": "code",
   "execution_count": 157,
   "metadata": {},
   "outputs": [
    {
     "data": {
      "text/html": [
       "<div>\n",
       "<style scoped>\n",
       "    .dataframe tbody tr th:only-of-type {\n",
       "        vertical-align: middle;\n",
       "    }\n",
       "\n",
       "    .dataframe tbody tr th {\n",
       "        vertical-align: top;\n",
       "    }\n",
       "\n",
       "    .dataframe thead th {\n",
       "        text-align: right;\n",
       "    }\n",
       "</style>\n",
       "<table border=\"1\" class=\"dataframe\">\n",
       "  <thead>\n",
       "    <tr style=\"text-align: right;\">\n",
       "      <th></th>\n",
       "      <th>Time (s)</th>\n",
       "      <th>Measurement</th>\n",
       "      <th>Type</th>\n",
       "    </tr>\n",
       "  </thead>\n",
       "  <tbody>\n",
       "    <tr>\n",
       "      <th>0</th>\n",
       "      <td>0.0310</td>\n",
       "      <td>-0.001110</td>\n",
       "      <td>GYRO</td>\n",
       "    </tr>\n",
       "    <tr>\n",
       "      <th>1</th>\n",
       "      <td>0.0332</td>\n",
       "      <td>-0.001110</td>\n",
       "      <td>GYRO</td>\n",
       "    </tr>\n",
       "    <tr>\n",
       "      <th>2</th>\n",
       "      <td>0.0353</td>\n",
       "      <td>0.000111</td>\n",
       "      <td>GYRO</td>\n",
       "    </tr>\n",
       "    <tr>\n",
       "      <th>3</th>\n",
       "      <td>0.0374</td>\n",
       "      <td>0.000264</td>\n",
       "      <td>GYRO</td>\n",
       "    </tr>\n",
       "    <tr>\n",
       "      <th>4</th>\n",
       "      <td>0.0396</td>\n",
       "      <td>0.000111</td>\n",
       "      <td>GYRO</td>\n",
       "    </tr>\n",
       "  </tbody>\n",
       "</table>\n",
       "</div>"
      ],
      "text/plain": [
       "   Time (s)  Measurement  Type\n",
       "0    0.0310    -0.001110  GYRO\n",
       "1    0.0332    -0.001110  GYRO\n",
       "2    0.0353     0.000111  GYRO\n",
       "3    0.0374     0.000264  GYRO\n",
       "4    0.0396     0.000111  GYRO"
      ]
     },
     "execution_count": 157,
     "metadata": {},
     "output_type": "execute_result"
    }
   ],
   "source": [
    "gyr_seq_df.head()"
   ]
  },
  {
   "cell_type": "code",
   "execution_count": 158,
   "metadata": {},
   "outputs": [
    {
     "data": {
      "text/html": [
       "<div>\n",
       "<style scoped>\n",
       "    .dataframe tbody tr th:only-of-type {\n",
       "        vertical-align: middle;\n",
       "    }\n",
       "\n",
       "    .dataframe tbody tr th {\n",
       "        vertical-align: top;\n",
       "    }\n",
       "\n",
       "    .dataframe thead th {\n",
       "        text-align: right;\n",
       "    }\n",
       "</style>\n",
       "<table border=\"1\" class=\"dataframe\">\n",
       "  <thead>\n",
       "    <tr style=\"text-align: right;\">\n",
       "      <th></th>\n",
       "      <th>Time (s)</th>\n",
       "      <th>Measurement</th>\n",
       "      <th>Type</th>\n",
       "    </tr>\n",
       "  </thead>\n",
       "  <tbody>\n",
       "    <tr>\n",
       "      <th>0</th>\n",
       "      <td>0.000000</td>\n",
       "      <td>0.0</td>\n",
       "      <td>GPS_VEL</td>\n",
       "    </tr>\n",
       "    <tr>\n",
       "      <th>1</th>\n",
       "      <td>1.948017</td>\n",
       "      <td>0.0</td>\n",
       "      <td>GPS_VEL</td>\n",
       "    </tr>\n",
       "    <tr>\n",
       "      <th>2</th>\n",
       "      <td>3.043338</td>\n",
       "      <td>0.0</td>\n",
       "      <td>GPS_VEL</td>\n",
       "    </tr>\n",
       "    <tr>\n",
       "      <th>3</th>\n",
       "      <td>4.052077</td>\n",
       "      <td>0.0</td>\n",
       "      <td>GPS_VEL</td>\n",
       "    </tr>\n",
       "    <tr>\n",
       "      <th>4</th>\n",
       "      <td>5.085355</td>\n",
       "      <td>0.0</td>\n",
       "      <td>GPS_VEL</td>\n",
       "    </tr>\n",
       "  </tbody>\n",
       "</table>\n",
       "</div>"
      ],
      "text/plain": [
       "   Time (s)  Measurement     Type\n",
       "0  0.000000          0.0  GPS_VEL\n",
       "1  1.948017          0.0  GPS_VEL\n",
       "2  3.043338          0.0  GPS_VEL\n",
       "3  4.052077          0.0  GPS_VEL\n",
       "4  5.085355          0.0  GPS_VEL"
      ]
     },
     "execution_count": 158,
     "metadata": {},
     "output_type": "execute_result"
    }
   ],
   "source": [
    "gps_vel_seq_df.head()"
   ]
  },
  {
   "cell_type": "code",
   "execution_count": 159,
   "metadata": {},
   "outputs": [
    {
     "data": {
      "text/html": [
       "<div>\n",
       "<style scoped>\n",
       "    .dataframe tbody tr th:only-of-type {\n",
       "        vertical-align: middle;\n",
       "    }\n",
       "\n",
       "    .dataframe tbody tr th {\n",
       "        vertical-align: top;\n",
       "    }\n",
       "\n",
       "    .dataframe thead th {\n",
       "        text-align: right;\n",
       "    }\n",
       "</style>\n",
       "<table border=\"1\" class=\"dataframe\">\n",
       "  <thead>\n",
       "    <tr style=\"text-align: right;\">\n",
       "      <th></th>\n",
       "      <th>Time (s)</th>\n",
       "      <th>Measurement</th>\n",
       "      <th>Type</th>\n",
       "    </tr>\n",
       "  </thead>\n",
       "  <tbody>\n",
       "    <tr>\n",
       "      <th>0</th>\n",
       "      <td>0.000000</td>\n",
       "      <td>-1.067956</td>\n",
       "      <td>GPS_THETA</td>\n",
       "    </tr>\n",
       "    <tr>\n",
       "      <th>1</th>\n",
       "      <td>1.948017</td>\n",
       "      <td>-1.067956</td>\n",
       "      <td>GPS_THETA</td>\n",
       "    </tr>\n",
       "    <tr>\n",
       "      <th>2</th>\n",
       "      <td>3.043338</td>\n",
       "      <td>-1.067956</td>\n",
       "      <td>GPS_THETA</td>\n",
       "    </tr>\n",
       "    <tr>\n",
       "      <th>3</th>\n",
       "      <td>4.052077</td>\n",
       "      <td>-1.067956</td>\n",
       "      <td>GPS_THETA</td>\n",
       "    </tr>\n",
       "    <tr>\n",
       "      <th>4</th>\n",
       "      <td>5.085355</td>\n",
       "      <td>-1.067956</td>\n",
       "      <td>GPS_THETA</td>\n",
       "    </tr>\n",
       "  </tbody>\n",
       "</table>\n",
       "</div>"
      ],
      "text/plain": [
       "   Time (s)  Measurement       Type\n",
       "0  0.000000    -1.067956  GPS_THETA\n",
       "1  1.948017    -1.067956  GPS_THETA\n",
       "2  3.043338    -1.067956  GPS_THETA\n",
       "3  4.052077    -1.067956  GPS_THETA\n",
       "4  5.085355    -1.067956  GPS_THETA"
      ]
     },
     "execution_count": 159,
     "metadata": {},
     "output_type": "execute_result"
    }
   ],
   "source": [
    "gps_theta_seq_df.head()"
   ]
  },
  {
   "cell_type": "code",
   "execution_count": 160,
   "metadata": {},
   "outputs": [
    {
     "data": {
      "text/html": [
       "<div>\n",
       "<style scoped>\n",
       "    .dataframe tbody tr th:only-of-type {\n",
       "        vertical-align: middle;\n",
       "    }\n",
       "\n",
       "    .dataframe tbody tr th {\n",
       "        vertical-align: top;\n",
       "    }\n",
       "\n",
       "    .dataframe thead th {\n",
       "        text-align: right;\n",
       "    }\n",
       "</style>\n",
       "<table border=\"1\" class=\"dataframe\">\n",
       "  <thead>\n",
       "    <tr style=\"text-align: right;\">\n",
       "      <th></th>\n",
       "      <th>Time (s)</th>\n",
       "      <th>Measurement</th>\n",
       "      <th>Type</th>\n",
       "    </tr>\n",
       "  </thead>\n",
       "  <tbody>\n",
       "    <tr>\n",
       "      <th>0</th>\n",
       "      <td>0.000000</td>\n",
       "      <td>0.000000</td>\n",
       "      <td>GPS_X</td>\n",
       "    </tr>\n",
       "    <tr>\n",
       "      <th>1</th>\n",
       "      <td>1.948017</td>\n",
       "      <td>100.933099</td>\n",
       "      <td>GPS_X</td>\n",
       "    </tr>\n",
       "    <tr>\n",
       "      <th>2</th>\n",
       "      <td>3.043338</td>\n",
       "      <td>99.547522</td>\n",
       "      <td>GPS_X</td>\n",
       "    </tr>\n",
       "    <tr>\n",
       "      <th>3</th>\n",
       "      <td>4.052077</td>\n",
       "      <td>99.412861</td>\n",
       "      <td>GPS_X</td>\n",
       "    </tr>\n",
       "    <tr>\n",
       "      <th>4</th>\n",
       "      <td>5.085355</td>\n",
       "      <td>99.469176</td>\n",
       "      <td>GPS_X</td>\n",
       "    </tr>\n",
       "  </tbody>\n",
       "</table>\n",
       "</div>"
      ],
      "text/plain": [
       "   Time (s)  Measurement   Type\n",
       "0  0.000000     0.000000  GPS_X\n",
       "1  1.948017   100.933099  GPS_X\n",
       "2  3.043338    99.547522  GPS_X\n",
       "3  4.052077    99.412861  GPS_X\n",
       "4  5.085355    99.469176  GPS_X"
      ]
     },
     "execution_count": 160,
     "metadata": {},
     "output_type": "execute_result"
    }
   ],
   "source": [
    "gps_x_seq_df.head()"
   ]
  },
  {
   "cell_type": "code",
   "execution_count": 161,
   "metadata": {},
   "outputs": [
    {
     "data": {
      "text/html": [
       "<div>\n",
       "<style scoped>\n",
       "    .dataframe tbody tr th:only-of-type {\n",
       "        vertical-align: middle;\n",
       "    }\n",
       "\n",
       "    .dataframe tbody tr th {\n",
       "        vertical-align: top;\n",
       "    }\n",
       "\n",
       "    .dataframe thead th {\n",
       "        text-align: right;\n",
       "    }\n",
       "</style>\n",
       "<table border=\"1\" class=\"dataframe\">\n",
       "  <thead>\n",
       "    <tr style=\"text-align: right;\">\n",
       "      <th></th>\n",
       "      <th>Time (s)</th>\n",
       "      <th>Measurement</th>\n",
       "      <th>Type</th>\n",
       "    </tr>\n",
       "  </thead>\n",
       "  <tbody>\n",
       "    <tr>\n",
       "      <th>0</th>\n",
       "      <td>0.000000</td>\n",
       "      <td>0.000000</td>\n",
       "      <td>GPS_Y</td>\n",
       "    </tr>\n",
       "    <tr>\n",
       "      <th>1</th>\n",
       "      <td>1.948017</td>\n",
       "      <td>-42.676186</td>\n",
       "      <td>GPS_Y</td>\n",
       "    </tr>\n",
       "    <tr>\n",
       "      <th>2</th>\n",
       "      <td>3.043338</td>\n",
       "      <td>-36.943560</td>\n",
       "      <td>GPS_Y</td>\n",
       "    </tr>\n",
       "    <tr>\n",
       "      <th>3</th>\n",
       "      <td>4.052077</td>\n",
       "      <td>-36.182214</td>\n",
       "      <td>GPS_Y</td>\n",
       "    </tr>\n",
       "    <tr>\n",
       "      <th>4</th>\n",
       "      <td>5.085355</td>\n",
       "      <td>-36.530077</td>\n",
       "      <td>GPS_Y</td>\n",
       "    </tr>\n",
       "  </tbody>\n",
       "</table>\n",
       "</div>"
      ],
      "text/plain": [
       "   Time (s)  Measurement   Type\n",
       "0  0.000000     0.000000  GPS_Y\n",
       "1  1.948017   -42.676186  GPS_Y\n",
       "2  3.043338   -36.943560  GPS_Y\n",
       "3  4.052077   -36.182214  GPS_Y\n",
       "4  5.085355   -36.530077  GPS_Y"
      ]
     },
     "execution_count": 161,
     "metadata": {},
     "output_type": "execute_result"
    }
   ],
   "source": [
    "gps_y_seq_df.head()"
   ]
  },
  {
   "cell_type": "code",
   "execution_count": 162,
   "metadata": {},
   "outputs": [
    {
     "data": {
      "text/html": [
       "<div>\n",
       "<style scoped>\n",
       "    .dataframe tbody tr th:only-of-type {\n",
       "        vertical-align: middle;\n",
       "    }\n",
       "\n",
       "    .dataframe tbody tr th {\n",
       "        vertical-align: top;\n",
       "    }\n",
       "\n",
       "    .dataframe thead th {\n",
       "        text-align: right;\n",
       "    }\n",
       "</style>\n",
       "<table border=\"1\" class=\"dataframe\">\n",
       "  <thead>\n",
       "    <tr style=\"text-align: right;\">\n",
       "      <th></th>\n",
       "      <th>Time (s)</th>\n",
       "      <th>Measurement</th>\n",
       "      <th>Type</th>\n",
       "    </tr>\n",
       "  </thead>\n",
       "  <tbody>\n",
       "    <tr>\n",
       "      <th>0</th>\n",
       "      <td>0.000000</td>\n",
       "      <td>0.000000</td>\n",
       "      <td>GPS_Z</td>\n",
       "    </tr>\n",
       "    <tr>\n",
       "      <th>1</th>\n",
       "      <td>1.948017</td>\n",
       "      <td>-29.530702</td>\n",
       "      <td>GPS_Z</td>\n",
       "    </tr>\n",
       "    <tr>\n",
       "      <th>2</th>\n",
       "      <td>3.043338</td>\n",
       "      <td>-29.640088</td>\n",
       "      <td>GPS_Z</td>\n",
       "    </tr>\n",
       "    <tr>\n",
       "      <th>3</th>\n",
       "      <td>4.052077</td>\n",
       "      <td>-35.422770</td>\n",
       "      <td>GPS_Z</td>\n",
       "    </tr>\n",
       "    <tr>\n",
       "      <th>4</th>\n",
       "      <td>5.085355</td>\n",
       "      <td>-36.523868</td>\n",
       "      <td>GPS_Z</td>\n",
       "    </tr>\n",
       "  </tbody>\n",
       "</table>\n",
       "</div>"
      ],
      "text/plain": [
       "   Time (s)  Measurement   Type\n",
       "0  0.000000     0.000000  GPS_Z\n",
       "1  1.948017   -29.530702  GPS_Z\n",
       "2  3.043338   -29.640088  GPS_Z\n",
       "3  4.052077   -35.422770  GPS_Z\n",
       "4  5.085355   -36.523868  GPS_Z"
      ]
     },
     "execution_count": 162,
     "metadata": {},
     "output_type": "execute_result"
    }
   ],
   "source": [
    "gps_z_seq_df.head()"
   ]
  },
  {
   "cell_type": "code",
   "execution_count": 334,
   "metadata": {},
   "outputs": [
    {
     "data": {
      "text/plain": [
       "(   Time (s)  Measurement   Type\n",
       " 0    0.0225       -0.282  ACCEL\n",
       " 1    0.0246       -0.282  ACCEL\n",
       " 2    0.0267       -0.277  ACCEL\n",
       " 3    0.0289       -0.191  ACCEL\n",
       " 4    0.0310       -0.153  ACCEL,\n",
       "           Time (s)  Measurement   Type\n",
       " 749102  793.605199   -31.693586  GPS_Z\n",
       " 749103  794.605227   -31.619192  GPS_Z\n",
       " 749104  795.605238   -31.652378  GPS_Z\n",
       " 749105  796.605272   -31.644122  GPS_Z\n",
       " 749106  797.605318   -31.633364  GPS_Z)"
      ]
     },
     "execution_count": 334,
     "metadata": {},
     "output_type": "execute_result"
    }
   ],
   "source": [
    "data_seq_df = pd.concat((acc_seq_df, gyr_seq_df, gps_vel_seq_df, gps_theta_seq_df, gps_x_seq_df, gps_y_seq_df, gps_z_seq_df), ignore_index=True)\n",
    "data_seq_df.head(), data_seq_df.tail()"
   ]
  },
  {
   "cell_type": "code",
   "execution_count": 184,
   "metadata": {},
   "outputs": [
    {
     "data": {
      "text/plain": [
       "749107"
      ]
     },
     "execution_count": 184,
     "metadata": {},
     "output_type": "execute_result"
    }
   ],
   "source": [
    "num_rows = num_acc + num_gyr + 5*num_gps\n",
    "num_rows"
   ]
  },
  {
   "cell_type": "code",
   "execution_count": 335,
   "metadata": {},
   "outputs": [
    {
     "data": {
      "text/html": [
       "<div>\n",
       "<style scoped>\n",
       "    .dataframe tbody tr th:only-of-type {\n",
       "        vertical-align: middle;\n",
       "    }\n",
       "\n",
       "    .dataframe tbody tr th {\n",
       "        vertical-align: top;\n",
       "    }\n",
       "\n",
       "    .dataframe thead th {\n",
       "        text-align: right;\n",
       "    }\n",
       "</style>\n",
       "<table border=\"1\" class=\"dataframe\">\n",
       "  <thead>\n",
       "    <tr style=\"text-align: right;\">\n",
       "      <th></th>\n",
       "      <th>Time (s)</th>\n",
       "      <th>Measurement</th>\n",
       "      <th>Type</th>\n",
       "    </tr>\n",
       "  </thead>\n",
       "  <tbody>\n",
       "    <tr>\n",
       "      <th>745943</th>\n",
       "      <td>0.0000</td>\n",
       "      <td>-1.067956</td>\n",
       "      <td>GPS_THETA</td>\n",
       "    </tr>\n",
       "    <tr>\n",
       "      <th>745152</th>\n",
       "      <td>0.0000</td>\n",
       "      <td>0.000000</td>\n",
       "      <td>GPS_VEL</td>\n",
       "    </tr>\n",
       "    <tr>\n",
       "      <th>746734</th>\n",
       "      <td>0.0000</td>\n",
       "      <td>0.000000</td>\n",
       "      <td>GPS_X</td>\n",
       "    </tr>\n",
       "    <tr>\n",
       "      <th>747525</th>\n",
       "      <td>0.0000</td>\n",
       "      <td>0.000000</td>\n",
       "      <td>GPS_Y</td>\n",
       "    </tr>\n",
       "    <tr>\n",
       "      <th>748316</th>\n",
       "      <td>0.0000</td>\n",
       "      <td>0.000000</td>\n",
       "      <td>GPS_Z</td>\n",
       "    </tr>\n",
       "    <tr>\n",
       "      <th>0</th>\n",
       "      <td>0.0225</td>\n",
       "      <td>-0.282000</td>\n",
       "      <td>ACCEL</td>\n",
       "    </tr>\n",
       "    <tr>\n",
       "      <th>1</th>\n",
       "      <td>0.0246</td>\n",
       "      <td>-0.282000</td>\n",
       "      <td>ACCEL</td>\n",
       "    </tr>\n",
       "    <tr>\n",
       "      <th>2</th>\n",
       "      <td>0.0267</td>\n",
       "      <td>-0.277000</td>\n",
       "      <td>ACCEL</td>\n",
       "    </tr>\n",
       "    <tr>\n",
       "      <th>3</th>\n",
       "      <td>0.0289</td>\n",
       "      <td>-0.191000</td>\n",
       "      <td>ACCEL</td>\n",
       "    </tr>\n",
       "    <tr>\n",
       "      <th>4</th>\n",
       "      <td>0.0310</td>\n",
       "      <td>-0.153000</td>\n",
       "      <td>ACCEL</td>\n",
       "    </tr>\n",
       "    <tr>\n",
       "      <th>372578</th>\n",
       "      <td>0.0310</td>\n",
       "      <td>-0.001110</td>\n",
       "      <td>GYRO</td>\n",
       "    </tr>\n",
       "    <tr>\n",
       "      <th>5</th>\n",
       "      <td>0.0332</td>\n",
       "      <td>-0.230000</td>\n",
       "      <td>ACCEL</td>\n",
       "    </tr>\n",
       "    <tr>\n",
       "      <th>372579</th>\n",
       "      <td>0.0332</td>\n",
       "      <td>-0.001110</td>\n",
       "      <td>GYRO</td>\n",
       "    </tr>\n",
       "    <tr>\n",
       "      <th>6</th>\n",
       "      <td>0.0353</td>\n",
       "      <td>-0.258000</td>\n",
       "      <td>ACCEL</td>\n",
       "    </tr>\n",
       "    <tr>\n",
       "      <th>372580</th>\n",
       "      <td>0.0353</td>\n",
       "      <td>0.000111</td>\n",
       "      <td>GYRO</td>\n",
       "    </tr>\n",
       "    <tr>\n",
       "      <th>7</th>\n",
       "      <td>0.0374</td>\n",
       "      <td>-0.306000</td>\n",
       "      <td>ACCEL</td>\n",
       "    </tr>\n",
       "    <tr>\n",
       "      <th>372581</th>\n",
       "      <td>0.0374</td>\n",
       "      <td>0.000264</td>\n",
       "      <td>GYRO</td>\n",
       "    </tr>\n",
       "    <tr>\n",
       "      <th>8</th>\n",
       "      <td>0.0396</td>\n",
       "      <td>-0.330000</td>\n",
       "      <td>ACCEL</td>\n",
       "    </tr>\n",
       "    <tr>\n",
       "      <th>372582</th>\n",
       "      <td>0.0396</td>\n",
       "      <td>0.000111</td>\n",
       "      <td>GYRO</td>\n",
       "    </tr>\n",
       "    <tr>\n",
       "      <th>9</th>\n",
       "      <td>0.0417</td>\n",
       "      <td>-0.388000</td>\n",
       "      <td>ACCEL</td>\n",
       "    </tr>\n",
       "  </tbody>\n",
       "</table>\n",
       "</div>"
      ],
      "text/plain": [
       "        Time (s)  Measurement       Type\n",
       "745943    0.0000    -1.067956  GPS_THETA\n",
       "745152    0.0000     0.000000    GPS_VEL\n",
       "746734    0.0000     0.000000      GPS_X\n",
       "747525    0.0000     0.000000      GPS_Y\n",
       "748316    0.0000     0.000000      GPS_Z\n",
       "0         0.0225    -0.282000      ACCEL\n",
       "1         0.0246    -0.282000      ACCEL\n",
       "2         0.0267    -0.277000      ACCEL\n",
       "3         0.0289    -0.191000      ACCEL\n",
       "4         0.0310    -0.153000      ACCEL\n",
       "372578    0.0310    -0.001110       GYRO\n",
       "5         0.0332    -0.230000      ACCEL\n",
       "372579    0.0332    -0.001110       GYRO\n",
       "6         0.0353    -0.258000      ACCEL\n",
       "372580    0.0353     0.000111       GYRO\n",
       "7         0.0374    -0.306000      ACCEL\n",
       "372581    0.0374     0.000264       GYRO\n",
       "8         0.0396    -0.330000      ACCEL\n",
       "372582    0.0396     0.000111       GYRO\n",
       "9         0.0417    -0.388000      ACCEL"
      ]
     },
     "execution_count": 335,
     "metadata": {},
     "output_type": "execute_result"
    }
   ],
   "source": [
    "# Sort by time.\n",
    "data_seq_df.sort_values(by=['Time (s)', 'Type']).head(20)"
   ]
  },
  {
   "cell_type": "code",
   "execution_count": 336,
   "metadata": {},
   "outputs": [],
   "source": [
    "data_seq_df.sort_values(by=['Time (s)', 'Type'], inplace=True)"
   ]
  },
  {
   "cell_type": "code",
   "execution_count": 337,
   "metadata": {},
   "outputs": [
    {
     "data": {
      "text/html": [
       "<div>\n",
       "<style scoped>\n",
       "    .dataframe tbody tr th:only-of-type {\n",
       "        vertical-align: middle;\n",
       "    }\n",
       "\n",
       "    .dataframe tbody tr th {\n",
       "        vertical-align: top;\n",
       "    }\n",
       "\n",
       "    .dataframe thead th {\n",
       "        text-align: right;\n",
       "    }\n",
       "</style>\n",
       "<table border=\"1\" class=\"dataframe\">\n",
       "  <thead>\n",
       "    <tr style=\"text-align: right;\">\n",
       "      <th></th>\n",
       "      <th>Time (s)</th>\n",
       "      <th>Measurement</th>\n",
       "      <th>Type</th>\n",
       "    </tr>\n",
       "  </thead>\n",
       "  <tbody>\n",
       "    <tr>\n",
       "      <th>745943</th>\n",
       "      <td>0.0000</td>\n",
       "      <td>-1.067956</td>\n",
       "      <td>GPS_THETA</td>\n",
       "    </tr>\n",
       "    <tr>\n",
       "      <th>745152</th>\n",
       "      <td>0.0000</td>\n",
       "      <td>0.000000</td>\n",
       "      <td>GPS_VEL</td>\n",
       "    </tr>\n",
       "    <tr>\n",
       "      <th>746734</th>\n",
       "      <td>0.0000</td>\n",
       "      <td>0.000000</td>\n",
       "      <td>GPS_X</td>\n",
       "    </tr>\n",
       "    <tr>\n",
       "      <th>747525</th>\n",
       "      <td>0.0000</td>\n",
       "      <td>0.000000</td>\n",
       "      <td>GPS_Y</td>\n",
       "    </tr>\n",
       "    <tr>\n",
       "      <th>748316</th>\n",
       "      <td>0.0000</td>\n",
       "      <td>0.000000</td>\n",
       "      <td>GPS_Z</td>\n",
       "    </tr>\n",
       "    <tr>\n",
       "      <th>0</th>\n",
       "      <td>0.0225</td>\n",
       "      <td>-0.282000</td>\n",
       "      <td>ACCEL</td>\n",
       "    </tr>\n",
       "    <tr>\n",
       "      <th>1</th>\n",
       "      <td>0.0246</td>\n",
       "      <td>-0.282000</td>\n",
       "      <td>ACCEL</td>\n",
       "    </tr>\n",
       "    <tr>\n",
       "      <th>2</th>\n",
       "      <td>0.0267</td>\n",
       "      <td>-0.277000</td>\n",
       "      <td>ACCEL</td>\n",
       "    </tr>\n",
       "    <tr>\n",
       "      <th>3</th>\n",
       "      <td>0.0289</td>\n",
       "      <td>-0.191000</td>\n",
       "      <td>ACCEL</td>\n",
       "    </tr>\n",
       "    <tr>\n",
       "      <th>4</th>\n",
       "      <td>0.0310</td>\n",
       "      <td>-0.153000</td>\n",
       "      <td>ACCEL</td>\n",
       "    </tr>\n",
       "    <tr>\n",
       "      <th>372578</th>\n",
       "      <td>0.0310</td>\n",
       "      <td>-0.001110</td>\n",
       "      <td>GYRO</td>\n",
       "    </tr>\n",
       "    <tr>\n",
       "      <th>5</th>\n",
       "      <td>0.0332</td>\n",
       "      <td>-0.230000</td>\n",
       "      <td>ACCEL</td>\n",
       "    </tr>\n",
       "    <tr>\n",
       "      <th>372579</th>\n",
       "      <td>0.0332</td>\n",
       "      <td>-0.001110</td>\n",
       "      <td>GYRO</td>\n",
       "    </tr>\n",
       "    <tr>\n",
       "      <th>6</th>\n",
       "      <td>0.0353</td>\n",
       "      <td>-0.258000</td>\n",
       "      <td>ACCEL</td>\n",
       "    </tr>\n",
       "    <tr>\n",
       "      <th>372580</th>\n",
       "      <td>0.0353</td>\n",
       "      <td>0.000111</td>\n",
       "      <td>GYRO</td>\n",
       "    </tr>\n",
       "    <tr>\n",
       "      <th>7</th>\n",
       "      <td>0.0374</td>\n",
       "      <td>-0.306000</td>\n",
       "      <td>ACCEL</td>\n",
       "    </tr>\n",
       "    <tr>\n",
       "      <th>372581</th>\n",
       "      <td>0.0374</td>\n",
       "      <td>0.000264</td>\n",
       "      <td>GYRO</td>\n",
       "    </tr>\n",
       "    <tr>\n",
       "      <th>8</th>\n",
       "      <td>0.0396</td>\n",
       "      <td>-0.330000</td>\n",
       "      <td>ACCEL</td>\n",
       "    </tr>\n",
       "    <tr>\n",
       "      <th>372582</th>\n",
       "      <td>0.0396</td>\n",
       "      <td>0.000111</td>\n",
       "      <td>GYRO</td>\n",
       "    </tr>\n",
       "    <tr>\n",
       "      <th>9</th>\n",
       "      <td>0.0417</td>\n",
       "      <td>-0.388000</td>\n",
       "      <td>ACCEL</td>\n",
       "    </tr>\n",
       "  </tbody>\n",
       "</table>\n",
       "</div>"
      ],
      "text/plain": [
       "        Time (s)  Measurement       Type\n",
       "745943    0.0000    -1.067956  GPS_THETA\n",
       "745152    0.0000     0.000000    GPS_VEL\n",
       "746734    0.0000     0.000000      GPS_X\n",
       "747525    0.0000     0.000000      GPS_Y\n",
       "748316    0.0000     0.000000      GPS_Z\n",
       "0         0.0225    -0.282000      ACCEL\n",
       "1         0.0246    -0.282000      ACCEL\n",
       "2         0.0267    -0.277000      ACCEL\n",
       "3         0.0289    -0.191000      ACCEL\n",
       "4         0.0310    -0.153000      ACCEL\n",
       "372578    0.0310    -0.001110       GYRO\n",
       "5         0.0332    -0.230000      ACCEL\n",
       "372579    0.0332    -0.001110       GYRO\n",
       "6         0.0353    -0.258000      ACCEL\n",
       "372580    0.0353     0.000111       GYRO\n",
       "7         0.0374    -0.306000      ACCEL\n",
       "372581    0.0374     0.000264       GYRO\n",
       "8         0.0396    -0.330000      ACCEL\n",
       "372582    0.0396     0.000111       GYRO\n",
       "9         0.0417    -0.388000      ACCEL"
      ]
     },
     "execution_count": 337,
     "metadata": {},
     "output_type": "execute_result"
    }
   ],
   "source": [
    "data_seq_df.head(20)"
   ]
  },
  {
   "cell_type": "code",
   "execution_count": 185,
   "metadata": {},
   "outputs": [
    {
     "data": {
      "text/html": [
       "<div>\n",
       "<style scoped>\n",
       "    .dataframe tbody tr th:only-of-type {\n",
       "        vertical-align: middle;\n",
       "    }\n",
       "\n",
       "    .dataframe tbody tr th {\n",
       "        vertical-align: top;\n",
       "    }\n",
       "\n",
       "    .dataframe thead th {\n",
       "        text-align: right;\n",
       "    }\n",
       "</style>\n",
       "<table border=\"1\" class=\"dataframe\">\n",
       "  <thead>\n",
       "    <tr style=\"text-align: right;\">\n",
       "      <th></th>\n",
       "      <th>Time (s)</th>\n",
       "      <th>Measurement</th>\n",
       "      <th>Type</th>\n",
       "    </tr>\n",
       "  </thead>\n",
       "  <tbody>\n",
       "    <tr>\n",
       "      <th>0</th>\n",
       "      <td>0.0225</td>\n",
       "      <td>-0.282</td>\n",
       "      <td>ACCEL</td>\n",
       "    </tr>\n",
       "    <tr>\n",
       "      <th>1</th>\n",
       "      <td>0.0246</td>\n",
       "      <td>-0.282</td>\n",
       "      <td>ACCEL</td>\n",
       "    </tr>\n",
       "    <tr>\n",
       "      <th>2</th>\n",
       "      <td>0.0267</td>\n",
       "      <td>-0.277</td>\n",
       "      <td>ACCEL</td>\n",
       "    </tr>\n",
       "    <tr>\n",
       "      <th>3</th>\n",
       "      <td>0.0289</td>\n",
       "      <td>-0.191</td>\n",
       "      <td>ACCEL</td>\n",
       "    </tr>\n",
       "    <tr>\n",
       "      <th>4</th>\n",
       "      <td>0.0310</td>\n",
       "      <td>-0.153</td>\n",
       "      <td>ACCEL</td>\n",
       "    </tr>\n",
       "    <tr>\n",
       "      <th>5</th>\n",
       "      <td>0.0332</td>\n",
       "      <td>-0.230</td>\n",
       "      <td>ACCEL</td>\n",
       "    </tr>\n",
       "    <tr>\n",
       "      <th>6</th>\n",
       "      <td>0.0353</td>\n",
       "      <td>-0.258</td>\n",
       "      <td>ACCEL</td>\n",
       "    </tr>\n",
       "    <tr>\n",
       "      <th>7</th>\n",
       "      <td>0.0374</td>\n",
       "      <td>-0.306</td>\n",
       "      <td>ACCEL</td>\n",
       "    </tr>\n",
       "    <tr>\n",
       "      <th>8</th>\n",
       "      <td>0.0396</td>\n",
       "      <td>-0.330</td>\n",
       "      <td>ACCEL</td>\n",
       "    </tr>\n",
       "    <tr>\n",
       "      <th>9</th>\n",
       "      <td>0.0417</td>\n",
       "      <td>-0.388</td>\n",
       "      <td>ACCEL</td>\n",
       "    </tr>\n",
       "    <tr>\n",
       "      <th>10</th>\n",
       "      <td>0.0439</td>\n",
       "      <td>-0.431</td>\n",
       "      <td>ACCEL</td>\n",
       "    </tr>\n",
       "    <tr>\n",
       "      <th>11</th>\n",
       "      <td>0.0460</td>\n",
       "      <td>-0.388</td>\n",
       "      <td>ACCEL</td>\n",
       "    </tr>\n",
       "    <tr>\n",
       "      <th>12</th>\n",
       "      <td>0.0481</td>\n",
       "      <td>-0.355</td>\n",
       "      <td>ACCEL</td>\n",
       "    </tr>\n",
       "    <tr>\n",
       "      <th>13</th>\n",
       "      <td>0.0503</td>\n",
       "      <td>-0.370</td>\n",
       "      <td>ACCEL</td>\n",
       "    </tr>\n",
       "    <tr>\n",
       "      <th>14</th>\n",
       "      <td>0.0524</td>\n",
       "      <td>-0.317</td>\n",
       "      <td>ACCEL</td>\n",
       "    </tr>\n",
       "    <tr>\n",
       "      <th>15</th>\n",
       "      <td>0.0546</td>\n",
       "      <td>-0.317</td>\n",
       "      <td>ACCEL</td>\n",
       "    </tr>\n",
       "    <tr>\n",
       "      <th>16</th>\n",
       "      <td>0.0567</td>\n",
       "      <td>-0.331</td>\n",
       "      <td>ACCEL</td>\n",
       "    </tr>\n",
       "    <tr>\n",
       "      <th>17</th>\n",
       "      <td>0.0589</td>\n",
       "      <td>-0.388</td>\n",
       "      <td>ACCEL</td>\n",
       "    </tr>\n",
       "    <tr>\n",
       "      <th>18</th>\n",
       "      <td>0.0610</td>\n",
       "      <td>-0.392</td>\n",
       "      <td>ACCEL</td>\n",
       "    </tr>\n",
       "    <tr>\n",
       "      <th>19</th>\n",
       "      <td>0.0631</td>\n",
       "      <td>-0.330</td>\n",
       "      <td>ACCEL</td>\n",
       "    </tr>\n",
       "  </tbody>\n",
       "</table>\n",
       "</div>"
      ],
      "text/plain": [
       "    Time (s)  Measurement   Type\n",
       "0     0.0225       -0.282  ACCEL\n",
       "1     0.0246       -0.282  ACCEL\n",
       "2     0.0267       -0.277  ACCEL\n",
       "3     0.0289       -0.191  ACCEL\n",
       "4     0.0310       -0.153  ACCEL\n",
       "5     0.0332       -0.230  ACCEL\n",
       "6     0.0353       -0.258  ACCEL\n",
       "7     0.0374       -0.306  ACCEL\n",
       "8     0.0396       -0.330  ACCEL\n",
       "9     0.0417       -0.388  ACCEL\n",
       "10    0.0439       -0.431  ACCEL\n",
       "11    0.0460       -0.388  ACCEL\n",
       "12    0.0481       -0.355  ACCEL\n",
       "13    0.0503       -0.370  ACCEL\n",
       "14    0.0524       -0.317  ACCEL\n",
       "15    0.0546       -0.317  ACCEL\n",
       "16    0.0567       -0.331  ACCEL\n",
       "17    0.0589       -0.388  ACCEL\n",
       "18    0.0610       -0.392  ACCEL\n",
       "19    0.0631       -0.330  ACCEL"
      ]
     },
     "execution_count": 185,
     "metadata": {},
     "output_type": "execute_result"
    }
   ],
   "source": [
    "data_seq_df.reindex(list(range(num_rows))).head(20)"
   ]
  },
  {
   "cell_type": "code",
   "execution_count": 186,
   "metadata": {},
   "outputs": [
    {
     "data": {
      "text/html": [
       "<div>\n",
       "<style scoped>\n",
       "    .dataframe tbody tr th:only-of-type {\n",
       "        vertical-align: middle;\n",
       "    }\n",
       "\n",
       "    .dataframe tbody tr th {\n",
       "        vertical-align: top;\n",
       "    }\n",
       "\n",
       "    .dataframe thead th {\n",
       "        text-align: right;\n",
       "    }\n",
       "</style>\n",
       "<table border=\"1\" class=\"dataframe\">\n",
       "  <thead>\n",
       "    <tr style=\"text-align: right;\">\n",
       "      <th></th>\n",
       "      <th>Time (s)</th>\n",
       "      <th>Measurement</th>\n",
       "      <th>Type</th>\n",
       "    </tr>\n",
       "  </thead>\n",
       "  <tbody>\n",
       "    <tr>\n",
       "      <th>745152</th>\n",
       "      <td>0.0000</td>\n",
       "      <td>0.000000</td>\n",
       "      <td>GPS_VEL</td>\n",
       "    </tr>\n",
       "    <tr>\n",
       "      <th>745943</th>\n",
       "      <td>0.0000</td>\n",
       "      <td>-1.067956</td>\n",
       "      <td>GPS_THETA</td>\n",
       "    </tr>\n",
       "    <tr>\n",
       "      <th>746734</th>\n",
       "      <td>0.0000</td>\n",
       "      <td>0.000000</td>\n",
       "      <td>GPS_X</td>\n",
       "    </tr>\n",
       "    <tr>\n",
       "      <th>747525</th>\n",
       "      <td>0.0000</td>\n",
       "      <td>0.000000</td>\n",
       "      <td>GPS_Y</td>\n",
       "    </tr>\n",
       "    <tr>\n",
       "      <th>748316</th>\n",
       "      <td>0.0000</td>\n",
       "      <td>0.000000</td>\n",
       "      <td>GPS_Z</td>\n",
       "    </tr>\n",
       "    <tr>\n",
       "      <th>0</th>\n",
       "      <td>0.0225</td>\n",
       "      <td>-0.282000</td>\n",
       "      <td>ACCEL</td>\n",
       "    </tr>\n",
       "    <tr>\n",
       "      <th>1</th>\n",
       "      <td>0.0246</td>\n",
       "      <td>-0.282000</td>\n",
       "      <td>ACCEL</td>\n",
       "    </tr>\n",
       "    <tr>\n",
       "      <th>2</th>\n",
       "      <td>0.0267</td>\n",
       "      <td>-0.277000</td>\n",
       "      <td>ACCEL</td>\n",
       "    </tr>\n",
       "    <tr>\n",
       "      <th>3</th>\n",
       "      <td>0.0289</td>\n",
       "      <td>-0.191000</td>\n",
       "      <td>ACCEL</td>\n",
       "    </tr>\n",
       "    <tr>\n",
       "      <th>372578</th>\n",
       "      <td>0.0310</td>\n",
       "      <td>-0.001110</td>\n",
       "      <td>GYRO</td>\n",
       "    </tr>\n",
       "    <tr>\n",
       "      <th>4</th>\n",
       "      <td>0.0310</td>\n",
       "      <td>-0.153000</td>\n",
       "      <td>ACCEL</td>\n",
       "    </tr>\n",
       "    <tr>\n",
       "      <th>5</th>\n",
       "      <td>0.0332</td>\n",
       "      <td>-0.230000</td>\n",
       "      <td>ACCEL</td>\n",
       "    </tr>\n",
       "    <tr>\n",
       "      <th>372579</th>\n",
       "      <td>0.0332</td>\n",
       "      <td>-0.001110</td>\n",
       "      <td>GYRO</td>\n",
       "    </tr>\n",
       "    <tr>\n",
       "      <th>6</th>\n",
       "      <td>0.0353</td>\n",
       "      <td>-0.258000</td>\n",
       "      <td>ACCEL</td>\n",
       "    </tr>\n",
       "    <tr>\n",
       "      <th>372580</th>\n",
       "      <td>0.0353</td>\n",
       "      <td>0.000111</td>\n",
       "      <td>GYRO</td>\n",
       "    </tr>\n",
       "    <tr>\n",
       "      <th>372581</th>\n",
       "      <td>0.0374</td>\n",
       "      <td>0.000264</td>\n",
       "      <td>GYRO</td>\n",
       "    </tr>\n",
       "    <tr>\n",
       "      <th>7</th>\n",
       "      <td>0.0374</td>\n",
       "      <td>-0.306000</td>\n",
       "      <td>ACCEL</td>\n",
       "    </tr>\n",
       "    <tr>\n",
       "      <th>8</th>\n",
       "      <td>0.0396</td>\n",
       "      <td>-0.330000</td>\n",
       "      <td>ACCEL</td>\n",
       "    </tr>\n",
       "    <tr>\n",
       "      <th>372582</th>\n",
       "      <td>0.0396</td>\n",
       "      <td>0.000111</td>\n",
       "      <td>GYRO</td>\n",
       "    </tr>\n",
       "    <tr>\n",
       "      <th>9</th>\n",
       "      <td>0.0417</td>\n",
       "      <td>-0.388000</td>\n",
       "      <td>ACCEL</td>\n",
       "    </tr>\n",
       "  </tbody>\n",
       "</table>\n",
       "</div>"
      ],
      "text/plain": [
       "        Time (s)  Measurement       Type\n",
       "745152    0.0000     0.000000    GPS_VEL\n",
       "745943    0.0000    -1.067956  GPS_THETA\n",
       "746734    0.0000     0.000000      GPS_X\n",
       "747525    0.0000     0.000000      GPS_Y\n",
       "748316    0.0000     0.000000      GPS_Z\n",
       "0         0.0225    -0.282000      ACCEL\n",
       "1         0.0246    -0.282000      ACCEL\n",
       "2         0.0267    -0.277000      ACCEL\n",
       "3         0.0289    -0.191000      ACCEL\n",
       "372578    0.0310    -0.001110       GYRO\n",
       "4         0.0310    -0.153000      ACCEL\n",
       "5         0.0332    -0.230000      ACCEL\n",
       "372579    0.0332    -0.001110       GYRO\n",
       "6         0.0353    -0.258000      ACCEL\n",
       "372580    0.0353     0.000111       GYRO\n",
       "372581    0.0374     0.000264       GYRO\n",
       "7         0.0374    -0.306000      ACCEL\n",
       "8         0.0396    -0.330000      ACCEL\n",
       "372582    0.0396     0.000111       GYRO\n",
       "9         0.0417    -0.388000      ACCEL"
      ]
     },
     "execution_count": 186,
     "metadata": {},
     "output_type": "execute_result"
    }
   ],
   "source": [
    "data_seq_df.head(20)"
   ]
  },
  {
   "cell_type": "code",
   "execution_count": 187,
   "metadata": {},
   "outputs": [
    {
     "data": {
      "text/html": [
       "<div>\n",
       "<style scoped>\n",
       "    .dataframe tbody tr th:only-of-type {\n",
       "        vertical-align: middle;\n",
       "    }\n",
       "\n",
       "    .dataframe tbody tr th {\n",
       "        vertical-align: top;\n",
       "    }\n",
       "\n",
       "    .dataframe thead th {\n",
       "        text-align: right;\n",
       "    }\n",
       "</style>\n",
       "<table border=\"1\" class=\"dataframe\">\n",
       "  <thead>\n",
       "    <tr style=\"text-align: right;\">\n",
       "      <th></th>\n",
       "      <th>Time (s)</th>\n",
       "      <th>Measurement</th>\n",
       "      <th>Type</th>\n",
       "    </tr>\n",
       "  </thead>\n",
       "  <tbody>\n",
       "    <tr>\n",
       "      <th>0</th>\n",
       "      <td>0.0000</td>\n",
       "      <td>0.000000</td>\n",
       "      <td>GPS_VEL</td>\n",
       "    </tr>\n",
       "    <tr>\n",
       "      <th>1</th>\n",
       "      <td>0.0000</td>\n",
       "      <td>-1.067956</td>\n",
       "      <td>GPS_THETA</td>\n",
       "    </tr>\n",
       "    <tr>\n",
       "      <th>2</th>\n",
       "      <td>0.0000</td>\n",
       "      <td>0.000000</td>\n",
       "      <td>GPS_X</td>\n",
       "    </tr>\n",
       "    <tr>\n",
       "      <th>3</th>\n",
       "      <td>0.0000</td>\n",
       "      <td>0.000000</td>\n",
       "      <td>GPS_Y</td>\n",
       "    </tr>\n",
       "    <tr>\n",
       "      <th>4</th>\n",
       "      <td>0.0000</td>\n",
       "      <td>0.000000</td>\n",
       "      <td>GPS_Z</td>\n",
       "    </tr>\n",
       "    <tr>\n",
       "      <th>5</th>\n",
       "      <td>0.0225</td>\n",
       "      <td>-0.282000</td>\n",
       "      <td>ACCEL</td>\n",
       "    </tr>\n",
       "    <tr>\n",
       "      <th>6</th>\n",
       "      <td>0.0246</td>\n",
       "      <td>-0.282000</td>\n",
       "      <td>ACCEL</td>\n",
       "    </tr>\n",
       "    <tr>\n",
       "      <th>7</th>\n",
       "      <td>0.0267</td>\n",
       "      <td>-0.277000</td>\n",
       "      <td>ACCEL</td>\n",
       "    </tr>\n",
       "    <tr>\n",
       "      <th>8</th>\n",
       "      <td>0.0289</td>\n",
       "      <td>-0.191000</td>\n",
       "      <td>ACCEL</td>\n",
       "    </tr>\n",
       "    <tr>\n",
       "      <th>9</th>\n",
       "      <td>0.0310</td>\n",
       "      <td>-0.001110</td>\n",
       "      <td>GYRO</td>\n",
       "    </tr>\n",
       "    <tr>\n",
       "      <th>10</th>\n",
       "      <td>0.0310</td>\n",
       "      <td>-0.153000</td>\n",
       "      <td>ACCEL</td>\n",
       "    </tr>\n",
       "    <tr>\n",
       "      <th>11</th>\n",
       "      <td>0.0332</td>\n",
       "      <td>-0.230000</td>\n",
       "      <td>ACCEL</td>\n",
       "    </tr>\n",
       "    <tr>\n",
       "      <th>12</th>\n",
       "      <td>0.0332</td>\n",
       "      <td>-0.001110</td>\n",
       "      <td>GYRO</td>\n",
       "    </tr>\n",
       "    <tr>\n",
       "      <th>13</th>\n",
       "      <td>0.0353</td>\n",
       "      <td>-0.258000</td>\n",
       "      <td>ACCEL</td>\n",
       "    </tr>\n",
       "    <tr>\n",
       "      <th>14</th>\n",
       "      <td>0.0353</td>\n",
       "      <td>0.000111</td>\n",
       "      <td>GYRO</td>\n",
       "    </tr>\n",
       "    <tr>\n",
       "      <th>15</th>\n",
       "      <td>0.0374</td>\n",
       "      <td>0.000264</td>\n",
       "      <td>GYRO</td>\n",
       "    </tr>\n",
       "    <tr>\n",
       "      <th>16</th>\n",
       "      <td>0.0374</td>\n",
       "      <td>-0.306000</td>\n",
       "      <td>ACCEL</td>\n",
       "    </tr>\n",
       "    <tr>\n",
       "      <th>17</th>\n",
       "      <td>0.0396</td>\n",
       "      <td>-0.330000</td>\n",
       "      <td>ACCEL</td>\n",
       "    </tr>\n",
       "    <tr>\n",
       "      <th>18</th>\n",
       "      <td>0.0396</td>\n",
       "      <td>0.000111</td>\n",
       "      <td>GYRO</td>\n",
       "    </tr>\n",
       "    <tr>\n",
       "      <th>19</th>\n",
       "      <td>0.0417</td>\n",
       "      <td>-0.388000</td>\n",
       "      <td>ACCEL</td>\n",
       "    </tr>\n",
       "  </tbody>\n",
       "</table>\n",
       "</div>"
      ],
      "text/plain": [
       "    Time (s)  Measurement       Type\n",
       "0     0.0000     0.000000    GPS_VEL\n",
       "1     0.0000    -1.067956  GPS_THETA\n",
       "2     0.0000     0.000000      GPS_X\n",
       "3     0.0000     0.000000      GPS_Y\n",
       "4     0.0000     0.000000      GPS_Z\n",
       "5     0.0225    -0.282000      ACCEL\n",
       "6     0.0246    -0.282000      ACCEL\n",
       "7     0.0267    -0.277000      ACCEL\n",
       "8     0.0289    -0.191000      ACCEL\n",
       "9     0.0310    -0.001110       GYRO\n",
       "10    0.0310    -0.153000      ACCEL\n",
       "11    0.0332    -0.230000      ACCEL\n",
       "12    0.0332    -0.001110       GYRO\n",
       "13    0.0353    -0.258000      ACCEL\n",
       "14    0.0353     0.000111       GYRO\n",
       "15    0.0374     0.000264       GYRO\n",
       "16    0.0374    -0.306000      ACCEL\n",
       "17    0.0396    -0.330000      ACCEL\n",
       "18    0.0396     0.000111       GYRO\n",
       "19    0.0417    -0.388000      ACCEL"
      ]
     },
     "execution_count": 187,
     "metadata": {},
     "output_type": "execute_result"
    }
   ],
   "source": [
    "data_seq_df.reset_index(drop=True).head(20)"
   ]
  },
  {
   "cell_type": "code",
   "execution_count": 338,
   "metadata": {},
   "outputs": [],
   "source": [
    "data_seq_df.reset_index(drop=True, inplace=True)"
   ]
  },
  {
   "cell_type": "code",
   "execution_count": 339,
   "metadata": {},
   "outputs": [
    {
     "data": {
      "text/html": [
       "<div>\n",
       "<style scoped>\n",
       "    .dataframe tbody tr th:only-of-type {\n",
       "        vertical-align: middle;\n",
       "    }\n",
       "\n",
       "    .dataframe tbody tr th {\n",
       "        vertical-align: top;\n",
       "    }\n",
       "\n",
       "    .dataframe thead th {\n",
       "        text-align: right;\n",
       "    }\n",
       "</style>\n",
       "<table border=\"1\" class=\"dataframe\">\n",
       "  <thead>\n",
       "    <tr style=\"text-align: right;\">\n",
       "      <th></th>\n",
       "      <th>Time (s)</th>\n",
       "      <th>Measurement</th>\n",
       "      <th>Type</th>\n",
       "    </tr>\n",
       "  </thead>\n",
       "  <tbody>\n",
       "    <tr>\n",
       "      <th>0</th>\n",
       "      <td>0.0000</td>\n",
       "      <td>-1.067956</td>\n",
       "      <td>GPS_THETA</td>\n",
       "    </tr>\n",
       "    <tr>\n",
       "      <th>1</th>\n",
       "      <td>0.0000</td>\n",
       "      <td>0.000000</td>\n",
       "      <td>GPS_VEL</td>\n",
       "    </tr>\n",
       "    <tr>\n",
       "      <th>2</th>\n",
       "      <td>0.0000</td>\n",
       "      <td>0.000000</td>\n",
       "      <td>GPS_X</td>\n",
       "    </tr>\n",
       "    <tr>\n",
       "      <th>3</th>\n",
       "      <td>0.0000</td>\n",
       "      <td>0.000000</td>\n",
       "      <td>GPS_Y</td>\n",
       "    </tr>\n",
       "    <tr>\n",
       "      <th>4</th>\n",
       "      <td>0.0000</td>\n",
       "      <td>0.000000</td>\n",
       "      <td>GPS_Z</td>\n",
       "    </tr>\n",
       "    <tr>\n",
       "      <th>5</th>\n",
       "      <td>0.0225</td>\n",
       "      <td>-0.282000</td>\n",
       "      <td>ACCEL</td>\n",
       "    </tr>\n",
       "    <tr>\n",
       "      <th>6</th>\n",
       "      <td>0.0246</td>\n",
       "      <td>-0.282000</td>\n",
       "      <td>ACCEL</td>\n",
       "    </tr>\n",
       "    <tr>\n",
       "      <th>7</th>\n",
       "      <td>0.0267</td>\n",
       "      <td>-0.277000</td>\n",
       "      <td>ACCEL</td>\n",
       "    </tr>\n",
       "    <tr>\n",
       "      <th>8</th>\n",
       "      <td>0.0289</td>\n",
       "      <td>-0.191000</td>\n",
       "      <td>ACCEL</td>\n",
       "    </tr>\n",
       "    <tr>\n",
       "      <th>9</th>\n",
       "      <td>0.0310</td>\n",
       "      <td>-0.153000</td>\n",
       "      <td>ACCEL</td>\n",
       "    </tr>\n",
       "    <tr>\n",
       "      <th>10</th>\n",
       "      <td>0.0310</td>\n",
       "      <td>-0.001110</td>\n",
       "      <td>GYRO</td>\n",
       "    </tr>\n",
       "    <tr>\n",
       "      <th>11</th>\n",
       "      <td>0.0332</td>\n",
       "      <td>-0.230000</td>\n",
       "      <td>ACCEL</td>\n",
       "    </tr>\n",
       "    <tr>\n",
       "      <th>12</th>\n",
       "      <td>0.0332</td>\n",
       "      <td>-0.001110</td>\n",
       "      <td>GYRO</td>\n",
       "    </tr>\n",
       "    <tr>\n",
       "      <th>13</th>\n",
       "      <td>0.0353</td>\n",
       "      <td>-0.258000</td>\n",
       "      <td>ACCEL</td>\n",
       "    </tr>\n",
       "    <tr>\n",
       "      <th>14</th>\n",
       "      <td>0.0353</td>\n",
       "      <td>0.000111</td>\n",
       "      <td>GYRO</td>\n",
       "    </tr>\n",
       "    <tr>\n",
       "      <th>15</th>\n",
       "      <td>0.0374</td>\n",
       "      <td>-0.306000</td>\n",
       "      <td>ACCEL</td>\n",
       "    </tr>\n",
       "    <tr>\n",
       "      <th>16</th>\n",
       "      <td>0.0374</td>\n",
       "      <td>0.000264</td>\n",
       "      <td>GYRO</td>\n",
       "    </tr>\n",
       "    <tr>\n",
       "      <th>17</th>\n",
       "      <td>0.0396</td>\n",
       "      <td>-0.330000</td>\n",
       "      <td>ACCEL</td>\n",
       "    </tr>\n",
       "    <tr>\n",
       "      <th>18</th>\n",
       "      <td>0.0396</td>\n",
       "      <td>0.000111</td>\n",
       "      <td>GYRO</td>\n",
       "    </tr>\n",
       "    <tr>\n",
       "      <th>19</th>\n",
       "      <td>0.0417</td>\n",
       "      <td>-0.388000</td>\n",
       "      <td>ACCEL</td>\n",
       "    </tr>\n",
       "  </tbody>\n",
       "</table>\n",
       "</div>"
      ],
      "text/plain": [
       "    Time (s)  Measurement       Type\n",
       "0     0.0000    -1.067956  GPS_THETA\n",
       "1     0.0000     0.000000    GPS_VEL\n",
       "2     0.0000     0.000000      GPS_X\n",
       "3     0.0000     0.000000      GPS_Y\n",
       "4     0.0000     0.000000      GPS_Z\n",
       "5     0.0225    -0.282000      ACCEL\n",
       "6     0.0246    -0.282000      ACCEL\n",
       "7     0.0267    -0.277000      ACCEL\n",
       "8     0.0289    -0.191000      ACCEL\n",
       "9     0.0310    -0.153000      ACCEL\n",
       "10    0.0310    -0.001110       GYRO\n",
       "11    0.0332    -0.230000      ACCEL\n",
       "12    0.0332    -0.001110       GYRO\n",
       "13    0.0353    -0.258000      ACCEL\n",
       "14    0.0353     0.000111       GYRO\n",
       "15    0.0374    -0.306000      ACCEL\n",
       "16    0.0374     0.000264       GYRO\n",
       "17    0.0396    -0.330000      ACCEL\n",
       "18    0.0396     0.000111       GYRO\n",
       "19    0.0417    -0.388000      ACCEL"
      ]
     },
     "execution_count": 339,
     "metadata": {},
     "output_type": "execute_result"
    }
   ],
   "source": [
    "data_seq_df.head(20)"
   ]
  },
  {
   "cell_type": "code",
   "execution_count": 340,
   "metadata": {},
   "outputs": [
    {
     "name": "stdout",
     "output_type": "stream",
     "text": [
      "0: 0.0, -1.0679558265897868, GPS_THETA\n",
      "1: 0.0, 0.0, GPS_VEL\n",
      "2: 0.0, 0.0, GPS_X\n",
      "3: 0.0, 0.0, GPS_Y\n",
      "4: 0.0, 0.0, GPS_Z\n",
      "5: 0.0225, -0.282, ACCEL\n",
      "6: 0.0246, -0.282, ACCEL\n",
      "7: 0.0267, -0.277, ACCEL\n",
      "8: 0.0289, -0.191, ACCEL\n",
      "9: 0.031, -0.153, ACCEL\n",
      "10: 0.031, -0.00111, GYRO\n",
      "11: 0.0332, -0.23, ACCEL\n",
      "12: 0.0332, -0.00111, GYRO\n",
      "13: 0.0353, -0.258, ACCEL\n",
      "14: 0.0353, 0.000111, GYRO\n",
      "15: 0.0374, -0.306, ACCEL\n",
      "16: 0.0374, 0.000264, GYRO\n",
      "17: 0.0396, -0.33, ACCEL\n",
      "18: 0.0396, 0.000111, GYRO\n",
      "19: 0.0417, -0.388, ACCEL\n"
     ]
    }
   ],
   "source": [
    "for i, row in data_seq_df.iterrows():\n",
    "    if (i == 20):\n",
    "        break\n",
    "    t, zk, typ = row\n",
    "    print(f\"{i}: {t}, {zk}, {typ}\")"
   ]
  },
  {
   "cell_type": "markdown",
   "metadata": {},
   "source": [
    "## Run Kalman Filter for Heading/Vel Estimation\n",
    "\n",
    "Assumptions:\n",
    "- Initial conditions have unit variance I"
   ]
  },
  {
   "cell_type": "code",
   "execution_count": 349,
   "metadata": {},
   "outputs": [],
   "source": [
    "A_k = np.array([[1, 0],\n",
    "                [0, 1]])\n",
    "B_k = np.array([[T_acc, 0],\n",
    "                [0, T_gyr]])\n",
    "H_k = np.array([[1, 0],\n",
    "                [0, 1]\n",
    "                ])\n",
    "Q_k = np.array([[12.5*T_acc**2, 0],\n",
    "                [0, 0.001*T_gyr**2]])\n",
    "R_k = np.array([[0.06, 0],\n",
    "                [0, 0.06]])"
   ]
  },
  {
   "cell_type": "code",
   "execution_count": 350,
   "metadata": {},
   "outputs": [],
   "source": [
    "heading_speed_kf = DiscreteKF(A_k, B_k, H_k, Q_k, R_k)"
   ]
  },
  {
   "cell_type": "code",
   "execution_count": 351,
   "metadata": {},
   "outputs": [
    {
     "name": "stdout",
     "output_type": "stream",
     "text": [
      "None\n"
     ]
    }
   ],
   "source": [
    "print(heading_speed_kf.get_state_estim())"
   ]
  },
  {
   "cell_type": "code",
   "execution_count": 352,
   "metadata": {},
   "outputs": [
    {
     "data": {
      "text/plain": [
       "(array([[0.        ],\n",
       "        [0.50265482]]),\n",
       " array([[1., 0.],\n",
       "        [0., 1.]]))"
      ]
     },
     "execution_count": 352,
     "metadata": {},
     "output_type": "execute_result"
    }
   ],
   "source": [
    "# Initialize with I.C.\n",
    "x0 = np.array([0, np.deg2rad(28.8)]).reshape((2, 1))\n",
    "P0 = np.eye(2)\n",
    "x0, P0"
   ]
  },
  {
   "cell_type": "code",
   "execution_count": 353,
   "metadata": {},
   "outputs": [],
   "source": [
    "heading_speed_kf.init_filter(x0, P0)"
   ]
  },
  {
   "cell_type": "code",
   "execution_count": 354,
   "metadata": {},
   "outputs": [
    {
     "data": {
      "text/plain": [
       "np.float64(0.0)"
      ]
     },
     "execution_count": 354,
     "metadata": {},
     "output_type": "execute_result"
    }
   ],
   "source": [
    "data_seq_df.iloc[1]['Measurement']"
   ]
  },
  {
   "cell_type": "code",
   "execution_count": null,
   "metadata": {},
   "outputs": [],
   "source": [
    "# Filter loop.\n",
    "pred_vel_log = []\n",
    "pred_theta_log = []\n",
    "time_log = []\n",
    "for i, row in data_seq_df.iterrows():\n",
    "    t, zk, typ = row\n",
    "\n",
    "    if (typ == GPS_VEL_TYPE):\n",
    "        continue\n",
    "    elif (typ == GPS_X_TYPE):\n",
    "        continue\n",
    "    elif (typ == GPS_Y_TYPE):\n",
    "        continue\n",
    "    elif (typ == GPS_Z_TYPE):\n",
    "        continue\n",
    "\n",
    "    pred = heading_speed_kf.get_state_estim()\n",
    "    ##print(pred, type(pred), pred.shape)\n",
    "    pred_vel_log.append(pred[0])\n",
    "    pred_theta_log.append(pred[1])\n",
    "    time_log.append(t)\n",
    "\n",
    "    if (typ == ACCEL_TYPE):\n",
    "        uk = np.array([zk, 0]).reshape((2, 1))\n",
    "        heading_speed_kf.predict(uk)\n",
    "\n",
    "    elif (typ == GYRO_TYPE):\n",
    "        uk = np.array([0, zk]).reshape((2, 1))\n",
    "        heading_speed_kf.predict(uk)\n",
    "\n",
    "    elif (typ == GPS_THETA_TYPE):\n",
    "        assert data_seq_df.iloc[i]['Type'] == GPS_THETA_TYPE\n",
    "        assert data_seq_df.iloc[i+1]['Type'] == GPS_VEL_TYPE\n",
    "        assert data_seq_df.iloc[i+2]['Type'] == GPS_X_TYPE\n",
    "        assert data_seq_df.iloc[i+3]['Type'] == GPS_Y_TYPE\n",
    "        assert data_seq_df.iloc[i+4]['Type'] == GPS_Z_TYPE\n",
    "\n",
    "        yk_theta = data_seq_df.iloc[i]['Measurement']\n",
    "        yk_vel = data_seq_df.iloc[i+1]['Measurement']\n",
    "        yk_x = data_seq_df.iloc[i+2]['Measurement']\n",
    "        yk_y = data_seq_df.iloc[i+3]['Measurement']\n",
    "        yk_z = data_seq_df.iloc[i+4]['Measurement']\n",
    "        zk = np.array([yk_vel, yk_theta]).reshape(2, 1)\n",
    "        heading_speed_kf.correct(zk)"
   ]
  },
  {
   "cell_type": "code",
   "execution_count": null,
   "metadata": {},
   "outputs": [
    {
     "data": {
      "text/plain": [
       "(745943, 745943)"
      ]
     },
     "execution_count": 356,
     "metadata": {},
     "output_type": "execute_result"
    }
   ],
   "source": [
    "len(time_log), len(pred_theta_log)"
   ]
  },
  {
   "cell_type": "code",
   "execution_count": 357,
   "metadata": {},
   "outputs": [
    {
     "data": {
      "text/plain": [
       "array([0.50265482])"
      ]
     },
     "execution_count": 357,
     "metadata": {},
     "output_type": "execute_result"
    }
   ],
   "source": [
    "pred_theta_log[0]"
   ]
  },
  {
   "cell_type": "code",
   "execution_count": null,
   "metadata": {},
   "outputs": [
    {
     "data": {
      "text/plain": [
       "Text(0, 0.5, 'Vel (m/s)')"
      ]
     },
     "execution_count": 358,
     "metadata": {},
     "output_type": "execute_result"
    },
    {
     "data": {
      "image/png": "[encoded data removed]",
      "text/plain": [
       "<Figure size 640x480 with 1 Axes>"
      ]
     },
     "metadata": {},
     "output_type": "display_data"
    }
   ],
   "source": [
    "plt.plot(time_log, pred_vel_log)\n",
    "plt.title(\"Accelerometer Kalman Filter Velocity Results with Bias\")\n",
    "plt.xlabel(\"Time (s)\")\n",
    "plt.ylabel(\"Vel (m/s)\")"
   ]
  },
  {
   "cell_type": "code",
   "execution_count": 359,
   "metadata": {},
   "outputs": [
    {
     "data": {
      "text/plain": [
       "Text(0, 0.5, '$\\\\theta$ (rad)')"
      ]
     },
     "execution_count": 359,
     "metadata": {},
     "output_type": "execute_result"
    },
    {
     "data": {
      "image/png": "[encoded data removed]",
      "text/plain": [
       "<Figure size 640x480 with 1 Axes>"
      ]
     },
     "metadata": {},
     "output_type": "display_data"
    }
   ],
   "source": [
    "plt.plot(time_log, pred_theta_log)\n",
    "plt.title(\"Gyro Kalman Filter Heading Results with Bias\")\n",
    "plt.xlabel(\"Time (s)\")\n",
    "plt.ylabel(\"$\\\\theta$ (rad)\")"
   ]
  },
  {
   "cell_type": "markdown",
   "metadata": {},
   "source": [
    "## Plot Vel/Heading KF Results"
   ]
  },
  {
   "cell_type": "code",
   "execution_count": 467,
   "metadata": {},
   "outputs": [],
   "source": [
    "vel_cum = np.cumsum(traj_acc_yaxis_vec)*T_acc\n",
    "theta_cum = np.cumsum(traj_gyr_zaxis_vec)*T_gyr\n",
    "assert vel_cum.shape == traj_acc_time_vec.shape\n",
    "assert theta_cum.shape == traj_gyr_time_vec.shape"
   ]
  },
  {
   "cell_type": "code",
   "execution_count": 372,
   "metadata": {},
   "outputs": [
    {
     "data": {
      "text/plain": [
       "<matplotlib.legend.Legend at 0x16b9fb650>"
      ]
     },
     "execution_count": 372,
     "metadata": {},
     "output_type": "execute_result"
    },
    {
     "data": {
      "image/png": "[encoded data removed]",
      "text/plain": [
       "<Figure size 640x480 with 1 Axes>"
      ]
     },
     "metadata": {},
     "output_type": "display_data"
    }
   ],
   "source": [
    "# Plot INS, GPS, Kalman Filter estimate of vehicle speed over time.\n",
    "plt.title(\"INS, GPS, Kalman Filter Estimate of Vehicle Speed with Bias\")\n",
    "plt.xlabel(\"Time (s)\")\n",
    "plt.ylabel(\"Vel (m/s)\")\n",
    "plt.plot(time_log, pred_vel_log, label=\"estimate\")\n",
    "plt.plot(traj_acc_time_vec, vel_cum, label=\"accel cum\")\n",
    "plt.plot(traj_gps_time_vec, traj_gps_vel_vec, \"--\", label=\"gps\")\n",
    "plt.legend()"
   ]
  },
  {
   "cell_type": "code",
   "execution_count": 375,
   "metadata": {},
   "outputs": [
    {
     "data": {
      "text/plain": [
       "<matplotlib.legend.Legend at 0x169c04920>"
      ]
     },
     "execution_count": 375,
     "metadata": {},
     "output_type": "execute_result"
    },
    {
     "data": {
      "image/png": "[encoded data removed]",
      "text/plain": [
       "<Figure size 640x480 with 1 Axes>"
      ]
     },
     "metadata": {},
     "output_type": "display_data"
    }
   ],
   "source": [
    "# Plot INS, GPS, Kalman Filter estimate of vehicle heading over time.\n",
    "plt.title(\"INS, GPS, Kalman Filter Estimate of Vehicle Heading with Bias\")\n",
    "plt.xlabel(\"Time (s)\")\n",
    "plt.ylabel(\"Heading (rad)\")\n",
    "plt.plot(time_log, pred_theta_log, label=\"estimate\")\n",
    "plt.plot(traj_gyr_time_vec, theta_cum, label=\"accel cum\")\n",
    "plt.plot(traj_gps_time_vec, traj_gps_theta_vec, \"--\", label=\"gps\")\n",
    "plt.legend()"
   ]
  },
  {
   "cell_type": "markdown",
   "metadata": {},
   "source": [
    "## Fusing Process Model and GPS and Everything in Between\n",
    "\n",
    "Below there is the design of a cascading KF-EKF filter. The low-level KF filter estimates heading ($\\theta(t)$) and velocity $v(t)$. The high-level EKF filter estimates the vehicles $XY$ coordinates by fusing INS equtions for the vehicle which is nonlinear and the measurements of the GPS in ENU coords. The EKF takes as input the heading and velocity estimates outputted by KF filter in a cascading fashion.\n",
    "\n",
    "The primary difference between an EKF and KF filter is the use of the nonlinear process and measurement models $f(x, u)$ and $h(x)$, respectively during the predict phase, and the use of Jacobians $A_k = \\frac{\\partial{f}}{\\partial{x}}$ and $H_k = \\frac{\\partial{h}}{\\partial{x}}$ in the KF predict and correct phase, respectively.\n"
   ]
  },
  {
   "cell_type": "markdown",
   "metadata": {},
   "source": [
    "Let the state vector be,\n",
    "$$\n",
    "x = \\left(\\begin{matrix}\n",
    "  p_x \\\\\n",
    "  p_y \n",
    "\\end{matrix}\\right)\n",
    "$$\n",
    "\n",
    "The process model is as follows:\n",
    "$$\n",
    "\\begin{align}\n",
    "\\dot{p}_x(t) &= v(t)\\cos(\\theta(t)) \\\\\n",
    "\\dot{p}_y(t) &= v(t)\\sin(\\theta(t)),\n",
    "\\end{align}\n",
    "$$"
   ]
  },
  {
   "cell_type": "code",
   "execution_count": 390,
   "metadata": {},
   "outputs": [],
   "source": [
    "v = sp.Symbol('v')\n",
    "theta = sp.Symbol('theta')\n",
    "px = sp.Symbol('p_x')\n",
    "py = sp.Symbol('p_y')\n",
    "x = sp.Matrix([[px], [py]])\n",
    "u = sp.Matrix([[v], [theta]])\n",
    "xdot = sp.Matrix([[v*sp.cos(theta)], [v*sp.sin(theta)]])"
   ]
  },
  {
   "cell_type": "code",
   "execution_count": 391,
   "metadata": {},
   "outputs": [
    {
     "data": {
      "text/latex": [
       "$\\displaystyle \\left[\\begin{matrix}v \\cos{\\left(\\theta \\right)}\\\\v \\sin{\\left(\\theta \\right)}\\end{matrix}\\right]$"
      ],
      "text/plain": [
       "Matrix([\n",
       "[v*cos(theta)],\n",
       "[v*sin(theta)]])"
      ]
     },
     "execution_count": 391,
     "metadata": {},
     "output_type": "execute_result"
    }
   ],
   "source": [
    "xdot"
   ]
  },
  {
   "cell_type": "code",
   "execution_count": 392,
   "metadata": {},
   "outputs": [
    {
     "data": {
      "text/latex": [
       "$\\displaystyle \\left[\\begin{matrix}p_{x}\\\\p_{y}\\end{matrix}\\right]$"
      ],
      "text/plain": [
       "Matrix([\n",
       "[p_x],\n",
       "[p_y]])"
      ]
     },
     "execution_count": 392,
     "metadata": {},
     "output_type": "execute_result"
    }
   ],
   "source": [
    "x"
   ]
  },
  {
   "cell_type": "code",
   "execution_count": 394,
   "metadata": {},
   "outputs": [
    {
     "data": {
      "text/latex": [
       "$\\displaystyle \\left[\\begin{matrix}v\\\\\\theta\\end{matrix}\\right]$"
      ],
      "text/plain": [
       "Matrix([\n",
       "[    v],\n",
       "[theta]])"
      ]
     },
     "execution_count": 394,
     "metadata": {},
     "output_type": "execute_result"
    }
   ],
   "source": [
    "u"
   ]
  },
  {
   "cell_type": "code",
   "execution_count": 381,
   "metadata": {},
   "outputs": [
    {
     "data": {
      "text/latex": [
       "$\\displaystyle \\left[\\begin{matrix}0 & 0\\\\0 & 0\\end{matrix}\\right]$"
      ],
      "text/plain": [
       "Matrix([\n",
       "[0, 0],\n",
       "[0, 0]])"
      ]
     },
     "execution_count": 381,
     "metadata": {},
     "output_type": "execute_result"
    }
   ],
   "source": [
    "xdot.jacobian(x)"
   ]
  },
  {
   "cell_type": "code",
   "execution_count": 382,
   "metadata": {},
   "outputs": [
    {
     "data": {
      "text/latex": [
       "$\\displaystyle \\left[\\begin{matrix}\\cos{\\left(\\theta \\right)} & - v \\sin{\\left(\\theta \\right)}\\\\\\sin{\\left(\\theta \\right)} & v \\cos{\\left(\\theta \\right)}\\end{matrix}\\right]$"
      ],
      "text/plain": [
       "Matrix([\n",
       "[cos(theta), -v*sin(theta)],\n",
       "[sin(theta),  v*cos(theta)]])"
      ]
     },
     "execution_count": 382,
     "metadata": {},
     "output_type": "execute_result"
    }
   ],
   "source": [
    "xdot.jacobian(u)"
   ]
  },
  {
   "cell_type": "code",
   "execution_count": null,
   "metadata": {},
   "outputs": [
    {
     "data": {
      "text/latex": [
       "$\\displaystyle \\left[\\begin{matrix}1\\\\1\\end{matrix}\\right]$"
      ],
      "text/plain": [
       "Matrix([\n",
       "[1],\n",
       "[1]])"
      ]
     },
     "execution_count": 404,
     "metadata": {},
     "output_type": "execute_result"
    }
   ],
   "source": [
    "u.subs({v: 1, theta: 1})"
   ]
  },
  {
   "cell_type": "code",
   "execution_count": null,
   "metadata": {},
   "outputs": [
    {
     "data": {
      "text/plain": [
       "array([[1],\n",
       "       [1]])"
      ]
     },
     "execution_count": 410,
     "metadata": {},
     "output_type": "execute_result"
    }
   ],
   "source": [
    "s = (v, theta)\n",
    "sp.lambdify(s, u, modules=\"numpy\")(1, 1)"
   ]
  },
  {
   "cell_type": "code",
   "execution_count": 414,
   "metadata": {},
   "outputs": [
    {
     "data": {
      "text/latex": [
       "$\\displaystyle \\left[\\begin{matrix}p_{x}\\\\p_{y}\\end{matrix}\\right]$"
      ],
      "text/plain": [
       "Matrix([\n",
       "[p_x],\n",
       "[p_y]])"
      ]
     },
     "execution_count": 414,
     "metadata": {},
     "output_type": "execute_result"
    }
   ],
   "source": [
    "y = sp.Matrix([[1, 0], [0, 1]])*sp.Matrix([[px], [py]])\n",
    "y"
   ]
  },
  {
   "cell_type": "code",
   "execution_count": 415,
   "metadata": {},
   "outputs": [
    {
     "data": {
      "text/latex": [
       "$\\displaystyle \\left[\\begin{matrix}1 & 0\\\\0 & 1\\end{matrix}\\right]$"
      ],
      "text/plain": [
       "Matrix([\n",
       "[1, 0],\n",
       "[0, 1]])"
      ]
     },
     "execution_count": 415,
     "metadata": {},
     "output_type": "execute_result"
    }
   ],
   "source": [
    "y.jacobian(x)"
   ]
  },
  {
   "cell_type": "code",
   "execution_count": 411,
   "metadata": {},
   "outputs": [],
   "source": [
    "# KF params.\n",
    "A_k_kf = np.array([[1, 0],\n",
    "                [0, 1]])\n",
    "B_k_kf = np.array([[T_acc, 0],\n",
    "                [0, T_gyr]])\n",
    "H_k_kf = np.array([[1, 0],\n",
    "                [0, 1]\n",
    "                ])"
   ]
  },
  {
   "cell_type": "code",
   "execution_count": null,
   "metadata": {},
   "outputs": [],
   "source": [
    "# KF/EKF noise covariances.\n",
    "Q_k = np.array([[12.5*T_acc**2, 0],\n",
    "                [0, 0.001*T_gyr**2]])\n",
    "R_k = np.array([[0.06, 0],\n",
    "                [0, 0.06]])"
   ]
  },
  {
   "cell_type": "code",
   "execution_count": 479,
   "metadata": {},
   "outputs": [],
   "source": [
    "A_k_ekf = lambda x, u: np.array([[1, 0],\n",
    "                                 [0, 1]])\n",
    "H_k_ekf = lambda x: np.array([[1, 0],\n",
    "                              [0, 1]\n",
    "                              ])"
   ]
  },
  {
   "cell_type": "code",
   "execution_count": 480,
   "metadata": {},
   "outputs": [],
   "source": [
    "f = lambda x, u: np.array([u[0]*np.cos(u[1]), u[0]*np.sin(u[1])]).reshape((2, 1))\n",
    "h = lambda x: H_k_ekf(None) @ x"
   ]
  },
  {
   "cell_type": "code",
   "execution_count": 450,
   "metadata": {},
   "outputs": [
    {
     "data": {
      "text/plain": [
       "array([[0.54030231],\n",
       "       [0.84147098]])"
      ]
     },
     "execution_count": 450,
     "metadata": {},
     "output_type": "execute_result"
    }
   ],
   "source": [
    "f(None, np.array([1, 1]).reshape(2, 1))"
   ]
  },
  {
   "cell_type": "code",
   "execution_count": 451,
   "metadata": {},
   "outputs": [
    {
     "data": {
      "text/plain": [
       "array([[1],\n",
       "       [1]])"
      ]
     },
     "execution_count": 451,
     "metadata": {},
     "output_type": "execute_result"
    }
   ],
   "source": [
    "h(np.array([1, 1]).reshape(2, 1))"
   ]
  },
  {
   "cell_type": "code",
   "execution_count": 496,
   "metadata": {},
   "outputs": [],
   "source": [
    "#  Instantiate KF/EKF.\n",
    "heading_speed_kf = DiscreteKF(A_k_kf, B_k_kf, H_k_kf, Q_k, R_k)\n",
    "xy_ekf = DiscreteEKF(f, h, A_k_ekf, H_k_ekf, Q_k, R_k)"
   ]
  },
  {
   "cell_type": "code",
   "execution_count": 497,
   "metadata": {},
   "outputs": [],
   "source": [
    "# Init filters with I.C.\n",
    "x0_kf = np.array([0, np.deg2rad(28.8)]).reshape((2, 1))\n",
    "P0_kf = np.eye(2)\n",
    "x0_ekf = np.array([0, 0]).reshape((2, 1))\n",
    "P0_ekf = np.eye(2)\n",
    "heading_speed_kf.init_filter(x0_kf, P0_kf)\n",
    "xy_ekf.init_filter(x0_ekf, P0_ekf)"
   ]
  },
  {
   "cell_type": "code",
   "execution_count": 498,
   "metadata": {},
   "outputs": [],
   "source": [
    "# Filter loop.\n",
    "pred_vel_log = []\n",
    "pred_theta_log = []\n",
    "pred_x_log = []\n",
    "pred_y_log = []\n",
    "time_log = []\n",
    "for i, row in data_seq_df.iterrows():\n",
    "    t, zk, typ = row\n",
    "\n",
    "    if (typ == GPS_VEL_TYPE):\n",
    "        continue\n",
    "    elif (typ == GPS_X_TYPE):\n",
    "        continue\n",
    "    elif (typ == GPS_Y_TYPE):\n",
    "        continue\n",
    "    elif (typ == GPS_Z_TYPE):\n",
    "        continue\n",
    "\n",
    "    pred_kf = heading_speed_kf.get_state_estim()\n",
    "    pred_ekf = xy_ekf.get_state_estim()\n",
    "    pred_vel_log.append(pred_kf[0])\n",
    "    pred_theta_log.append(pred_kf[1])\n",
    "    pred_x_log.append(pred_ekf[0])\n",
    "    pred_y_log.append(pred_ekf[1])\n",
    "    time_log.append(t)\n",
    "\n",
    "\n",
    "    if (typ == ACCEL_TYPE):\n",
    "        uk = np.array([zk, 0]).reshape((2, 1))\n",
    "        heading_speed_kf.predict(uk)\n",
    "\n",
    "    elif (typ == GYRO_TYPE):\n",
    "        uk = np.array([0, zk]).reshape((2, 1))\n",
    "        heading_speed_kf.predict(uk)\n",
    "\n",
    "    # Make prediction anytime IMU gets activated.\n",
    "    if (typ == ACCEL_TYPE or typ == GYRO_TYPE):\n",
    "        uk = heading_speed_kf.get_state_estim()\n",
    "        xy_ekf.predict(uk)\n",
    "\n",
    "    elif (typ == GPS_THETA_TYPE):\n",
    "        assert data_seq_df.iloc[i]['Type'] == GPS_THETA_TYPE\n",
    "        assert data_seq_df.iloc[i+1]['Type'] == GPS_VEL_TYPE\n",
    "        assert data_seq_df.iloc[i+2]['Type'] == GPS_X_TYPE\n",
    "        assert data_seq_df.iloc[i+3]['Type'] == GPS_Y_TYPE\n",
    "        assert data_seq_df.iloc[i+4]['Type'] == GPS_Z_TYPE\n",
    "\n",
    "        yk_theta = data_seq_df.iloc[i]['Measurement']\n",
    "        yk_vel = data_seq_df.iloc[i+1]['Measurement']\n",
    "        yk_x = data_seq_df.iloc[i+2]['Measurement']\n",
    "        yk_y = data_seq_df.iloc[i+3]['Measurement']\n",
    "        yk_z = data_seq_df.iloc[i+4]['Measurement']\n",
    "        zk = np.array([yk_vel, yk_theta]).reshape(2, 1)\n",
    "        heading_speed_kf.correct(zk)\n",
    "\n",
    "        zk = np.array([yk_x, yk_y]).reshape(2, 1)\n",
    "        xy_ekf.correct(zk)\n",
    "\n"
   ]
  },
  {
   "cell_type": "markdown",
   "metadata": {},
   "source": [
    "## Plot All Results"
   ]
  },
  {
   "cell_type": "code",
   "execution_count": 470,
   "metadata": {},
   "outputs": [
    {
     "data": {
      "text/plain": [
       "((372574, 2),\n",
       " array([[-5.92200000e-04, -2.44200000e-06],\n",
       "        [-1.18440000e-03, -4.88400000e-06],\n",
       "        [-1.76610000e-03, -4.63980000e-06],\n",
       "        ...,\n",
       "        [-9.70480329e+01, -2.19044774e-01],\n",
       "        [-9.70487175e+01, -2.19045537e-01],\n",
       "        [-9.70495218e+01, -2.19046301e-01]]))"
      ]
     },
     "execution_count": 470,
     "metadata": {},
     "output_type": "execute_result"
    }
   ],
   "source": [
    "vel_cum = np.cumsum(traj_acc_yaxis_vec)*T_acc\n",
    "theta_cum = np.cumsum(traj_gyr_zaxis_vec)*T_gyr\n",
    "assert vel_cum.shape == traj_acc_time_vec.shape\n",
    "assert theta_cum.shape == traj_gyr_time_vec.shape\n",
    "raw_ins = np.stack((vel_cum[0: -4], theta_cum), axis=1)\n",
    "raw_ins.shape, raw_ins"
   ]
  },
  {
   "cell_type": "code",
   "execution_count": 469,
   "metadata": {},
   "outputs": [
    {
     "data": {
      "text/plain": [
       "((372578,), (372574,))"
      ]
     },
     "execution_count": 469,
     "metadata": {},
     "output_type": "execute_result"
    }
   ],
   "source": [
    "vel_cum.shape, theta_cum.shape"
   ]
  },
  {
   "cell_type": "code",
   "execution_count": 473,
   "metadata": {},
   "outputs": [
    {
     "data": {
      "text/plain": [
       "((372574, 2),\n",
       " array([[-5.92200000e-04,  1.44615240e-09],\n",
       "        [-1.18440000e-03,  5.78460960e-09],\n",
       "        [-1.76610000e-03,  8.19435078e-09],\n",
       "        ...,\n",
       "        [-9.47291151e+01,  2.10882775e+01],\n",
       "        [-9.47297672e+01,  2.10884986e+01],\n",
       "        [-9.47305362e+01,  2.10887457e+01]]))"
      ]
     },
     "execution_count": 473,
     "metadata": {},
     "output_type": "execute_result"
    }
   ],
   "source": [
    "raw_xy = np.apply_along_axis(lambda row: np.array([row[0]*np.cos(row[1]), row[0]*np.sin(row[1])]), 1, raw_ins)\n",
    "raw_xy.shape, raw_xy"
   ]
  },
  {
   "cell_type": "code",
   "execution_count": 484,
   "metadata": {},
   "outputs": [
    {
     "data": {
      "text/plain": [
       "<matplotlib.legend.Legend at 0x364478290>"
      ]
     },
     "execution_count": 484,
     "metadata": {},
     "output_type": "execute_result"
    },
    {
     "data": {
      "image/png": "[encoded data removed]",
      "text/plain": [
       "<Figure size 640x480 with 1 Axes>"
      ]
     },
     "metadata": {},
     "output_type": "display_data"
    }
   ],
   "source": [
    "# Plot INS, GPS, Kalman Filter estimate of vehicle speed over time.\n",
    "plt.title(\"INS, GPS, Kalman Filter Estimate of Vehicle Speed with Bias\")\n",
    "plt.xlabel(\"Time (s)\")\n",
    "plt.ylabel(\"Vel (m/s)\")\n",
    "plt.plot(time_log, pred_vel_log, label=\"estimate\")\n",
    "plt.plot(traj_acc_time_vec, vel_cum, label=\"accel cum\")\n",
    "plt.plot(traj_gps_time_vec, traj_gps_vel_vec, \"--\", label=\"gps\")\n",
    "plt.legend()"
   ]
  },
  {
   "cell_type": "code",
   "execution_count": 485,
   "metadata": {},
   "outputs": [
    {
     "data": {
      "text/plain": [
       "<matplotlib.legend.Legend at 0x389dfb650>"
      ]
     },
     "execution_count": 485,
     "metadata": {},
     "output_type": "execute_result"
    },
    {
     "data": {
      "image/png": "[encoded data removed]",
      "text/plain": [
       "<Figure size 640x480 with 1 Axes>"
      ]
     },
     "metadata": {},
     "output_type": "display_data"
    }
   ],
   "source": [
    "# Plot INS, GPS, Kalman Filter estimate of vehicle heading over time.\n",
    "plt.title(\"INS, GPS, Kalman Filter Estimate of Vehicle Heading with Bias\")\n",
    "plt.xlabel(\"Time (s)\")\n",
    "plt.ylabel(\"Heading (rad)\")\n",
    "plt.plot(time_log, pred_theta_log, label=\"estimate\")\n",
    "plt.plot(traj_gyr_time_vec, theta_cum, label=\"accel cum\")\n",
    "plt.plot(traj_gps_time_vec, traj_gps_theta_vec, \"--\", label=\"gps\")\n",
    "plt.legend()"
   ]
  },
  {
   "cell_type": "code",
   "execution_count": 503,
   "metadata": {},
   "outputs": [
    {
     "data": {
      "text/plain": [
       "<matplotlib.legend.Legend at 0x3621d4590>"
      ]
     },
     "execution_count": 503,
     "metadata": {},
     "output_type": "execute_result"
    },
    {
     "data": {
      "image/png": "[encoded data removed]",
      "text/plain": [
       "<Figure size 640x480 with 1 Axes>"
      ]
     },
     "metadata": {},
     "output_type": "display_data"
    }
   ],
   "source": [
    "# Plot INS, GPS, Kalman Filter estimate of vehicle xy pos over time.\n",
    "plt.title(\"INS, GPS, Kalman Filter Estimate of Vehicle X pos with Bias\")\n",
    "plt.xlabel(\"Time (s)\")\n",
    "plt.ylabel(\"X (m)\")\n",
    "plt.plot(time_log, pred_x_log, \".\", label=\"estimate(x)\")\n",
    "plt.plot(traj_gyr_time_vec, raw_xy[:, 0], \"--\", label=\"raw ins x\")\n",
    "plt.plot(traj_gps_time_vec, traj_gps_enu_vec[:, 0], \"--\", label=\"gps x\")\n",
    "plt.legend()"
   ]
  },
  {
   "cell_type": "code",
   "execution_count": 504,
   "metadata": {},
   "outputs": [
    {
     "data": {
      "text/plain": [
       "<matplotlib.legend.Legend at 0x38fb5c800>"
      ]
     },
     "execution_count": 504,
     "metadata": {},
     "output_type": "execute_result"
    },
    {
     "data": {
      "image/png": "[encoded data removed]",
      "text/plain": [
       "<Figure size 640x480 with 1 Axes>"
      ]
     },
     "metadata": {},
     "output_type": "display_data"
    }
   ],
   "source": [
    "# Plot INS, GPS, Kalman Filter estimate of vehicle xy pos over time.\n",
    "plt.title(\"INS, GPS, Kalman Filter Estimate of Vehicle Y pos with Bias\")\n",
    "plt.xlabel(\"Time (s)\")\n",
    "plt.ylabel(\"Y (m)\")\n",
    "plt.plot(time_log, pred_y_log, \".\", label=\"estimate(y)\")\n",
    "plt.plot(traj_gyr_time_vec, raw_xy[:, 1], \"--\", label=\"raw ins y\")\n",
    "plt.plot(traj_gps_time_vec, traj_gps_enu_vec[:, 1], \"--\", label=\"gps y\")\n",
    "plt.legend()"
   ]
  }
 ],
 "metadata": {
  "kernelspec": {
   "display_name": "kalman",
   "language": "python",
   "name": "python3"
  },
  "language_info": {
   "codemirror_mode": {
    "name": "ipython",
    "version": 3
   },
   "file_extension": ".py",
   "mimetype": "text/x-python",
   "name": "python",
   "nbconvert_exporter": "python",
   "pygments_lexer": "ipython3",
   "version": "3.12.7"
  }
 },
 "nbformat": 4,
 "nbformat_minor": 2
}
